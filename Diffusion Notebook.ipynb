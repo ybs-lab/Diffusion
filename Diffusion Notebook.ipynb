{
 "cells": [
  {
   "cell_type": "markdown",
   "id": "72cf9ffe",
   "metadata": {},
   "source": [
    "# Setup"
   ]
  },
  {
   "cell_type": "code",
   "execution_count": 1,
   "id": "93d221e6",
   "metadata": {},
   "outputs": [],
   "source": [
    "%matplotlib notebook\n",
    "%load_ext autoreload\n",
    "%autoreload 2\n",
    "\n",
    "import ipywidgets as widgets\n",
    "from ipywidgets import interact\n",
    "from IPython.display import HTML,clear_output\n",
    "from importlib import reload\n",
    "\n",
    "import itertools\n",
    "import numpy as np\n",
    "from numba import njit,double\n",
    "import pandas as pd\n",
    "import seaborn as sns\n",
    "import matplotlib.pyplot as plt\n",
    "import matplotlib.animation as animation\n",
    "import plotly.express as px\n",
    "import plotly.graph_objects as go\n",
    "\n",
    "from importData import import_all,generate_diffuse_tether_trajectories\n",
    "import displayData\n",
    "import trajAnalysis\n",
    "import bayesianTools\n",
    "from model_utils import GenerationMode\n",
    "from utils import notebook_setup_widgets"
   ]
  },
  {
   "cell_type": "markdown",
   "id": "e242b223",
   "metadata": {},
   "source": [
    "# Import a dataframe\n",
    "\n",
    "## Import experimental data\n",
    "\n",
    "*Note*: The first import after will include reading from .csv and saving to a binary feather file and might take a few minutes.\n",
    "\n",
    "#### Select experiments and/or particles with the widgets:"
   ]
  },
  {
   "cell_type": "code",
   "execution_count": null,
   "id": "0b2d2cbf",
   "metadata": {
    "scrolled": false
   },
   "outputs": [],
   "source": [
    "full_df = import_all();df = full_df.copy();\n",
    "expSelectWidget,rdmEnableWidget,rdmSameVideoWidget,keepStuckWidget,rdmSelectionWidget,specificEnableWidget,specificParticleSelectionWidget,buttonFilterWidget,filterDataframesFun=notebook_setup_widgets(widgets)\n",
    "expSelectWidget.options = full_df.experiment.unique(); specificParticleSelectionWidget.min = full_df.particle.min(); specificParticleSelectionWidget.max = full_df.particle.max(); buttonFilterWidget.on_click(lambda b: filterDataframesFun(full_df,df))    \n",
    "display(expSelectWidget,widgets.HBox((widgets.VBox((rdmEnableWidget,keepStuckWidget)),widgets.VBox((rdmSelectionWidget,rdmSameVideoWidget)))),widgets.HBox((specificEnableWidget,specificParticleSelectionWidget)),buttonFilterWidget)"
   ]
  },
  {
   "cell_type": "markdown",
   "id": "a16c02f6",
   "metadata": {},
   "source": [
    "### Alternatively, create a synthetic dataframe:"
   ]
  },
  {
   "cell_type": "code",
   "execution_count": null,
   "id": "f9c8c3a9",
   "metadata": {
    "scrolled": true
   },
   "outputs": [],
   "source": [
    "N_steps = 1000\n",
    "N_particle=4\n",
    "\n",
    "dt=1./30\n",
    "T_stick= 200*dt\n",
    "T_unstick= 300*dt\n",
    "D= 0.3333\n",
    "A= 0.04444/10\n",
    "\n",
    "generation_mode=GenerationMode.DONT_FORCE #keep this\n",
    "init_S=None #random\n",
    "do_post_processing=False #calculate some extra statistics, this takes a short while\n",
    "undersample_ratio=0#0.1\n",
    "save_files=False\n",
    "is_parallel=False #relevant only if do_post_processing==True\n",
    "\n",
    "df=generate_diffuse_tether_trajectories(T_stick, T_unstick, D, A,dt, N_steps,  N_particle, init_S,\n",
    "                                     do_post_processing,undersample_ratio, save_files, generation_mode, is_parallel)\n",
    "\n",
    "true_df = df.copy()"
   ]
  },
  {
   "cell_type": "markdown",
   "id": "cb8a561d",
   "metadata": {},
   "source": [
    "#### Check optimization stuff"
   ]
  },
  {
   "cell_type": "code",
   "execution_count": null,
   "id": "a4c7afe3",
   "metadata": {},
   "outputs": [],
   "source": [
    "import time\n",
    "X_arr_list = bayesianTools.extract_X_arr_list_from_df(df)\n",
    "dt_list = bayesianTools.extract_dt_list_from_df(df)\n",
    "\n",
    "def costFun(params):\n",
    "#     TT_stick,TT_unstick,DD,AA = params\n",
    "    DD,AA = params\n",
    "    TT_stick = T_stick\n",
    "    TT_unstick = T_unstick\n",
    "    t = time.time()\n",
    "    L = bayesianTools.multiple_trajectories_likelihood(X_arr_list, dt_list, TT_stick, TT_unstick, DD, AA,\n",
    "                                     is_parallel=False)\n",
    "    print(\"Params=[{},{},{},{}]; L={}; In {} sec\".format(\n",
    "    np.round(TT_stick,0),np.round(TT_unstick,0),np.round(DD,9),np.round(AA,9),np.round(L,9),np.round(time.time()-t,1)))\n",
    "    return -L"
   ]
  },
  {
   "cell_type": "code",
   "execution_count": null,
   "id": "ff0a5d91",
   "metadata": {},
   "outputs": [],
   "source": [
    "import scipy\n",
    "\n",
    "res = scipy.optimize.minimize(costFun, [D*2,A/2])"
   ]
  },
  {
   "cell_type": "markdown",
   "id": "a870f92d",
   "metadata": {},
   "source": [
    "#### Check that the Viterbi paths are close enough to the true paths"
   ]
  },
  {
   "cell_type": "code",
   "execution_count": null,
   "id": "5bc49ec9",
   "metadata": {},
   "outputs": [],
   "source": [
    "N_rows = int(np.ceil(N_particle/2))\n",
    "fig,ax=plt.subplots(N_rows,2)\n",
    "reload(trajAnalysis)\n",
    "reload(bayesianTools)\n",
    "for i in range(N_particle):\n",
    "    n = i % N_rows\n",
    "    m = int(i/N_rows)\n",
    "    cur_df = df.groupby(\"particle\").get_group(i)        \n",
    "    X_arr = cur_df[[\"x\",\"y\"]].values\n",
    "\n",
    "    params = [T_stick,T_unstick,D,A]\n",
    "#     S,XT,_=bayesianTools.viterbi_algorithm(X_arr,\n",
    "#                                            T_stick, \n",
    "#                                            T_unstick, \n",
    "#                                            D, A, dt)\n",
    "    S,XT,_ = bayesianTools.viterbi_algorithm(X_arr,T_stick,T_unstick,D,A,dt,True)\n",
    "    fullState= [[S[j],X_arr[j],XT[j]] for j in range(N_steps)]\n",
    "\n",
    "    S_true = cur_df.state.values\n",
    "    XT_true = cur_df[[\"x_tether\",\"y_tether\"]].values\n",
    "\n",
    "    fullState_true= [[S_true[j],X_arr[j],XT_true[j]] for j in range(N_steps)]\n",
    "\n",
    "    cur_df_copy = cur_df.copy()\n",
    "    cur_df_copy.loc[:,\"state\"]=S\n",
    "\n",
    "    ax[n,m].plot(np.arange(N_steps),cur_df.state,'-')\n",
    "    ax[n,m].plot(np.arange(N_steps),S,'--')\n",
    "        "
   ]
  },
  {
   "cell_type": "code",
   "execution_count": null,
   "id": "00d974e4",
   "metadata": {},
   "outputs": [],
   "source": [
    "from model import pack_model_params,model_trajectory_log_probability\n",
    "model_params = pack_model_params(T_stick,T_unstick,D,A,dt)\n",
    "S_tru = cur_df.state.values\n",
    "reload(bayesianTools)\n",
    "L_est=model_trajectory_log_probability(S,X_arr,model_params)\n",
    "L_tru=model_trajectory_log_probability(S_tru,X_arr,model_params)\n",
    "print(f\"L_true: {L_tru}, L_est: {L_est}\")\n"
   ]
  },
  {
   "cell_type": "markdown",
   "id": "adeaa7a6",
   "metadata": {},
   "source": [
    "# Display Some Graphs\n",
    "\n",
    "## Show trajectories"
   ]
  },
  {
   "cell_type": "code",
   "execution_count": null,
   "id": "1e13e022",
   "metadata": {
    "scrolled": false
   },
   "outputs": [],
   "source": [
    "startAtOrigin=False\n",
    "if startAtOrigin:\n",
    "    plotly_df=trajAnalysis.shift_traj_to_origin(df)\n",
    "else:\n",
    "    plotly_df = df.copy()\n",
    "plotly_df.y *=-1\n",
    "plotly_df[\"particle_state\"] = plotly_df.particle.astype(str)+\"_\"+plotly_df.state.astype(str)\n",
    "fig = px.line(plotly_df, x=\"x\", y=\"y\", color='particle_state',hover_data=['frame'],color_discrete_sequence=px.colors.qualitative.D3,)\n",
    "fig.update_yaxes(scaleanchor = \"x\",scaleratio = 1,)\n",
    "fig.show()"
   ]
  },
  {
   "cell_type": "markdown",
   "id": "90f108eb",
   "metadata": {},
   "source": [
    "## Trajectories Animation:"
   ]
  },
  {
   "cell_type": "code",
   "execution_count": null,
   "id": "bb798ea8",
   "metadata": {
    "scrolled": false,
    "tags": [
     "hide-output"
    ]
   },
   "outputs": [],
   "source": [
    "reload(displayData)\n",
    "max_frame = 51\n",
    "startAtOrigin=True\n",
    "doneTrajNoMarker=True\n",
    "dispLegend=False\n",
    "if \"Traj_fig\" in locals() : plt.close(Traj_fig)\n",
    "Traj_fig, Traj_ax = plt.subplots(figsize=(5,5))\n",
    "drawnLines=displayData.plot_trajectories(df,curParticlePivotSize=5., t_end=max_frame, doneTrajNoMarker=doneTrajNoMarker,startAtOrigin=startAtOrigin,dispLegend=False, ax=Traj_ax, useDrawnLines=False, drawnLines=[],hideLines=True,axForVelocityPlot=[],particlesForFixedColoring = [])\n",
    "def animateTraj(t_end):\n",
    "    displayData.notebook_animate_traj(df,Traj_ax,t_end,max_frame,startAtOrigin=startAtOrigin,doneTrajNoMarker=doneTrajNoMarker,dispLegend=dispLegend,useDrawnLines=True,drawnLines=drawnLines,fps=0.,axForVelocityPlot=[],particlesForFixedColoring=[],curParticlePivotSize=5.)\n",
    "ani = animation.FuncAnimation(Traj_fig, animateTraj, frames=max_frame); clear_output(wait=True); HTML(ani.to_jshtml())"
   ]
  },
  {
   "cell_type": "markdown",
   "id": "79108896",
   "metadata": {},
   "source": [
    "## MSD Plot:"
   ]
  },
  {
   "cell_type": "code",
   "execution_count": null,
   "id": "bec23768",
   "metadata": {
    "scrolled": false
   },
   "outputs": [],
   "source": [
    "default_groupby = \"experiment\"\n",
    "if \"MSD_fig\" in locals() : plt.close(MSD_fig)\n",
    "MSD_fig, MSD_ax = plt.subplots(figsize=(6, 4))\n",
    "@interact(Log_Scale=True,group_by=[\"experiment\",\"particle\"],max_lagtime=(100,2000,10),N_sample_points = (2,101,1),equal_weight_per_particle=True)\n",
    "#def update(group_by=\"experiment\",Log_Scale=True,equal_weight_per_particle=True,step_lagtime=5,max_lagtime=100,):\n",
    "def update(group_by=default_groupby,Log_Scale=False,equal_weight_per_particle=True,N_sample_points=21,max_lagtime=1000,):\n",
    "    MSD_ax.cla()\n",
    "    displayData.plot_MSD(df,isdfPadded=True, lagtime=np.unique(np.round(np.logspace(0,np.log10(max_lagtime),N_sample_points))), group_by=group_by, logscale=Log_Scale, ax=MSD_ax,eqParticleWeight=equal_weight_per_particle)\n",
    "    MSD_ax.grid(True)"
   ]
  },
  {
   "cell_type": "markdown",
   "id": "041b085c",
   "metadata": {},
   "source": [
    "## Displacement Distribution $G(\\Delta x,\\Delta t)$:"
   ]
  },
  {
   "cell_type": "code",
   "execution_count": null,
   "id": "d6a21ead",
   "metadata": {
    "scrolled": false
   },
   "outputs": [],
   "source": [
    "# set up plot\n",
    "if \"G_fig\" in locals() : plt.close(G_fig)\n",
    "G_fig, G_ax = plt.subplots(figsize=(6, 4))\n",
    "\n",
    "dt_default = 3\n",
    "xlim_default = 5.\n",
    "\n",
    "@interact(dt=(1, min(200,df.frame.max()-1), 1),semiLogScale=True,direction=[\"xy\", \"x\", \"y\"],group_by=[\"experiment\",\"particle\"],x_lim=(1., 30., 0.5),equal_weight_per_particle=True, clearAxes = True)\n",
    "def update(dt=dt_default,x_lim=xlim_default,group_by=\"experiment\",direction=\"xy\",semiLogScale=True,equal_weight_per_particle=True,clearAxes = True):\n",
    "    if clearAxes: G_ax.cla()        \n",
    "    displayData.plot_G_dx_dt(df\n",
    "                             ,isdfPadded=True, direction=direction, group_by=group_by, dt=dt, return_stats=False,semilogscale=semiLogScale,ax=G_ax,equal_particle_weight=equal_weight_per_particle)\n",
    "    G_ax.set_xlim([-x_lim,x_lim])\n",
    "    G_ax.set_ylim([1e-6,1e1]) if semiLogScale else G_ax.set_ylim([0,2.])   \n",
    "    G_ax.grid(True)\n",
    "    \n",
    "#     sns.move_legend(G_ax,\"lower left\")\n",
    "#     plt.setp(G_ax.get_legend().get_texts(), fontsize='7')  # for legend text\n",
    "#     plt.setp(G_ax.get_legend().get_title(), fontsize='8')  # for legend title\n"
   ]
  }
 ],
 "metadata": {
  "kernelspec": {
   "display_name": "Python 3 (ipykernel)",
   "language": "python",
   "name": "python3"
  },
  "language_info": {
   "codemirror_mode": {
    "name": "ipython",
    "version": 3
   },
   "file_extension": ".py",
   "mimetype": "text/x-python",
   "name": "python",
   "nbconvert_exporter": "python",
   "pygments_lexer": "ipython3",
   "version": "3.8.12"
  }
 },
 "nbformat": 4,
 "nbformat_minor": 5
}
