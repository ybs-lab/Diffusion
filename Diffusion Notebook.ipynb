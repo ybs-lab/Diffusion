{
 "cells": [
  {
   "cell_type": "markdown",
   "id": "72cf9ffe",
   "metadata": {},
   "source": [
    "# Setup"
   ]
  },
  {
   "cell_type": "code",
   "execution_count": 1,
   "id": "93d221e6",
   "metadata": {},
   "outputs": [],
   "source": [
    "%matplotlib notebook\n",
    "import ipywidgets as widgets\n",
    "from ipywidgets import interact\n",
    "import numpy as np\n",
    "import itertools\n",
    "import pandas as pd\n",
    "import seaborn as sns\n",
    "import matplotlib.pyplot as plt\n",
    "import matplotlib.animation as animation\n",
    "from IPython.display import HTML,clear_output\n",
    "from importlib import reload\n",
    "from importData import importAll\n",
    "import displayData\n",
    "#from generateTrajectories import generateDiffuseTetherModel\n",
    "import generateTrajectories\n",
    "import bayesianTools\n",
    "from extras import notebookSetupWidgets\n",
    "import trajAnalysis\n",
    "import plotly.express as px\n",
    "import plotly.graph_objects as go\n",
    "from scipy.signal import spectrogram\n",
    "from scipy.special import factorial"
   ]
  },
  {
   "cell_type": "markdown",
   "id": "e242b223",
   "metadata": {},
   "source": [
    "# Import a dataframe\n",
    "\n",
    "## Import experimental data\n",
    "\n",
    "*Note*: The first import after will include reading from .csv and saving to a binary feather file and might take a few minutes.\n",
    "\n",
    "#### Select experiments and/or particles with the widgets:"
   ]
  },
  {
   "cell_type": "code",
   "execution_count": null,
   "id": "0b2d2cbf",
   "metadata": {
    "scrolled": false
   },
   "outputs": [],
   "source": [
    "full_df = importAll();df = full_df.copy();\n",
    "expSelectWidget,rdmEnableWidget,rdmSameVideoWidget,keepStuckWidget,rdmSelectionWidget,specificEnableWidget,specificParticleSelectionWidget,buttonFilterWidget,filterDataframesFun=notebookSetupWidgets(widgets)\n",
    "expSelectWidget.options = full_df.experiment.unique(); specificParticleSelectionWidget.min = full_df.particle.min(); specificParticleSelectionWidget.max = full_df.particle.max(); buttonFilterWidget.on_click(lambda b: filterDataframesFun(full_df,df))    \n",
    "display(expSelectWidget,widgets.HBox((widgets.VBox((rdmEnableWidget,keepStuckWidget)),widgets.VBox((rdmSelectionWidget,rdmSameVideoWidget)))),widgets.HBox((specificEnableWidget,specificParticleSelectionWidget)),buttonFilterWidget)"
   ]
  },
  {
   "cell_type": "markdown",
   "id": "a16c02f6",
   "metadata": {},
   "source": [
    "### Alternatively, create a synthetic dataframe:"
   ]
  },
  {
   "cell_type": "code",
   "execution_count": 16,
   "id": "9555a057",
   "metadata": {},
   "outputs": [
    {
     "data": {
      "text/plain": [
       "array([], dtype=int32)"
      ]
     },
     "execution_count": 16,
     "metadata": {},
     "output_type": "execute_result"
    }
   ],
   "source": [
    "a = np.arange(10)\n",
    "i = np.where(a>20)\n",
    "a[i[0]]"
   ]
  },
  {
   "cell_type": "code",
   "execution_count": 22,
   "id": "f9c8c3a9",
   "metadata": {
    "scrolled": true
   },
   "outputs": [
    {
     "name": "stdout",
     "output_type": "stream",
     "text": [
      "Beginning post-processing of the dataframe...\n",
      "Padding the dataframe...\n",
      "Interpolating the dataframe's padding...\n",
      "Searching for colliding particles...\n",
      "Labeling immobile particles...\n",
      "Calculating radius of gyration...\n",
      "Assigning crude estimates of diffusion coefficients...\n",
      "Calculating local diffusion coefficients...\n",
      "Calculating local diffusion coefficients...\n",
      "Calculating local diffusion coefficients...\n",
      "Done with post-processing!\n"
     ]
    }
   ],
   "source": [
    "dt=1/30\n",
    "N_steps = 2**10\n",
    "#T_end=(2**12-1)*dt\n",
    "N_particle=10\n",
    "undersample_ratio=0#0.1\n",
    "saveFiles=False\n",
    "init_state=0#\"random\"\n",
    "forceOneMode=0\n",
    "T_stick= 50*dt*2*2\n",
    "T_unstick= 50*dt*2*2\n",
    "D= 0.3333\n",
    "A= 0.05**2\n",
    "isPar=True\n",
    "# df = generateDiffuseTetherModel(T_stick=T_stick, T_unstick=T_unstick, D=D, A=A, dt=dt, N_steps=N_steps, N_particle=N_particle, init_state=init_state,undersample_ratio=undersample_ratio, saveFiles=saveFiles,forceOneMode=forceOneMode,isPar=isPar)\n",
    "reload(generateTrajectories)\n",
    "df = generateTrajectories.generateDiffuseTetherModel(T_stick=T_stick, T_unstick=T_unstick, D=D, A=A, dt=dt, N_steps=N_steps, N_particle=N_particle, init_state=init_state,undersample_ratio=undersample_ratio, saveFiles=saveFiles,forceOneMode=forceOneMode,isPar=isPar)\n",
    "true_df = df.copy()"
   ]
  },
  {
   "cell_type": "code",
   "execution_count": 23,
   "id": "121d9150",
   "metadata": {
    "scrolled": true
   },
   "outputs": [
    {
     "data": {
      "application/javascript": [
       "/* Put everything inside the global mpl namespace */\n",
       "/* global mpl */\n",
       "window.mpl = {};\n",
       "\n",
       "mpl.get_websocket_type = function () {\n",
       "    if (typeof WebSocket !== 'undefined') {\n",
       "        return WebSocket;\n",
       "    } else if (typeof MozWebSocket !== 'undefined') {\n",
       "        return MozWebSocket;\n",
       "    } else {\n",
       "        alert(\n",
       "            'Your browser does not have WebSocket support. ' +\n",
       "                'Please try Chrome, Safari or Firefox ≥ 6. ' +\n",
       "                'Firefox 4 and 5 are also supported but you ' +\n",
       "                'have to enable WebSockets in about:config.'\n",
       "        );\n",
       "    }\n",
       "};\n",
       "\n",
       "mpl.figure = function (figure_id, websocket, ondownload, parent_element) {\n",
       "    this.id = figure_id;\n",
       "\n",
       "    this.ws = websocket;\n",
       "\n",
       "    this.supports_binary = this.ws.binaryType !== undefined;\n",
       "\n",
       "    if (!this.supports_binary) {\n",
       "        var warnings = document.getElementById('mpl-warnings');\n",
       "        if (warnings) {\n",
       "            warnings.style.display = 'block';\n",
       "            warnings.textContent =\n",
       "                'This browser does not support binary websocket messages. ' +\n",
       "                'Performance may be slow.';\n",
       "        }\n",
       "    }\n",
       "\n",
       "    this.imageObj = new Image();\n",
       "\n",
       "    this.context = undefined;\n",
       "    this.message = undefined;\n",
       "    this.canvas = undefined;\n",
       "    this.rubberband_canvas = undefined;\n",
       "    this.rubberband_context = undefined;\n",
       "    this.format_dropdown = undefined;\n",
       "\n",
       "    this.image_mode = 'full';\n",
       "\n",
       "    this.root = document.createElement('div');\n",
       "    this.root.setAttribute('style', 'display: inline-block');\n",
       "    this._root_extra_style(this.root);\n",
       "\n",
       "    parent_element.appendChild(this.root);\n",
       "\n",
       "    this._init_header(this);\n",
       "    this._init_canvas(this);\n",
       "    this._init_toolbar(this);\n",
       "\n",
       "    var fig = this;\n",
       "\n",
       "    this.waiting = false;\n",
       "\n",
       "    this.ws.onopen = function () {\n",
       "        fig.send_message('supports_binary', { value: fig.supports_binary });\n",
       "        fig.send_message('send_image_mode', {});\n",
       "        if (fig.ratio !== 1) {\n",
       "            fig.send_message('set_dpi_ratio', { dpi_ratio: fig.ratio });\n",
       "        }\n",
       "        fig.send_message('refresh', {});\n",
       "    };\n",
       "\n",
       "    this.imageObj.onload = function () {\n",
       "        if (fig.image_mode === 'full') {\n",
       "            // Full images could contain transparency (where diff images\n",
       "            // almost always do), so we need to clear the canvas so that\n",
       "            // there is no ghosting.\n",
       "            fig.context.clearRect(0, 0, fig.canvas.width, fig.canvas.height);\n",
       "        }\n",
       "        fig.context.drawImage(fig.imageObj, 0, 0);\n",
       "    };\n",
       "\n",
       "    this.imageObj.onunload = function () {\n",
       "        fig.ws.close();\n",
       "    };\n",
       "\n",
       "    this.ws.onmessage = this._make_on_message_function(this);\n",
       "\n",
       "    this.ondownload = ondownload;\n",
       "};\n",
       "\n",
       "mpl.figure.prototype._init_header = function () {\n",
       "    var titlebar = document.createElement('div');\n",
       "    titlebar.classList =\n",
       "        'ui-dialog-titlebar ui-widget-header ui-corner-all ui-helper-clearfix';\n",
       "    var titletext = document.createElement('div');\n",
       "    titletext.classList = 'ui-dialog-title';\n",
       "    titletext.setAttribute(\n",
       "        'style',\n",
       "        'width: 100%; text-align: center; padding: 3px;'\n",
       "    );\n",
       "    titlebar.appendChild(titletext);\n",
       "    this.root.appendChild(titlebar);\n",
       "    this.header = titletext;\n",
       "};\n",
       "\n",
       "mpl.figure.prototype._canvas_extra_style = function (_canvas_div) {};\n",
       "\n",
       "mpl.figure.prototype._root_extra_style = function (_canvas_div) {};\n",
       "\n",
       "mpl.figure.prototype._init_canvas = function () {\n",
       "    var fig = this;\n",
       "\n",
       "    var canvas_div = (this.canvas_div = document.createElement('div'));\n",
       "    canvas_div.setAttribute(\n",
       "        'style',\n",
       "        'border: 1px solid #ddd;' +\n",
       "            'box-sizing: content-box;' +\n",
       "            'clear: both;' +\n",
       "            'min-height: 1px;' +\n",
       "            'min-width: 1px;' +\n",
       "            'outline: 0;' +\n",
       "            'overflow: hidden;' +\n",
       "            'position: relative;' +\n",
       "            'resize: both;'\n",
       "    );\n",
       "\n",
       "    function on_keyboard_event_closure(name) {\n",
       "        return function (event) {\n",
       "            return fig.key_event(event, name);\n",
       "        };\n",
       "    }\n",
       "\n",
       "    canvas_div.addEventListener(\n",
       "        'keydown',\n",
       "        on_keyboard_event_closure('key_press')\n",
       "    );\n",
       "    canvas_div.addEventListener(\n",
       "        'keyup',\n",
       "        on_keyboard_event_closure('key_release')\n",
       "    );\n",
       "\n",
       "    this._canvas_extra_style(canvas_div);\n",
       "    this.root.appendChild(canvas_div);\n",
       "\n",
       "    var canvas = (this.canvas = document.createElement('canvas'));\n",
       "    canvas.classList.add('mpl-canvas');\n",
       "    canvas.setAttribute('style', 'box-sizing: content-box;');\n",
       "\n",
       "    this.context = canvas.getContext('2d');\n",
       "\n",
       "    var backingStore =\n",
       "        this.context.backingStorePixelRatio ||\n",
       "        this.context.webkitBackingStorePixelRatio ||\n",
       "        this.context.mozBackingStorePixelRatio ||\n",
       "        this.context.msBackingStorePixelRatio ||\n",
       "        this.context.oBackingStorePixelRatio ||\n",
       "        this.context.backingStorePixelRatio ||\n",
       "        1;\n",
       "\n",
       "    this.ratio = (window.devicePixelRatio || 1) / backingStore;\n",
       "\n",
       "    var rubberband_canvas = (this.rubberband_canvas = document.createElement(\n",
       "        'canvas'\n",
       "    ));\n",
       "    rubberband_canvas.setAttribute(\n",
       "        'style',\n",
       "        'box-sizing: content-box; position: absolute; left: 0; top: 0; z-index: 1;'\n",
       "    );\n",
       "\n",
       "    // Apply a ponyfill if ResizeObserver is not implemented by browser.\n",
       "    if (this.ResizeObserver === undefined) {\n",
       "        if (window.ResizeObserver !== undefined) {\n",
       "            this.ResizeObserver = window.ResizeObserver;\n",
       "        } else {\n",
       "            var obs = _JSXTOOLS_RESIZE_OBSERVER({});\n",
       "            this.ResizeObserver = obs.ResizeObserver;\n",
       "        }\n",
       "    }\n",
       "\n",
       "    this.resizeObserverInstance = new this.ResizeObserver(function (entries) {\n",
       "        var nentries = entries.length;\n",
       "        for (var i = 0; i < nentries; i++) {\n",
       "            var entry = entries[i];\n",
       "            var width, height;\n",
       "            if (entry.contentBoxSize) {\n",
       "                if (entry.contentBoxSize instanceof Array) {\n",
       "                    // Chrome 84 implements new version of spec.\n",
       "                    width = entry.contentBoxSize[0].inlineSize;\n",
       "                    height = entry.contentBoxSize[0].blockSize;\n",
       "                } else {\n",
       "                    // Firefox implements old version of spec.\n",
       "                    width = entry.contentBoxSize.inlineSize;\n",
       "                    height = entry.contentBoxSize.blockSize;\n",
       "                }\n",
       "            } else {\n",
       "                // Chrome <84 implements even older version of spec.\n",
       "                width = entry.contentRect.width;\n",
       "                height = entry.contentRect.height;\n",
       "            }\n",
       "\n",
       "            // Keep the size of the canvas and rubber band canvas in sync with\n",
       "            // the canvas container.\n",
       "            if (entry.devicePixelContentBoxSize) {\n",
       "                // Chrome 84 implements new version of spec.\n",
       "                canvas.setAttribute(\n",
       "                    'width',\n",
       "                    entry.devicePixelContentBoxSize[0].inlineSize\n",
       "                );\n",
       "                canvas.setAttribute(\n",
       "                    'height',\n",
       "                    entry.devicePixelContentBoxSize[0].blockSize\n",
       "                );\n",
       "            } else {\n",
       "                canvas.setAttribute('width', width * fig.ratio);\n",
       "                canvas.setAttribute('height', height * fig.ratio);\n",
       "            }\n",
       "            canvas.setAttribute(\n",
       "                'style',\n",
       "                'width: ' + width + 'px; height: ' + height + 'px;'\n",
       "            );\n",
       "\n",
       "            rubberband_canvas.setAttribute('width', width);\n",
       "            rubberband_canvas.setAttribute('height', height);\n",
       "\n",
       "            // And update the size in Python. We ignore the initial 0/0 size\n",
       "            // that occurs as the element is placed into the DOM, which should\n",
       "            // otherwise not happen due to the minimum size styling.\n",
       "            if (fig.ws.readyState == 1 && width != 0 && height != 0) {\n",
       "                fig.request_resize(width, height);\n",
       "            }\n",
       "        }\n",
       "    });\n",
       "    this.resizeObserverInstance.observe(canvas_div);\n",
       "\n",
       "    function on_mouse_event_closure(name) {\n",
       "        return function (event) {\n",
       "            return fig.mouse_event(event, name);\n",
       "        };\n",
       "    }\n",
       "\n",
       "    rubberband_canvas.addEventListener(\n",
       "        'mousedown',\n",
       "        on_mouse_event_closure('button_press')\n",
       "    );\n",
       "    rubberband_canvas.addEventListener(\n",
       "        'mouseup',\n",
       "        on_mouse_event_closure('button_release')\n",
       "    );\n",
       "    rubberband_canvas.addEventListener(\n",
       "        'dblclick',\n",
       "        on_mouse_event_closure('dblclick')\n",
       "    );\n",
       "    // Throttle sequential mouse events to 1 every 20ms.\n",
       "    rubberband_canvas.addEventListener(\n",
       "        'mousemove',\n",
       "        on_mouse_event_closure('motion_notify')\n",
       "    );\n",
       "\n",
       "    rubberband_canvas.addEventListener(\n",
       "        'mouseenter',\n",
       "        on_mouse_event_closure('figure_enter')\n",
       "    );\n",
       "    rubberband_canvas.addEventListener(\n",
       "        'mouseleave',\n",
       "        on_mouse_event_closure('figure_leave')\n",
       "    );\n",
       "\n",
       "    canvas_div.addEventListener('wheel', function (event) {\n",
       "        if (event.deltaY < 0) {\n",
       "            event.step = 1;\n",
       "        } else {\n",
       "            event.step = -1;\n",
       "        }\n",
       "        on_mouse_event_closure('scroll')(event);\n",
       "    });\n",
       "\n",
       "    canvas_div.appendChild(canvas);\n",
       "    canvas_div.appendChild(rubberband_canvas);\n",
       "\n",
       "    this.rubberband_context = rubberband_canvas.getContext('2d');\n",
       "    this.rubberband_context.strokeStyle = '#000000';\n",
       "\n",
       "    this._resize_canvas = function (width, height, forward) {\n",
       "        if (forward) {\n",
       "            canvas_div.style.width = width + 'px';\n",
       "            canvas_div.style.height = height + 'px';\n",
       "        }\n",
       "    };\n",
       "\n",
       "    // Disable right mouse context menu.\n",
       "    this.rubberband_canvas.addEventListener('contextmenu', function (_e) {\n",
       "        event.preventDefault();\n",
       "        return false;\n",
       "    });\n",
       "\n",
       "    function set_focus() {\n",
       "        canvas.focus();\n",
       "        canvas_div.focus();\n",
       "    }\n",
       "\n",
       "    window.setTimeout(set_focus, 100);\n",
       "};\n",
       "\n",
       "mpl.figure.prototype._init_toolbar = function () {\n",
       "    var fig = this;\n",
       "\n",
       "    var toolbar = document.createElement('div');\n",
       "    toolbar.classList = 'mpl-toolbar';\n",
       "    this.root.appendChild(toolbar);\n",
       "\n",
       "    function on_click_closure(name) {\n",
       "        return function (_event) {\n",
       "            return fig.toolbar_button_onclick(name);\n",
       "        };\n",
       "    }\n",
       "\n",
       "    function on_mouseover_closure(tooltip) {\n",
       "        return function (event) {\n",
       "            if (!event.currentTarget.disabled) {\n",
       "                return fig.toolbar_button_onmouseover(tooltip);\n",
       "            }\n",
       "        };\n",
       "    }\n",
       "\n",
       "    fig.buttons = {};\n",
       "    var buttonGroup = document.createElement('div');\n",
       "    buttonGroup.classList = 'mpl-button-group';\n",
       "    for (var toolbar_ind in mpl.toolbar_items) {\n",
       "        var name = mpl.toolbar_items[toolbar_ind][0];\n",
       "        var tooltip = mpl.toolbar_items[toolbar_ind][1];\n",
       "        var image = mpl.toolbar_items[toolbar_ind][2];\n",
       "        var method_name = mpl.toolbar_items[toolbar_ind][3];\n",
       "\n",
       "        if (!name) {\n",
       "            /* Instead of a spacer, we start a new button group. */\n",
       "            if (buttonGroup.hasChildNodes()) {\n",
       "                toolbar.appendChild(buttonGroup);\n",
       "            }\n",
       "            buttonGroup = document.createElement('div');\n",
       "            buttonGroup.classList = 'mpl-button-group';\n",
       "            continue;\n",
       "        }\n",
       "\n",
       "        var button = (fig.buttons[name] = document.createElement('button'));\n",
       "        button.classList = 'mpl-widget';\n",
       "        button.setAttribute('role', 'button');\n",
       "        button.setAttribute('aria-disabled', 'false');\n",
       "        button.addEventListener('click', on_click_closure(method_name));\n",
       "        button.addEventListener('mouseover', on_mouseover_closure(tooltip));\n",
       "\n",
       "        var icon_img = document.createElement('img');\n",
       "        icon_img.src = '_images/' + image + '.png';\n",
       "        icon_img.srcset = '_images/' + image + '_large.png 2x';\n",
       "        icon_img.alt = tooltip;\n",
       "        button.appendChild(icon_img);\n",
       "\n",
       "        buttonGroup.appendChild(button);\n",
       "    }\n",
       "\n",
       "    if (buttonGroup.hasChildNodes()) {\n",
       "        toolbar.appendChild(buttonGroup);\n",
       "    }\n",
       "\n",
       "    var fmt_picker = document.createElement('select');\n",
       "    fmt_picker.classList = 'mpl-widget';\n",
       "    toolbar.appendChild(fmt_picker);\n",
       "    this.format_dropdown = fmt_picker;\n",
       "\n",
       "    for (var ind in mpl.extensions) {\n",
       "        var fmt = mpl.extensions[ind];\n",
       "        var option = document.createElement('option');\n",
       "        option.selected = fmt === mpl.default_extension;\n",
       "        option.innerHTML = fmt;\n",
       "        fmt_picker.appendChild(option);\n",
       "    }\n",
       "\n",
       "    var status_bar = document.createElement('span');\n",
       "    status_bar.classList = 'mpl-message';\n",
       "    toolbar.appendChild(status_bar);\n",
       "    this.message = status_bar;\n",
       "};\n",
       "\n",
       "mpl.figure.prototype.request_resize = function (x_pixels, y_pixels) {\n",
       "    // Request matplotlib to resize the figure. Matplotlib will then trigger a resize in the client,\n",
       "    // which will in turn request a refresh of the image.\n",
       "    this.send_message('resize', { width: x_pixels, height: y_pixels });\n",
       "};\n",
       "\n",
       "mpl.figure.prototype.send_message = function (type, properties) {\n",
       "    properties['type'] = type;\n",
       "    properties['figure_id'] = this.id;\n",
       "    this.ws.send(JSON.stringify(properties));\n",
       "};\n",
       "\n",
       "mpl.figure.prototype.send_draw_message = function () {\n",
       "    if (!this.waiting) {\n",
       "        this.waiting = true;\n",
       "        this.ws.send(JSON.stringify({ type: 'draw', figure_id: this.id }));\n",
       "    }\n",
       "};\n",
       "\n",
       "mpl.figure.prototype.handle_save = function (fig, _msg) {\n",
       "    var format_dropdown = fig.format_dropdown;\n",
       "    var format = format_dropdown.options[format_dropdown.selectedIndex].value;\n",
       "    fig.ondownload(fig, format);\n",
       "};\n",
       "\n",
       "mpl.figure.prototype.handle_resize = function (fig, msg) {\n",
       "    var size = msg['size'];\n",
       "    if (size[0] !== fig.canvas.width || size[1] !== fig.canvas.height) {\n",
       "        fig._resize_canvas(size[0], size[1], msg['forward']);\n",
       "        fig.send_message('refresh', {});\n",
       "    }\n",
       "};\n",
       "\n",
       "mpl.figure.prototype.handle_rubberband = function (fig, msg) {\n",
       "    var x0 = msg['x0'] / fig.ratio;\n",
       "    var y0 = (fig.canvas.height - msg['y0']) / fig.ratio;\n",
       "    var x1 = msg['x1'] / fig.ratio;\n",
       "    var y1 = (fig.canvas.height - msg['y1']) / fig.ratio;\n",
       "    x0 = Math.floor(x0) + 0.5;\n",
       "    y0 = Math.floor(y0) + 0.5;\n",
       "    x1 = Math.floor(x1) + 0.5;\n",
       "    y1 = Math.floor(y1) + 0.5;\n",
       "    var min_x = Math.min(x0, x1);\n",
       "    var min_y = Math.min(y0, y1);\n",
       "    var width = Math.abs(x1 - x0);\n",
       "    var height = Math.abs(y1 - y0);\n",
       "\n",
       "    fig.rubberband_context.clearRect(\n",
       "        0,\n",
       "        0,\n",
       "        fig.canvas.width / fig.ratio,\n",
       "        fig.canvas.height / fig.ratio\n",
       "    );\n",
       "\n",
       "    fig.rubberband_context.strokeRect(min_x, min_y, width, height);\n",
       "};\n",
       "\n",
       "mpl.figure.prototype.handle_figure_label = function (fig, msg) {\n",
       "    // Updates the figure title.\n",
       "    fig.header.textContent = msg['label'];\n",
       "};\n",
       "\n",
       "mpl.figure.prototype.handle_cursor = function (fig, msg) {\n",
       "    var cursor = msg['cursor'];\n",
       "    switch (cursor) {\n",
       "        case 0:\n",
       "            cursor = 'pointer';\n",
       "            break;\n",
       "        case 1:\n",
       "            cursor = 'default';\n",
       "            break;\n",
       "        case 2:\n",
       "            cursor = 'crosshair';\n",
       "            break;\n",
       "        case 3:\n",
       "            cursor = 'move';\n",
       "            break;\n",
       "    }\n",
       "    fig.rubberband_canvas.style.cursor = cursor;\n",
       "};\n",
       "\n",
       "mpl.figure.prototype.handle_message = function (fig, msg) {\n",
       "    fig.message.textContent = msg['message'];\n",
       "};\n",
       "\n",
       "mpl.figure.prototype.handle_draw = function (fig, _msg) {\n",
       "    // Request the server to send over a new figure.\n",
       "    fig.send_draw_message();\n",
       "};\n",
       "\n",
       "mpl.figure.prototype.handle_image_mode = function (fig, msg) {\n",
       "    fig.image_mode = msg['mode'];\n",
       "};\n",
       "\n",
       "mpl.figure.prototype.handle_history_buttons = function (fig, msg) {\n",
       "    for (var key in msg) {\n",
       "        if (!(key in fig.buttons)) {\n",
       "            continue;\n",
       "        }\n",
       "        fig.buttons[key].disabled = !msg[key];\n",
       "        fig.buttons[key].setAttribute('aria-disabled', !msg[key]);\n",
       "    }\n",
       "};\n",
       "\n",
       "mpl.figure.prototype.handle_navigate_mode = function (fig, msg) {\n",
       "    if (msg['mode'] === 'PAN') {\n",
       "        fig.buttons['Pan'].classList.add('active');\n",
       "        fig.buttons['Zoom'].classList.remove('active');\n",
       "    } else if (msg['mode'] === 'ZOOM') {\n",
       "        fig.buttons['Pan'].classList.remove('active');\n",
       "        fig.buttons['Zoom'].classList.add('active');\n",
       "    } else {\n",
       "        fig.buttons['Pan'].classList.remove('active');\n",
       "        fig.buttons['Zoom'].classList.remove('active');\n",
       "    }\n",
       "};\n",
       "\n",
       "mpl.figure.prototype.updated_canvas_event = function () {\n",
       "    // Called whenever the canvas gets updated.\n",
       "    this.send_message('ack', {});\n",
       "};\n",
       "\n",
       "// A function to construct a web socket function for onmessage handling.\n",
       "// Called in the figure constructor.\n",
       "mpl.figure.prototype._make_on_message_function = function (fig) {\n",
       "    return function socket_on_message(evt) {\n",
       "        if (evt.data instanceof Blob) {\n",
       "            var img = evt.data;\n",
       "            if (img.type !== 'image/png') {\n",
       "                /* FIXME: We get \"Resource interpreted as Image but\n",
       "                 * transferred with MIME type text/plain:\" errors on\n",
       "                 * Chrome.  But how to set the MIME type?  It doesn't seem\n",
       "                 * to be part of the websocket stream */\n",
       "                img.type = 'image/png';\n",
       "            }\n",
       "\n",
       "            /* Free the memory for the previous frames */\n",
       "            if (fig.imageObj.src) {\n",
       "                (window.URL || window.webkitURL).revokeObjectURL(\n",
       "                    fig.imageObj.src\n",
       "                );\n",
       "            }\n",
       "\n",
       "            fig.imageObj.src = (window.URL || window.webkitURL).createObjectURL(\n",
       "                img\n",
       "            );\n",
       "            fig.updated_canvas_event();\n",
       "            fig.waiting = false;\n",
       "            return;\n",
       "        } else if (\n",
       "            typeof evt.data === 'string' &&\n",
       "            evt.data.slice(0, 21) === 'data:image/png;base64'\n",
       "        ) {\n",
       "            fig.imageObj.src = evt.data;\n",
       "            fig.updated_canvas_event();\n",
       "            fig.waiting = false;\n",
       "            return;\n",
       "        }\n",
       "\n",
       "        var msg = JSON.parse(evt.data);\n",
       "        var msg_type = msg['type'];\n",
       "\n",
       "        // Call the  \"handle_{type}\" callback, which takes\n",
       "        // the figure and JSON message as its only arguments.\n",
       "        try {\n",
       "            var callback = fig['handle_' + msg_type];\n",
       "        } catch (e) {\n",
       "            console.log(\n",
       "                \"No handler for the '\" + msg_type + \"' message type: \",\n",
       "                msg\n",
       "            );\n",
       "            return;\n",
       "        }\n",
       "\n",
       "        if (callback) {\n",
       "            try {\n",
       "                // console.log(\"Handling '\" + msg_type + \"' message: \", msg);\n",
       "                callback(fig, msg);\n",
       "            } catch (e) {\n",
       "                console.log(\n",
       "                    \"Exception inside the 'handler_\" + msg_type + \"' callback:\",\n",
       "                    e,\n",
       "                    e.stack,\n",
       "                    msg\n",
       "                );\n",
       "            }\n",
       "        }\n",
       "    };\n",
       "};\n",
       "\n",
       "// from http://stackoverflow.com/questions/1114465/getting-mouse-location-in-canvas\n",
       "mpl.findpos = function (e) {\n",
       "    //this section is from http://www.quirksmode.org/js/events_properties.html\n",
       "    var targ;\n",
       "    if (!e) {\n",
       "        e = window.event;\n",
       "    }\n",
       "    if (e.target) {\n",
       "        targ = e.target;\n",
       "    } else if (e.srcElement) {\n",
       "        targ = e.srcElement;\n",
       "    }\n",
       "    if (targ.nodeType === 3) {\n",
       "        // defeat Safari bug\n",
       "        targ = targ.parentNode;\n",
       "    }\n",
       "\n",
       "    // pageX,Y are the mouse positions relative to the document\n",
       "    var boundingRect = targ.getBoundingClientRect();\n",
       "    var x = e.pageX - (boundingRect.left + document.body.scrollLeft);\n",
       "    var y = e.pageY - (boundingRect.top + document.body.scrollTop);\n",
       "\n",
       "    return { x: x, y: y };\n",
       "};\n",
       "\n",
       "/*\n",
       " * return a copy of an object with only non-object keys\n",
       " * we need this to avoid circular references\n",
       " * http://stackoverflow.com/a/24161582/3208463\n",
       " */\n",
       "function simpleKeys(original) {\n",
       "    return Object.keys(original).reduce(function (obj, key) {\n",
       "        if (typeof original[key] !== 'object') {\n",
       "            obj[key] = original[key];\n",
       "        }\n",
       "        return obj;\n",
       "    }, {});\n",
       "}\n",
       "\n",
       "mpl.figure.prototype.mouse_event = function (event, name) {\n",
       "    var canvas_pos = mpl.findpos(event);\n",
       "\n",
       "    if (name === 'button_press') {\n",
       "        this.canvas.focus();\n",
       "        this.canvas_div.focus();\n",
       "    }\n",
       "\n",
       "    var x = canvas_pos.x * this.ratio;\n",
       "    var y = canvas_pos.y * this.ratio;\n",
       "\n",
       "    this.send_message(name, {\n",
       "        x: x,\n",
       "        y: y,\n",
       "        button: event.button,\n",
       "        step: event.step,\n",
       "        guiEvent: simpleKeys(event),\n",
       "    });\n",
       "\n",
       "    /* This prevents the web browser from automatically changing to\n",
       "     * the text insertion cursor when the button is pressed.  We want\n",
       "     * to control all of the cursor setting manually through the\n",
       "     * 'cursor' event from matplotlib */\n",
       "    event.preventDefault();\n",
       "    return false;\n",
       "};\n",
       "\n",
       "mpl.figure.prototype._key_event_extra = function (_event, _name) {\n",
       "    // Handle any extra behaviour associated with a key event\n",
       "};\n",
       "\n",
       "mpl.figure.prototype.key_event = function (event, name) {\n",
       "    // Prevent repeat events\n",
       "    if (name === 'key_press') {\n",
       "        if (event.key === this._key) {\n",
       "            return;\n",
       "        } else {\n",
       "            this._key = event.key;\n",
       "        }\n",
       "    }\n",
       "    if (name === 'key_release') {\n",
       "        this._key = null;\n",
       "    }\n",
       "\n",
       "    var value = '';\n",
       "    if (event.ctrlKey && event.key !== 'Control') {\n",
       "        value += 'ctrl+';\n",
       "    }\n",
       "    else if (event.altKey && event.key !== 'Alt') {\n",
       "        value += 'alt+';\n",
       "    }\n",
       "    else if (event.shiftKey && event.key !== 'Shift') {\n",
       "        value += 'shift+';\n",
       "    }\n",
       "\n",
       "    value += 'k' + event.key;\n",
       "\n",
       "    this._key_event_extra(event, name);\n",
       "\n",
       "    this.send_message(name, { key: value, guiEvent: simpleKeys(event) });\n",
       "    return false;\n",
       "};\n",
       "\n",
       "mpl.figure.prototype.toolbar_button_onclick = function (name) {\n",
       "    if (name === 'download') {\n",
       "        this.handle_save(this, null);\n",
       "    } else {\n",
       "        this.send_message('toolbar_button', { name: name });\n",
       "    }\n",
       "};\n",
       "\n",
       "mpl.figure.prototype.toolbar_button_onmouseover = function (tooltip) {\n",
       "    this.message.textContent = tooltip;\n",
       "};\n",
       "\n",
       "///////////////// REMAINING CONTENT GENERATED BY embed_js.py /////////////////\n",
       "// prettier-ignore\n",
       "var _JSXTOOLS_RESIZE_OBSERVER=function(A){var t,i=new WeakMap,n=new WeakMap,a=new WeakMap,r=new WeakMap,o=new Set;function s(e){if(!(this instanceof s))throw new TypeError(\"Constructor requires 'new' operator\");i.set(this,e)}function h(){throw new TypeError(\"Function is not a constructor\")}function c(e,t,i,n){e=0 in arguments?Number(arguments[0]):0,t=1 in arguments?Number(arguments[1]):0,i=2 in arguments?Number(arguments[2]):0,n=3 in arguments?Number(arguments[3]):0,this.right=(this.x=this.left=e)+(this.width=i),this.bottom=(this.y=this.top=t)+(this.height=n),Object.freeze(this)}function d(){t=requestAnimationFrame(d);var s=new WeakMap,p=new Set;o.forEach((function(t){r.get(t).forEach((function(i){var r=t instanceof window.SVGElement,o=a.get(t),d=r?0:parseFloat(o.paddingTop),f=r?0:parseFloat(o.paddingRight),l=r?0:parseFloat(o.paddingBottom),u=r?0:parseFloat(o.paddingLeft),g=r?0:parseFloat(o.borderTopWidth),m=r?0:parseFloat(o.borderRightWidth),w=r?0:parseFloat(o.borderBottomWidth),b=u+f,F=d+l,v=(r?0:parseFloat(o.borderLeftWidth))+m,W=g+w,y=r?0:t.offsetHeight-W-t.clientHeight,E=r?0:t.offsetWidth-v-t.clientWidth,R=b+v,z=F+W,M=r?t.width:parseFloat(o.width)-R-E,O=r?t.height:parseFloat(o.height)-z-y;if(n.has(t)){var k=n.get(t);if(k[0]===M&&k[1]===O)return}n.set(t,[M,O]);var S=Object.create(h.prototype);S.target=t,S.contentRect=new c(u,d,M,O),s.has(i)||(s.set(i,[]),p.add(i)),s.get(i).push(S)}))})),p.forEach((function(e){i.get(e).call(e,s.get(e),e)}))}return s.prototype.observe=function(i){if(i instanceof window.Element){r.has(i)||(r.set(i,new Set),o.add(i),a.set(i,window.getComputedStyle(i)));var n=r.get(i);n.has(this)||n.add(this),cancelAnimationFrame(t),t=requestAnimationFrame(d)}},s.prototype.unobserve=function(i){if(i instanceof window.Element&&r.has(i)){var n=r.get(i);n.has(this)&&(n.delete(this),n.size||(r.delete(i),o.delete(i))),n.size||r.delete(i),o.size||cancelAnimationFrame(t)}},A.DOMRectReadOnly=c,A.ResizeObserver=s,A.ResizeObserverEntry=h,A}; // eslint-disable-line\n",
       "mpl.toolbar_items = [[\"Home\", \"Reset original view\", \"fa fa-home icon-home\", \"home\"], [\"Back\", \"Back to previous view\", \"fa fa-arrow-left icon-arrow-left\", \"back\"], [\"Forward\", \"Forward to next view\", \"fa fa-arrow-right icon-arrow-right\", \"forward\"], [\"\", \"\", \"\", \"\"], [\"Pan\", \"Left button pans, Right button zooms\\nx/y fixes axis, CTRL fixes aspect\", \"fa fa-arrows icon-move\", \"pan\"], [\"Zoom\", \"Zoom to rectangle\\nx/y fixes axis, CTRL fixes aspect\", \"fa fa-square-o icon-check-empty\", \"zoom\"], [\"\", \"\", \"\", \"\"], [\"Download\", \"Download plot\", \"fa fa-floppy-o icon-save\", \"download\"]];\n",
       "\n",
       "mpl.extensions = [\"eps\", \"jpeg\", \"pgf\", \"pdf\", \"png\", \"ps\", \"raw\", \"svg\", \"tif\"];\n",
       "\n",
       "mpl.default_extension = \"png\";/* global mpl */\n",
       "\n",
       "var comm_websocket_adapter = function (comm) {\n",
       "    // Create a \"websocket\"-like object which calls the given IPython comm\n",
       "    // object with the appropriate methods. Currently this is a non binary\n",
       "    // socket, so there is still some room for performance tuning.\n",
       "    var ws = {};\n",
       "\n",
       "    ws.binaryType = comm.kernel.ws.binaryType;\n",
       "    ws.readyState = comm.kernel.ws.readyState;\n",
       "    function updateReadyState(_event) {\n",
       "        if (comm.kernel.ws) {\n",
       "            ws.readyState = comm.kernel.ws.readyState;\n",
       "        } else {\n",
       "            ws.readyState = 3; // Closed state.\n",
       "        }\n",
       "    }\n",
       "    comm.kernel.ws.addEventListener('open', updateReadyState);\n",
       "    comm.kernel.ws.addEventListener('close', updateReadyState);\n",
       "    comm.kernel.ws.addEventListener('error', updateReadyState);\n",
       "\n",
       "    ws.close = function () {\n",
       "        comm.close();\n",
       "    };\n",
       "    ws.send = function (m) {\n",
       "        //console.log('sending', m);\n",
       "        comm.send(m);\n",
       "    };\n",
       "    // Register the callback with on_msg.\n",
       "    comm.on_msg(function (msg) {\n",
       "        //console.log('receiving', msg['content']['data'], msg);\n",
       "        var data = msg['content']['data'];\n",
       "        if (data['blob'] !== undefined) {\n",
       "            data = {\n",
       "                data: new Blob(msg['buffers'], { type: data['blob'] }),\n",
       "            };\n",
       "        }\n",
       "        // Pass the mpl event to the overridden (by mpl) onmessage function.\n",
       "        ws.onmessage(data);\n",
       "    });\n",
       "    return ws;\n",
       "};\n",
       "\n",
       "mpl.mpl_figure_comm = function (comm, msg) {\n",
       "    // This is the function which gets called when the mpl process\n",
       "    // starts-up an IPython Comm through the \"matplotlib\" channel.\n",
       "\n",
       "    var id = msg.content.data.id;\n",
       "    // Get hold of the div created by the display call when the Comm\n",
       "    // socket was opened in Python.\n",
       "    var element = document.getElementById(id);\n",
       "    var ws_proxy = comm_websocket_adapter(comm);\n",
       "\n",
       "    function ondownload(figure, _format) {\n",
       "        window.open(figure.canvas.toDataURL());\n",
       "    }\n",
       "\n",
       "    var fig = new mpl.figure(id, ws_proxy, ondownload, element);\n",
       "\n",
       "    // Call onopen now - mpl needs it, as it is assuming we've passed it a real\n",
       "    // web socket which is closed, not our websocket->open comm proxy.\n",
       "    ws_proxy.onopen();\n",
       "\n",
       "    fig.parent_element = element;\n",
       "    fig.cell_info = mpl.find_output_cell(\"<div id='\" + id + \"'></div>\");\n",
       "    if (!fig.cell_info) {\n",
       "        console.error('Failed to find cell for figure', id, fig);\n",
       "        return;\n",
       "    }\n",
       "    fig.cell_info[0].output_area.element.on(\n",
       "        'cleared',\n",
       "        { fig: fig },\n",
       "        fig._remove_fig_handler\n",
       "    );\n",
       "};\n",
       "\n",
       "mpl.figure.prototype.handle_close = function (fig, msg) {\n",
       "    var width = fig.canvas.width / fig.ratio;\n",
       "    fig.cell_info[0].output_area.element.off(\n",
       "        'cleared',\n",
       "        fig._remove_fig_handler\n",
       "    );\n",
       "    fig.resizeObserverInstance.unobserve(fig.canvas_div);\n",
       "\n",
       "    // Update the output cell to use the data from the current canvas.\n",
       "    fig.push_to_output();\n",
       "    var dataURL = fig.canvas.toDataURL();\n",
       "    // Re-enable the keyboard manager in IPython - without this line, in FF,\n",
       "    // the notebook keyboard shortcuts fail.\n",
       "    IPython.keyboard_manager.enable();\n",
       "    fig.parent_element.innerHTML =\n",
       "        '<img src=\"' + dataURL + '\" width=\"' + width + '\">';\n",
       "    fig.close_ws(fig, msg);\n",
       "};\n",
       "\n",
       "mpl.figure.prototype.close_ws = function (fig, msg) {\n",
       "    fig.send_message('closing', msg);\n",
       "    // fig.ws.close()\n",
       "};\n",
       "\n",
       "mpl.figure.prototype.push_to_output = function (_remove_interactive) {\n",
       "    // Turn the data on the canvas into data in the output cell.\n",
       "    var width = this.canvas.width / this.ratio;\n",
       "    var dataURL = this.canvas.toDataURL();\n",
       "    this.cell_info[1]['text/html'] =\n",
       "        '<img src=\"' + dataURL + '\" width=\"' + width + '\">';\n",
       "};\n",
       "\n",
       "mpl.figure.prototype.updated_canvas_event = function () {\n",
       "    // Tell IPython that the notebook contents must change.\n",
       "    IPython.notebook.set_dirty(true);\n",
       "    this.send_message('ack', {});\n",
       "    var fig = this;\n",
       "    // Wait a second, then push the new image to the DOM so\n",
       "    // that it is saved nicely (might be nice to debounce this).\n",
       "    setTimeout(function () {\n",
       "        fig.push_to_output();\n",
       "    }, 1000);\n",
       "};\n",
       "\n",
       "mpl.figure.prototype._init_toolbar = function () {\n",
       "    var fig = this;\n",
       "\n",
       "    var toolbar = document.createElement('div');\n",
       "    toolbar.classList = 'btn-toolbar';\n",
       "    this.root.appendChild(toolbar);\n",
       "\n",
       "    function on_click_closure(name) {\n",
       "        return function (_event) {\n",
       "            return fig.toolbar_button_onclick(name);\n",
       "        };\n",
       "    }\n",
       "\n",
       "    function on_mouseover_closure(tooltip) {\n",
       "        return function (event) {\n",
       "            if (!event.currentTarget.disabled) {\n",
       "                return fig.toolbar_button_onmouseover(tooltip);\n",
       "            }\n",
       "        };\n",
       "    }\n",
       "\n",
       "    fig.buttons = {};\n",
       "    var buttonGroup = document.createElement('div');\n",
       "    buttonGroup.classList = 'btn-group';\n",
       "    var button;\n",
       "    for (var toolbar_ind in mpl.toolbar_items) {\n",
       "        var name = mpl.toolbar_items[toolbar_ind][0];\n",
       "        var tooltip = mpl.toolbar_items[toolbar_ind][1];\n",
       "        var image = mpl.toolbar_items[toolbar_ind][2];\n",
       "        var method_name = mpl.toolbar_items[toolbar_ind][3];\n",
       "\n",
       "        if (!name) {\n",
       "            /* Instead of a spacer, we start a new button group. */\n",
       "            if (buttonGroup.hasChildNodes()) {\n",
       "                toolbar.appendChild(buttonGroup);\n",
       "            }\n",
       "            buttonGroup = document.createElement('div');\n",
       "            buttonGroup.classList = 'btn-group';\n",
       "            continue;\n",
       "        }\n",
       "\n",
       "        button = fig.buttons[name] = document.createElement('button');\n",
       "        button.classList = 'btn btn-default';\n",
       "        button.href = '#';\n",
       "        button.title = name;\n",
       "        button.innerHTML = '<i class=\"fa ' + image + ' fa-lg\"></i>';\n",
       "        button.addEventListener('click', on_click_closure(method_name));\n",
       "        button.addEventListener('mouseover', on_mouseover_closure(tooltip));\n",
       "        buttonGroup.appendChild(button);\n",
       "    }\n",
       "\n",
       "    if (buttonGroup.hasChildNodes()) {\n",
       "        toolbar.appendChild(buttonGroup);\n",
       "    }\n",
       "\n",
       "    // Add the status bar.\n",
       "    var status_bar = document.createElement('span');\n",
       "    status_bar.classList = 'mpl-message pull-right';\n",
       "    toolbar.appendChild(status_bar);\n",
       "    this.message = status_bar;\n",
       "\n",
       "    // Add the close button to the window.\n",
       "    var buttongrp = document.createElement('div');\n",
       "    buttongrp.classList = 'btn-group inline pull-right';\n",
       "    button = document.createElement('button');\n",
       "    button.classList = 'btn btn-mini btn-primary';\n",
       "    button.href = '#';\n",
       "    button.title = 'Stop Interaction';\n",
       "    button.innerHTML = '<i class=\"fa fa-power-off icon-remove icon-large\"></i>';\n",
       "    button.addEventListener('click', function (_evt) {\n",
       "        fig.handle_close(fig, {});\n",
       "    });\n",
       "    button.addEventListener(\n",
       "        'mouseover',\n",
       "        on_mouseover_closure('Stop Interaction')\n",
       "    );\n",
       "    buttongrp.appendChild(button);\n",
       "    var titlebar = this.root.querySelector('.ui-dialog-titlebar');\n",
       "    titlebar.insertBefore(buttongrp, titlebar.firstChild);\n",
       "};\n",
       "\n",
       "mpl.figure.prototype._remove_fig_handler = function (event) {\n",
       "    var fig = event.data.fig;\n",
       "    if (event.target !== this) {\n",
       "        // Ignore bubbled events from children.\n",
       "        return;\n",
       "    }\n",
       "    fig.close_ws(fig, {});\n",
       "};\n",
       "\n",
       "mpl.figure.prototype._root_extra_style = function (el) {\n",
       "    el.style.boxSizing = 'content-box'; // override notebook setting of border-box.\n",
       "};\n",
       "\n",
       "mpl.figure.prototype._canvas_extra_style = function (el) {\n",
       "    // this is important to make the div 'focusable\n",
       "    el.setAttribute('tabindex', 0);\n",
       "    // reach out to IPython and tell the keyboard manager to turn it's self\n",
       "    // off when our div gets focus\n",
       "\n",
       "    // location in version 3\n",
       "    if (IPython.notebook.keyboard_manager) {\n",
       "        IPython.notebook.keyboard_manager.register_events(el);\n",
       "    } else {\n",
       "        // location in version 2\n",
       "        IPython.keyboard_manager.register_events(el);\n",
       "    }\n",
       "};\n",
       "\n",
       "mpl.figure.prototype._key_event_extra = function (event, _name) {\n",
       "    var manager = IPython.notebook.keyboard_manager;\n",
       "    if (!manager) {\n",
       "        manager = IPython.keyboard_manager;\n",
       "    }\n",
       "\n",
       "    // Check for shift+enter\n",
       "    if (event.shiftKey && event.which === 13) {\n",
       "        this.canvas_div.blur();\n",
       "        // select the cell after this one\n",
       "        var index = IPython.notebook.find_cell_index(this.cell_info[0]);\n",
       "        IPython.notebook.select(index + 1);\n",
       "    }\n",
       "};\n",
       "\n",
       "mpl.figure.prototype.handle_save = function (fig, _msg) {\n",
       "    fig.ondownload(fig, null);\n",
       "};\n",
       "\n",
       "mpl.find_output_cell = function (html_output) {\n",
       "    // Return the cell and output element which can be found *uniquely* in the notebook.\n",
       "    // Note - this is a bit hacky, but it is done because the \"notebook_saving.Notebook\"\n",
       "    // IPython event is triggered only after the cells have been serialised, which for\n",
       "    // our purposes (turning an active figure into a static one), is too late.\n",
       "    var cells = IPython.notebook.get_cells();\n",
       "    var ncells = cells.length;\n",
       "    for (var i = 0; i < ncells; i++) {\n",
       "        var cell = cells[i];\n",
       "        if (cell.cell_type === 'code') {\n",
       "            for (var j = 0; j < cell.output_area.outputs.length; j++) {\n",
       "                var data = cell.output_area.outputs[j];\n",
       "                if (data.data) {\n",
       "                    // IPython >= 3 moved mimebundle to data attribute of output\n",
       "                    data = data.data;\n",
       "                }\n",
       "                if (data['text/html'] === html_output) {\n",
       "                    return [cell, data, j];\n",
       "                }\n",
       "            }\n",
       "        }\n",
       "    }\n",
       "};\n",
       "\n",
       "// Register the function which deals with the matplotlib target/channel.\n",
       "// The kernel may be null if the page has been refreshed.\n",
       "if (IPython.notebook.kernel !== null) {\n",
       "    IPython.notebook.kernel.comm_manager.register_target(\n",
       "        'matplotlib',\n",
       "        mpl.mpl_figure_comm\n",
       "    );\n",
       "}\n"
      ],
      "text/plain": [
       "<IPython.core.display.Javascript object>"
      ]
     },
     "metadata": {},
     "output_type": "display_data"
    },
    {
     "data": {
      "text/html": [
       "<img src=\"data:image/png;base64,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\" width=\"640\">"
      ],
      "text/plain": [
       "<IPython.core.display.HTML object>"
      ]
     },
     "metadata": {},
     "output_type": "display_data"
    }
   ],
   "source": [
    "fig,ax=plt.subplots(5,2)\n",
    "\n",
    "for n in range(5):    \n",
    "    for m in range(2):\n",
    "        cur_df = df.groupby(\"particle\").get_group(5*m+n)\n",
    "        reload(bayesianTools)\n",
    "        X_arr = cur_df[[\"x\",\"y\"]].values\n",
    "\n",
    "        params = [T_stick,T_unstick,D,2*A]\n",
    "        S,XT=bayesianTools.tryViterbi(X_arr,\n",
    "                                      params,dt)\n",
    "\n",
    "        fullState= [[S[i],X_arr[i],XT[i]] for i in range(N_steps)]\n",
    "\n",
    "        S_true = cur_df.state.values\n",
    "        XT_true = cur_df[[\"x_tether\",\"y_tether\"]].values\n",
    "\n",
    "        fullState_true= [[S_true[i],X_arr[i],XT_true[i]] for i in range(N_steps)]\n",
    "        ax[n,m].plot(np.arange(N_steps),cur_df.state,'-')\n",
    "        ax[n,m].plot(np.arange(N_steps),S,'--')\n",
    "\n",
    "fig.savefig(\"stamstam.png\")    "
   ]
  },
  {
   "cell_type": "code",
   "execution_count": null,
   "id": "f5099737",
   "metadata": {},
   "outputs": [],
   "source": [
    "np.where(S==1)"
   ]
  },
  {
   "cell_type": "code",
   "execution_count": null,
   "id": "8087ccab",
   "metadata": {},
   "outputs": [],
   "source": [
    "_,ax=plt.subplots()\n",
    "ax.plot(df.state,'-')\n",
    "ax.plot(S,'--')\n"
   ]
  },
  {
   "cell_type": "code",
   "execution_count": null,
   "id": "0d14cda7",
   "metadata": {},
   "outputs": [],
   "source": [
    "reload(bayesianTools)\n",
    "estL=np.sum([bayesianTools.stepLogLikelihood(fullState[i-1],fullState[i],dt,[T_stick,T_unstick,D,A]) for i in range(1,N_steps)])\n",
    "truL=np.sum([bayesianTools.stepLogLikelihood(fullState_true[i-1],fullState_true[i],dt,[T_stick,T_unstick,D,A]) for i in range(1,N_steps)])\n",
    "print(estL,truL)"
   ]
  },
  {
   "cell_type": "code",
   "execution_count": null,
   "id": "2deb0baf",
   "metadata": {},
   "outputs": [],
   "source": [
    "_,ax=plt.subplots()\n",
    "xT_true = df.x_tether.values\n",
    "xT_true[df.state==0.]=np.nan\n",
    "ax.plot(xT_true,'-')\n",
    "ax.plot(XT[:,0],'--')\n"
   ]
  },
  {
   "cell_type": "code",
   "execution_count": null,
   "id": "aade086c",
   "metadata": {},
   "outputs": [],
   "source": [
    "params = [T_stick,T_unstick,D,A]\n",
    "X_arr = df[[\"x\",\"y\"]].values\n",
    "N = len(X_arr)\n",
    "K = N + 1\n",
    "A = params[3]\n",
    "forgetOldStuckThreshold = 30. * A\n",
    "reload(bayesianTools)\n",
    "def L(n, k, i):  # transition log likelihood from hidden state k at time n to hidden state i at time n+1\n",
    "    # Filter out old stuck states: if next position is very far from some old stuck position, don't bother calculating\n",
    "    if k > 0:\n",
    "        if np.sum((X_arr[n + 1] - X_arr[k - 1]) ** 2) > forgetOldStuckThreshold:\n",
    "            # print(np.sum((X_arr[n + 1] - X_arr[k - 1]) ** 2))\n",
    "            return -np.inf\n",
    "\n",
    "    # Parse n,k,i to cur_state and next_state:\n",
    "    if k == 0:\n",
    "        cur_state = [0, X_arr[n], [0, 0]]\n",
    "    else:\n",
    "        cur_state = [1, X_arr[n], X_arr[k - 1]]\n",
    "\n",
    "    if i == 0:\n",
    "        next_state = [0, X_arr[n + 1], [0, 0]]\n",
    "    else:\n",
    "        next_state = [1, X_arr[n + 1], X_arr[i - 1]]\n",
    "    return bayesianTools.stepLogLikelihood(cur_state, next_state, dt, params)"
   ]
  },
  {
   "cell_type": "code",
   "execution_count": null,
   "id": "5266dab5",
   "metadata": {},
   "outputs": [],
   "source": [
    "np.sum((X_arr[1]-X_arr[0])**2)/A"
   ]
  },
  {
   "cell_type": "code",
   "execution_count": null,
   "id": "10ae8eb8",
   "metadata": {},
   "outputs": [],
   "source": [
    "\n",
    "\n",
    "reload(bayesianTools)\n",
    "X_arr = df[[\"x\",\"y\"]].values\n",
    "\n",
    "params = [T_stick,T_unstick,D,A]\n",
    "S,XT=bayesianTools.tryViterbi(X_arr,\n",
    "                              params,dt)\n",
    "\n",
    "fullState= [[S[i],X_arr[i],XT[i]] for i in range(N_steps)]\n",
    "\n",
    "S_true = df.state.values\n",
    "XT_true = df[[\"x_tether\",\"y_tether\"]].values\n",
    "\n",
    "fullState_true= [[S_true[i],X_arr[i],XT_true[i]] for i in range(N_steps)]"
   ]
  },
  {
   "cell_type": "code",
   "execution_count": null,
   "id": "0209d3fa",
   "metadata": {},
   "outputs": [],
   "source": [
    "L(0,0,0)"
   ]
  },
  {
   "cell_type": "code",
   "execution_count": null,
   "id": "f48b482e",
   "metadata": {},
   "outputs": [],
   "source": [
    "_,"
   ]
  },
  {
   "cell_type": "code",
   "execution_count": null,
   "id": "3b85e739",
   "metadata": {},
   "outputs": [],
   "source": [
    "L_mat[:,5]"
   ]
  },
  {
   "cell_type": "code",
   "execution_count": null,
   "id": "966acc52",
   "metadata": {},
   "outputs": [],
   "source": [
    "X_arr = df[:10][[\"x\",\"y\"]].values"
   ]
  },
  {
   "cell_type": "code",
   "execution_count": null,
   "id": "fb404d1c",
   "metadata": {},
   "outputs": [],
   "source": [
    "reload(bayesianTools)\n",
    "n=4\n",
    "bayesianTools.stepLogLikelihood([1,X_arr[n],[0,0]], [1,X_arr[n+1],[1,0]], dt, [T_stick,T_unstick,D,A])"
   ]
  },
  {
   "cell_type": "code",
   "execution_count": null,
   "id": "98464925",
   "metadata": {},
   "outputs": [],
   "source": [
    "(dt/T_stick)/6.24609538e-04"
   ]
  },
  {
   "cell_type": "code",
   "execution_count": null,
   "id": "9fa74893",
   "metadata": {},
   "outputs": [],
   "source": [
    "from extras import generate_CTMC_Matrix\n",
    "print(generate_CTMC_Matrix(T_stick, T_unstick, dt))"
   ]
  },
  {
   "cell_type": "code",
   "execution_count": null,
   "id": "83ae959a",
   "metadata": {},
   "outputs": [],
   "source": [
    "dt/T_stick"
   ]
  },
  {
   "cell_type": "code",
   "execution_count": null,
   "id": "c77adc6f",
   "metadata": {},
   "outputs": [],
   "source": [
    "df"
   ]
  },
  {
   "cell_type": "code",
   "execution_count": null,
   "id": "84e19a39",
   "metadata": {},
   "outputs": [],
   "source": [
    "np.random.default_rng().random(size=[3,3])\n"
   ]
  },
  {
   "cell_type": "code",
   "execution_count": null,
   "id": "b2a27482",
   "metadata": {},
   "outputs": [],
   "source": [
    "df.state.plot()"
   ]
  },
  {
   "cell_type": "code",
   "execution_count": null,
   "id": "9898075e",
   "metadata": {},
   "outputs": [],
   "source": [
    "nnn=1184\n",
    "print(\"Var: \"+str(df[nnn:2284].x.var()+df[nnn:2284].y.var()))\n",
    "print(\"Std: \"+str(np.sqrt(df[nnn:2284].x.var()+df[nnn:2284].y.var())))\n",
    "print(\"Mean x: \"+str(df[nnn:2284].x.mean())+\", y: \"+str(df[nnn:2284].y.mean()))"
   ]
  },
  {
   "cell_type": "code",
   "execution_count": null,
   "id": "7653154f",
   "metadata": {},
   "outputs": [],
   "source": [
    "df_orig = df.copy()"
   ]
  },
  {
   "cell_type": "code",
   "execution_count": null,
   "id": "e6cf1d63",
   "metadata": {
    "scrolled": false
   },
   "outputs": [],
   "source": [
    "reload(bayesianTools)\n",
    "df = df_orig.copy()\n",
    "#df = df[:3500]\n",
    "#df.loc[len(df)-1,\"state\"]=0.5\n",
    "orig_ind_switches = np.where(df.state==0.5)[0][1:-1]\n",
    "\n",
    "d_array = np.arange(-10,11)\n",
    "L = np.zeros(len(d_array))\n",
    "params_arr = np.empty(len(d_array),dtype=object)\n",
    "\n",
    "for i,d in enumerate(d_array):\n",
    "    ind_switches = orig_ind_switches.copy()\n",
    "    ind_switches[0]+=d\n",
    "    L[i],params_arr[i]=bayesianTools.labeledParticleLikelihood(np.vstack(bayesianTools.extract_trajData_from_df(df)),ind_switches,0,returnParameters=True,\n",
    "                                                              enforceModelParameters=[])#params)\n",
    "    if d==0: #becasue maybe it wont be max\n",
    "        Lmax = L[i]\n",
    "        _,params=bayesianTools.labeledParticleLikelihood(np.vstack(bayesianTools.extract_trajData_from_df(df)),ind_switches,0,returnParameters=True)\n",
    "\n",
    "\n",
    "\n",
    "dL = np.zeros(len(d_array))        \n",
    "n = orig_ind_switches[0]\n",
    "N = len(df)\n",
    "[TT_stick, TT_unstick, DD, AA] = params\n",
    "VX_arr= np.zeros(len(d_array))\n",
    "predA_arr = np.zeros(len(d_array))\n",
    "for i,d in enumerate(d_array):\n",
    "    k_stick = np.ceil(len(orig_ind_switches)/2)\n",
    "    k_unstick = np.floor(len(orig_ind_switches)/2)\n",
    "    k = k_stick+k_unstick\n",
    "    N_free = len(df[df.state==0.])+k\n",
    "    N_stuck = len(df[df.state==1.])+k\n",
    "    if d>0:\n",
    "        DX = df.dr2.values[n : n+d+1].sum()/(4*DD*dt)\n",
    "        VX = np.abs(d)*(df.x[n : n+d+1].var()+df.y[n : n+d+1].var())/AA\n",
    "        dL[i] = -((N_free+d)*np.log((N_free+DX) / (N_free+d))\n",
    "        +(N_stuck-d)*np.log((N_stuck-VX) /(N_stuck-d))\n",
    "        +d* np.log(4*DD*dt/AA)+\n",
    "        1*np.log(1+d*dt/TT_stick/1))      \n",
    "        #dL[i] = -d* np.log(4*DD*dt/AA)\n",
    "    elif d<0:\n",
    "        DX = df.dr2.values[n+d : n+1].sum()/(4*DD*dt)\n",
    "        VX = np.abs(d)*(df.x[n+d : n+1].var()+df.y[n+d : n+1].var())/AA\n",
    "        dL[i] = -((N_free+d)*np.log((N_free-DX) / (N_free+d))\n",
    "        +(N_stuck-d)*np.log((N_stuck+VX) /(N_stuck-d))\n",
    "        +d* np.log(4*DD*dt/AA)+\n",
    "        1*np.log(1+d*dt/TT_stick/1)) \n",
    "        #dL[i] = -(N_stuck-d)*np.log((N_stuck+VX) /(N_stuck-d))\n",
    "    VX_arr[i]=VX*AA\n",
    "    predA_arr[i]= (N_stuck*AA-np.sign(d)*VX_arr[i])/(N_stuck-d)\n",
    "    #print(df[(n+d):].y.mean())\n",
    "        \n",
    "        \n",
    "    \n",
    "_,ax=plt.subplots()\n",
    "ax.plot(d_array,L-Lmax,marker=\"*\")\n",
    "ax.plot(d_array,dL,marker=\"*\")"
   ]
  },
  {
   "cell_type": "code",
   "execution_count": null,
   "id": "88900b51",
   "metadata": {},
   "outputs": [],
   "source": [
    "-((N_free+d)*np.log((N_free-DX) / (N_free+d))\n",
    "        +(N_stuck-d)*np.log((N_stuck+VX) /(N_stuck-d))\n",
    "        +d* np.log(4*DD*dt/AA)+\n",
    "        1*np.log(1+d*dt/TT_stick/1))"
   ]
  },
  {
   "cell_type": "code",
   "execution_count": null,
   "id": "bfa7782e",
   "metadata": {},
   "outputs": [],
   "source": [
    "df.x[n-10 : n+ 11].values-df.x[n-10]"
   ]
  },
  {
   "cell_type": "code",
   "execution_count": null,
   "id": "f3cab781",
   "metadata": {},
   "outputs": [],
   "source": [
    "n"
   ]
  },
  {
   "cell_type": "code",
   "execution_count": null,
   "id": "ebdd5fe5",
   "metadata": {},
   "outputs": [],
   "source": [
    "_,axes = plt.subplots()\n",
    "axes.plot(df.frame,df.x)\n",
    "axes.plot(df[df.state==1.].frame,df[df.state==1.].x)"
   ]
  },
  {
   "cell_type": "code",
   "execution_count": null,
   "id": "59341163",
   "metadata": {},
   "outputs": [],
   "source": [
    "np.vstack(params_arr)"
   ]
  },
  {
   "cell_type": "code",
   "execution_count": null,
   "id": "98a6db40",
   "metadata": {},
   "outputs": [],
   "source": []
  },
  {
   "cell_type": "code",
   "execution_count": null,
   "id": "8fd14f5b",
   "metadata": {},
   "outputs": [],
   "source": []
  },
  {
   "cell_type": "code",
   "execution_count": null,
   "id": "13066394",
   "metadata": {},
   "outputs": [],
   "source": []
  },
  {
   "cell_type": "code",
   "execution_count": null,
   "id": "a555aa7e",
   "metadata": {},
   "outputs": [],
   "source": []
  },
  {
   "cell_type": "code",
   "execution_count": null,
   "id": "12fd95ae",
   "metadata": {},
   "outputs": [],
   "source": [
    "df.state.plot()"
   ]
  },
  {
   "cell_type": "code",
   "execution_count": null,
   "id": "43a822b2",
   "metadata": {},
   "outputs": [],
   "source": [
    "df.groupby(\"particle\")"
   ]
  },
  {
   "cell_type": "code",
   "execution_count": null,
   "id": "2b888680",
   "metadata": {},
   "outputs": [],
   "source": [
    "dff = df.copy()"
   ]
  },
  {
   "cell_type": "code",
   "execution_count": null,
   "id": "e5658bb6",
   "metadata": {},
   "outputs": [],
   "source": [
    "sns.histplot(dff[dff.state==0.5].groupby(\"particle\").apply(len)-2)\n",
    "sns.lineplot(np.arange(13),100*bayesianTools.kEventsProb(np.arange(13),0,T_end,T_stick,T_unstick))"
   ]
  },
  {
   "cell_type": "markdown",
   "id": "adeaa7a6",
   "metadata": {},
   "source": [
    "# Display Some Graphs\n",
    "\n",
    "## Show trajectories"
   ]
  },
  {
   "cell_type": "code",
   "execution_count": null,
   "id": "1e13e022",
   "metadata": {
    "scrolled": false
   },
   "outputs": [],
   "source": [
    "startAtOrigin=False\n",
    "if startAtOrigin:\n",
    "    plotly_df=trajAnalysis.shiftTrajToOrigin(df)\n",
    "else:\n",
    "    plotly_df = df[df.particle==9].copy()\n",
    "    plotly_df[\"S_est\"]=S\n",
    "plotly_df.y *=-1; plotly_df.particle = plotly_df.particle.astype(str) ; plotly_df.state = plotly_df.state.astype(int).astype(str)\n",
    "# plotly_df[\"particle_state\"] = plotly_df.particle+\"_\"+plotly_df.state\n",
    "plotly_df[\"particle_state\"] = plotly_df.particle+\"_\"+plotly_df.S_est.astype(str)\n",
    "fig = px.line(plotly_df, x=\"x\", y=\"y\", color='particle_state',hover_data=['frame'],color_discrete_sequence=px.colors.qualitative.D3,)\n",
    "#fig = px.line(plotly_df, x=\"x\", y=\"y\", color='particle_state',hover_data=['particle','state','isMobile','t','mass','n_neighbors','colliding_neighbors'],color_discrete_sequence=px.colors.qualitative.D3,)\n",
    "fig.update_yaxes(scaleanchor = \"x\",scaleratio = 1,)\n",
    "fig.show()"
   ]
  },
  {
   "cell_type": "code",
   "execution_count": null,
   "id": "e9be2484",
   "metadata": {},
   "outputs": [],
   "source": [
    "plotly_df[\"particle_state\"] = plotly_df.particle\n",
    "fig = px.line(plotly_df, x=\"x\", y=\"y\", color='particle_state',hover_data=['frame'],color_discrete_sequence=px.colors.qualitative.D3,)\n",
    "#fig = px.line(plotly_df, x=\"x\", y=\"y\", color='particle_state',hover_data=['particle','state','isMobile','t','mass','n_neighbors','colliding_neighbors'],color_discrete_sequence=px.colors.qualitative.D3,)\n",
    "fig.update_yaxes(scaleanchor = \"x\",scaleratio = 1,)\n",
    "fig.show()"
   ]
  },
  {
   "cell_type": "markdown",
   "id": "90f108eb",
   "metadata": {},
   "source": [
    "## Trajectories Animation:"
   ]
  },
  {
   "cell_type": "code",
   "execution_count": null,
   "id": "bb798ea8",
   "metadata": {
    "scrolled": false,
    "tags": [
     "hide-output"
    ]
   },
   "outputs": [],
   "source": [
    "reload(displayData)\n",
    "max_frame = 51\n",
    "startAtOrigin=True\n",
    "doneTrajNoMarker=True\n",
    "dispLegend=False\n",
    "if \"Traj_fig\" in locals() : plt.close(Traj_fig)\n",
    "Traj_fig, Traj_ax = plt.subplots(figsize=(5,5))\n",
    "drawnLines=displayData.plotTrajectories(df,curParticlePivotSize=5., t_end=max_frame, doneTrajNoMarker=doneTrajNoMarker,startAtOrigin=startAtOrigin,dispLegend=False, ax=Traj_ax, useDrawnLines=False, drawnLines=[],hideLines=True,axForVelocityPlot=[],particlesForFixedColoring = [])\n",
    "def animateTraj(t_end):\n",
    "    displayData.notebookAnimateTraj(df,Traj_ax,t_end,max_frame,startAtOrigin=startAtOrigin,doneTrajNoMarker=doneTrajNoMarker,dispLegend=dispLegend,useDrawnLines=True,drawnLines=drawnLines,fps=0.,axForVelocityPlot=[],particlesForFixedColoring=[],curParticlePivotSize=5.)\n",
    "ani = animation.FuncAnimation(Traj_fig, animateTraj, frames=max_frame); clear_output(wait=True); HTML(ani.to_jshtml())"
   ]
  },
  {
   "cell_type": "markdown",
   "id": "79108896",
   "metadata": {},
   "source": [
    "## MSD Plot:"
   ]
  },
  {
   "cell_type": "code",
   "execution_count": null,
   "id": "bec23768",
   "metadata": {
    "scrolled": false
   },
   "outputs": [],
   "source": [
    "default_groupby = \"experiment\"\n",
    "if \"MSD_fig\" in locals() : plt.close(MSD_fig)\n",
    "MSD_fig, MSD_ax = plt.subplots(figsize=(6, 4))\n",
    "@interact(Log_Scale=True,group_by=[\"experiment\",\"particle\"],max_lagtime=(100,2000,10),N_sample_points = (2,101,1),equal_weight_per_particle=True)\n",
    "#def update(group_by=\"experiment\",Log_Scale=True,equal_weight_per_particle=True,step_lagtime=5,max_lagtime=100,):\n",
    "def update(group_by=default_groupby,Log_Scale=False,equal_weight_per_particle=True,N_sample_points=21,max_lagtime=1000,):\n",
    "    MSD_ax.cla()\n",
    "    displayData.plot_MSD(df,isdfPadded=True, lagtime=np.unique(np.round(np.logspace(0,np.log10(max_lagtime),N_sample_points))), group_by=group_by, logscale=Log_Scale, ax=MSD_ax,eqParticleWeight=equal_weight_per_particle)\n",
    "    MSD_ax.grid(True)"
   ]
  },
  {
   "cell_type": "markdown",
   "id": "041b085c",
   "metadata": {},
   "source": [
    "## Displacement Distribution $G(\\Delta x,\\Delta t)$:"
   ]
  },
  {
   "cell_type": "code",
   "execution_count": null,
   "id": "d6a21ead",
   "metadata": {
    "scrolled": false
   },
   "outputs": [],
   "source": [
    "# set up plot\n",
    "if \"G_fig\" in locals() : plt.close(G_fig)\n",
    "G_fig, G_ax = plt.subplots(figsize=(6, 4))\n",
    "\n",
    "dt_default = 3\n",
    "xlim_default = 5.\n",
    "\n",
    "@interact(dt=(1, min(200,df.frame.max()-1), 1),semiLogScale=True,direction=[\"xy\", \"x\", \"y\"],group_by=[\"experiment\",\"particle\"],x_lim=(1., 30., 0.5),equal_weight_per_particle=True, clearAxes = True)\n",
    "def update(dt=dt_default,x_lim=xlim_default,group_by=\"experiment\",direction=\"xy\",semiLogScale=True,equal_weight_per_particle=True,clearAxes = True):\n",
    "    if clearAxes: G_ax.cla()        \n",
    "    displayData.plot_G_dx_dt(G_df\n",
    "                             ,isdfPadded=True, direction=direction, group_by=group_by, dt=dt, return_stats=False,semilogscale=semiLogScale,ax=G_ax,equal_particle_weight=equal_weight_per_particle)\n",
    "    G_ax.set_xlim([-x_lim,x_lim])\n",
    "    G_ax.set_ylim([1e-6,1e1]) if semiLogScale else G_ax.set_ylim([0,2.])   \n",
    "    G_ax.grid(True)\n",
    "    \n",
    "#     sns.move_legend(G_ax,\"lower left\")\n",
    "#     plt.setp(G_ax.get_legend().get_texts(), fontsize='7')  # for legend text\n",
    "#     plt.setp(G_ax.get_legend().get_title(), fontsize='8')  # for legend title\n"
   ]
  },
  {
   "cell_type": "markdown",
   "id": "d550a29a",
   "metadata": {},
   "source": [
    "# Bayesian"
   ]
  },
  {
   "cell_type": "code",
   "execution_count": null,
   "id": "1c3265ec",
   "metadata": {},
   "outputs": [],
   "source": [
    "dff = trajAnalysis.labelAllTrajectories(df,isPar=True)"
   ]
  },
  {
   "cell_type": "code",
   "execution_count": null,
   "id": "cd5e58af",
   "metadata": {},
   "outputs": [],
   "source": [
    "_,ax=plt.subplots()\n",
    "ax.plot(df[df.particle==  4].state)\n",
    "ax.plot(dff[dff.particle==4].state)"
   ]
  },
  {
   "cell_type": "code",
   "execution_count": null,
   "id": "ec356129",
   "metadata": {},
   "outputs": [],
   "source": [
    "D*dt"
   ]
  },
  {
   "cell_type": "code",
   "execution_count": null,
   "id": "5c73225f",
   "metadata": {
    "scrolled": false
   },
   "outputs": [],
   "source": [
    "_,ax=plt.subplots()\n",
    "ax.plot(df.state)\n",
    "#ax.plot(est_states,linestyle=\"--\")\n"
   ]
  },
  {
   "cell_type": "code",
   "execution_count": null,
   "id": "ba9f3bf5",
   "metadata": {},
   "outputs": [],
   "source": [
    "df.bayesian_A"
   ]
  },
  {
   "cell_type": "code",
   "execution_count": null,
   "id": "aa618bfa",
   "metadata": {},
   "outputs": [],
   "source": []
  },
  {
   "cell_type": "code",
   "execution_count": null,
   "id": "52e8afa0",
   "metadata": {},
   "outputs": [],
   "source": [
    "X=np.arange(860,900)\n",
    "labL=[bayesianTools.labeledParticleLikelihood(np.vstack(bayesianTools.extract_trajData_from_df(df)),\n",
    "                                          [ 110,  536,  886,  919,  975]#[ 110,  536,  886,  919,  975]\n",
    "                                           ,0) for n in X]\n",
    "_,ax=plt.subplots()\n",
    "ax.plot(X-886,labL,label=\"Stick Time\")\n",
    "plt.legend()\n",
    "\n",
    "X=np.arange(890,930)\n",
    "labL=[bayesianTools.labeledParticleLikelihood(np.vstack(bayesianTools.extract_trajData_from_df(df)),\n",
    "                                          [ 110,  536,  886,  919,  975]#[ 110,  536,  886,  919,  975]\n",
    "                                           ,0) for n in X]\n",
    "ax.plot(X-919,labL,label=\"Unstick Time\")\n",
    "plt.legend()"
   ]
  },
  {
   "cell_type": "code",
   "execution_count": null,
   "id": "5ef826d3",
   "metadata": {},
   "outputs": [],
   "source": [
    "iterable_arr = np.asarray(list(itertools.product(np.asarray([-1, 0, 1]), repeat=4)))"
   ]
  },
  {
   "cell_type": "code",
   "execution_count": null,
   "id": "e775f74d",
   "metadata": {},
   "outputs": [],
   "source": [
    "z=np.prod(np.diff(iterable_arr,axis=1)>-1,axis=1,dtype=bool)"
   ]
  },
  {
   "cell_type": "code",
   "execution_count": null,
   "id": "32031a24",
   "metadata": {
    "scrolled": false
   },
   "outputs": [],
   "source": [
    "np.prod(iterable_arr>0,axis=1,dtype=bool)"
   ]
  },
  {
   "cell_type": "code",
   "execution_count": null,
   "id": "81860980",
   "metadata": {},
   "outputs": [],
   "source": [
    "len(iterable_arr[z])"
   ]
  },
  {
   "cell_type": "code",
   "execution_count": null,
   "id": "c78d63cd",
   "metadata": {},
   "outputs": [],
   "source": [
    "_,ax=plt.subplots()\n",
    "ax.plot(df.dr2.values)"
   ]
  },
  {
   "cell_type": "code",
   "execution_count": null,
   "id": "f9202e92",
   "metadata": {},
   "outputs": [],
   "source": []
  },
  {
   "cell_type": "code",
   "execution_count": null,
   "id": "3f75d464",
   "metadata": {},
   "outputs": [],
   "source": [
    "np.where(df.state==0.5)[0][1]"
   ]
  },
  {
   "cell_type": "code",
   "execution_count": null,
   "id": "25d76645",
   "metadata": {},
   "outputs": [],
   "source": [
    "reload(bayesianTools)\n",
    "n=np.where(df.state==0.5)[0][1]\n",
    "\n",
    "X=np.arange(n-50,n+200)\n",
    "labL=np.asarray([bayesianTools.labeledParticleLikelihood(np.vstack(bayesianTools.extract_trajData_from_df(df)),\n",
    "                                          y\n",
    "                                           ,0) for y in X])\n",
    "_,params = bayesianTools.labeledParticleLikelihood(np.vstack(bayesianTools.extract_trajData_from_df(df)),\n",
    "                                          n\n",
    "                                                   ,0,returnParameters=True)\n",
    "_,ax=plt.subplots()\n",
    "ax.plot(X-n,labL)"
   ]
  },
  {
   "cell_type": "code",
   "execution_count": null,
   "id": "e6e97443",
   "metadata": {},
   "outputs": [],
   "source": [
    "(labL[np.where(X==n+d)]-labL[np.where(X==n)])[0]"
   ]
  },
  {
   "cell_type": "code",
   "execution_count": null,
   "id": "1af99a4a",
   "metadata": {},
   "outputs": [],
   "source": [
    "_,ax=plt.subplots()\n",
    "ax.hist(np.random.randn(10**6),100)"
   ]
  },
  {
   "cell_type": "code",
   "execution_count": null,
   "id": "aa565a0b",
   "metadata": {},
   "outputs": [],
   "source": [
    "np.random.randint(-5,6)"
   ]
  },
  {
   "cell_type": "code",
   "execution_count": null,
   "id": "584fd895",
   "metadata": {},
   "outputs": [],
   "source": [
    "d=20\n",
    "DX = np.sum(df.loc[n+1 : (n+d+1),\"dr2\"])\n",
    "VX = np.sum((df.loc[n+1: (n+d+1),\"x\"]-df[df.state==1.].x.mean() )**2+(df.loc[n+1: (n+d+1),\"y\"]-df[df.state==1.].y.mean())**2)\n",
    "\n",
    "\n",
    "pred_dL=-(\n",
    "    (n+d)*np.log( (n+ np.sign(d)*DX/(4*D*dt))/(n+d))+\n",
    "    (n-d)*np.log( (N-n-np.sign(d)*VX/A )/(N-n-d))+\n",
    "    d*np.log(4*D*dt / A)+\n",
    "    np.log(1+d/n)        \n",
    ")\n",
    "# pred_dL=-(\n",
    "# (n+d)*np.log((n+DX/(4*D*dt) )/(n+d))+(n-d)*np.log((n-VX/A)/(n-d))+d*np.log(4*D*dt/A)\n",
    "#     +np.log(1+d*dt/T_stick)\n",
    "# )\n",
    "\n",
    "# pred_dL = -d*np.log(4*D*dt/A)\n",
    "true_dL = (labL[np.where(X==n+d)]-labL[np.where(X==n)])[0]\n",
    "\n",
    "print(\"Pred: {} ; True: {}\".format(np.round(pred_dL,2),np.round(true_dL,2)))\n",
    "\n"
   ]
  },
  {
   "cell_type": "code",
   "execution_count": null,
   "id": "e7906273",
   "metadata": {},
   "outputs": [],
   "source": [
    "d=10"
   ]
  },
  {
   "cell_type": "code",
   "execution_count": null,
   "id": "487b16a5",
   "metadata": {},
   "outputs": [],
   "source": [
    "(np.sum(1-df.loc[n+1 : (n+d+1),\"dr2\"]/(4*D*dt))\n",
    " + np.sum(1+ ((df.loc[n+1: (n+d+1),\"x\"]-df[df.state==1.].x.mean() )**2+(df.loc[n+1: (n+d+1),\"y\"]-df[df.state==1.].y.mean())**2)/ A \n",
    "         )) + d* np.log(A/(4*D*dt))\n"
   ]
  },
  {
   "cell_type": "code",
   "execution_count": null,
   "id": "4d8b5544",
   "metadata": {},
   "outputs": [],
   "source": [
    "N = 1024\n",
    "n = 447\n",
    "-(\n",
    "(df.loc[n+1,\"dr2\"]/(4*D*dt) + 1) * np.log(n*4*np.pi*D*dt) - ( ((df.loc[n+1,\"x\"]-df[df.state==1.].x.mean() )**2+(df.loc[n+1,\"y\"]-df[df.state==1.].y.mean())**2)/ A  +1)* np.log((N-n)*np.pi*A)\n",
    ")"
   ]
  },
  {
   "cell_type": "code",
   "execution_count": null,
   "id": "095f982f",
   "metadata": {},
   "outputs": [],
   "source": [
    "np.nanmean(df[df.state==0.].dr2 / df[df.state==0.].dt/4)"
   ]
  },
  {
   "cell_type": "code",
   "execution_count": null,
   "id": "701d49aa",
   "metadata": {},
   "outputs": [],
   "source": [
    "params[0]"
   ]
  },
  {
   "cell_type": "code",
   "execution_count": null,
   "id": "e84d1b05",
   "metadata": {},
   "outputs": [],
   "source": [
    "np.arange(10)[np.hstack([np.arange(5,6),np.arange(0,5),np.arange(6,10)])]"
   ]
  },
  {
   "cell_type": "code",
   "execution_count": null,
   "id": "cf5c15aa",
   "metadata": {},
   "outputs": [],
   "source": [
    "1003.3783522758029-1005.7648073789106"
   ]
  },
  {
   "cell_type": "code",
   "execution_count": null,
   "id": "35bcd0cd",
   "metadata": {},
   "outputs": [],
   "source": [
    "1003.3783522758029-1007.6013822982765"
   ]
  },
  {
   "cell_type": "code",
   "execution_count": null,
   "id": "c58f5db3",
   "metadata": {},
   "outputs": [],
   "source": [
    "T_unstick/dt"
   ]
  },
  {
   "cell_type": "code",
   "execution_count": null,
   "id": "6d994eb5",
   "metadata": {},
   "outputs": [],
   "source": []
  },
  {
   "cell_type": "code",
   "execution_count": null,
   "id": "fb71b7f6",
   "metadata": {},
   "outputs": [],
   "source": [
    "df = df[df.particle==0]"
   ]
  },
  {
   "cell_type": "code",
   "execution_count": null,
   "id": "e0cc6a27",
   "metadata": {},
   "outputs": [],
   "source": [
    "dt = 1/30.\n",
    "T_stick = 100 * dt * 2 * 2\n",
    "T_unstick = 40 * dt * 2 * 2\n"
   ]
  },
  {
   "cell_type": "code",
   "execution_count": null,
   "id": "74720f6d",
   "metadata": {},
   "outputs": [],
   "source": [
    "np.where(df.state==0.5)[0][1:-1]\n"
   ]
  },
  {
   "cell_type": "code",
   "execution_count": null,
   "id": "06984d7c",
   "metadata": {},
   "outputs": [],
   "source": [
    "[327 342 471 486 779 955]"
   ]
  },
  {
   "cell_type": "code",
   "execution_count": null,
   "id": "d2f07f76",
   "metadata": {},
   "outputs": [],
   "source": [
    "\n",
    " bayesianTools.labeledParticleLikelihood(np.vstack(bayesianTools.extract_trajData_from_df(df)),\n",
    "                                          [ 30, 137, 484, 603, 613, 741, 753, 987]\n",
    "                                                   ,0,returnParameters=False)"
   ]
  },
  {
   "cell_type": "code",
   "execution_count": null,
   "id": "0853cd12",
   "metadata": {},
   "outputs": [],
   "source": [
    "bb = []"
   ]
  },
  {
   "cell_type": "code",
   "execution_count": null,
   "id": "9c1761ec",
   "metadata": {},
   "outputs": [],
   "source": [
    "bb.append(3)"
   ]
  },
  {
   "cell_type": "code",
   "execution_count": null,
   "id": "60c1b18b",
   "metadata": {},
   "outputs": [],
   "source": [
    "bb"
   ]
  },
  {
   "cell_type": "code",
   "execution_count": null,
   "id": "8cdc62c1",
   "metadata": {},
   "outputs": [],
   "source": [
    "[128 192 256 320 832 896 960]\n",
    "[262 277 780 849 864 879]\n",
    "[294 309 770 785 800 953]"
   ]
  },
  {
   "cell_type": "code",
   "execution_count": null,
   "id": "18d36e43",
   "metadata": {
    "scrolled": false
   },
   "outputs": [],
   "source": [
    "reload(bayesianTools)\n",
    "\n",
    "est_states,_,_,_,_ = bayesianTools.labelExperimentTrajectories(df, T_stick,T_unstick)\n",
    "# est_states,_,_,_,_ = bayesianTools.labelExperimentTrajectories(df, 34*0.2,34*0.2)\n",
    "# est_states = bayesianTools.labelAllTrajectories(df).state\n",
    "\n",
    "_,ax=plt.subplots()\n",
    "# ax.plot(df_groundtruth.state)\n",
    "ax.plot(df.state,linestyle=\"-\")\n",
    "ax.plot(est_states,linestyle=\"--\")\n"
   ]
  },
  {
   "cell_type": "code",
   "execution_count": null,
   "id": "f4cb44f2",
   "metadata": {},
   "outputs": [],
   "source": []
  },
  {
   "cell_type": "code",
   "execution_count": null,
   "id": "eed6f3b1",
   "metadata": {
    "scrolled": false
   },
   "outputs": [],
   "source": [
    "reload(bayesianTools)\n",
    "\n",
    "est_states,_,_,_,_ = bayesianTools.labelExperimentTrajectories(df, T_stick,T_unstick)\n",
    "# est_states,_,_,_,_ = bayesianTools.labelExperimentTrajectories(df, 34*0.2,34*0.2)\n",
    "# est_states = bayesianTools.labelAllTrajectories(df).state\n",
    "\n",
    "_,ax=plt.subplots()\n",
    "# ax.plot(df_groundtruth.state)\n",
    "ax.plot(df.state,linestyle=\"-\")\n",
    "ax.plot(est_states,linestyle=\"--\")\n"
   ]
  },
  {
   "cell_type": "code",
   "execution_count": null,
   "id": "fea77372",
   "metadata": {},
   "outputs": [],
   "source": [
    "np.where(df_groundtruth.state==0.5)"
   ]
  },
  {
   "cell_type": "code",
   "execution_count": null,
   "id": "42d3a84d",
   "metadata": {},
   "outputs": [],
   "source": [
    "df.state.plot()"
   ]
  },
  {
   "cell_type": "code",
   "execution_count": null,
   "id": "f86adce8",
   "metadata": {},
   "outputs": [],
   "source": [
    "reload(bayesianTools)\n",
    "\n",
    "est_states,_,_,_,_ = bayesianTools.labelExperimentTrajectories(df, T_stick,T_unstick)\n",
    "\n",
    "_,ax=plt.subplots()\n",
    "ax.plot(df.state)\n",
    "ax.plot(est_states,linestyle=\"--\")\n"
   ]
  },
  {
   "cell_type": "code",
   "execution_count": null,
   "id": "02cbb0e2",
   "metadata": {},
   "outputs": [],
   "source": [
    "np.where(est_states==0.5)"
   ]
  },
  {
   "cell_type": "code",
   "execution_count": null,
   "id": "05b3b0b5",
   "metadata": {},
   "outputs": [],
   "source": [
    "np.where(df.state==0.5)"
   ]
  },
  {
   "cell_type": "code",
   "execution_count": null,
   "id": "1456d910",
   "metadata": {},
   "outputs": [],
   "source": [
    "[109 243 414 535 553 838]"
   ]
  },
  {
   "cell_type": "code",
   "execution_count": null,
   "id": "0bd046b9",
   "metadata": {},
   "outputs": [],
   "source": [
    "_,ax=plt.subplots()\n",
    "ax.plot(df.x.values,df.y.values)"
   ]
  },
  {
   "cell_type": "code",
   "execution_count": null,
   "id": "f2f4315f",
   "metadata": {},
   "outputs": [],
   "source": [
    "#trajData = np.vstack(bayesianTools.extract_trajData_from_df(df)) #np.where(df[df.particle==0][\"state\"]==0.5)[0][1:-1]"
   ]
  },
  {
   "cell_type": "code",
   "execution_count": null,
   "id": "84ff04ad",
   "metadata": {},
   "outputs": [],
   "source": [
    "_,ax = plt.subplots()\n",
    "\n",
    "ax.plot(df[df.particle==571].D_local_T_30)"
   ]
  },
  {
   "cell_type": "code",
   "execution_count": null,
   "id": "dc3c13c1",
   "metadata": {},
   "outputs": [],
   "source": [
    "trajData = np.vstack(bayesianTools.extract_trajData_from_df(df)) #np.where(df[df.particle==0][\"state\"]==0.5)[0][1:-1]"
   ]
  },
  {
   "cell_type": "code",
   "execution_count": null,
   "id": "c18bea82",
   "metadata": {},
   "outputs": [],
   "source": [
    "_,ax = plt.subplots()\n",
    "\n",
    "ax.plot(df.frame,df.state)"
   ]
  },
  {
   "cell_type": "code",
   "execution_count": null,
   "id": "df5fd17b",
   "metadata": {},
   "outputs": [],
   "source": [
    "reload(bayesianTools)\n",
    "bayesianTools.labelParticleTrajectory(trajData,T_stick,T_unstick,enforceModelParameters=[])"
   ]
  },
  {
   "cell_type": "code",
   "execution_count": null,
   "id": "01f1d0dc",
   "metadata": {},
   "outputs": [],
   "source": [
    "bayesianTools.labeledParticleLikelihoodNew(np.vstack(trajData),[],0)"
   ]
  },
  {
   "cell_type": "code",
   "execution_count": null,
   "id": "407fcb85",
   "metadata": {},
   "outputs": [],
   "source": [
    "reload(bayesianTools)\n",
    "# out = bayesianTools.labelExperimentTrajectories(df[df.particle==534],200,300,isPar=True)\n",
    "out = bayesianTools.labelParticleTrajectory(np.vstack(trajData),200,300)\n",
    "print(out)"
   ]
  },
  {
   "cell_type": "code",
   "execution_count": null,
   "id": "8ad679e1",
   "metadata": {},
   "outputs": [],
   "source": [
    "_,ax = plt.subplots()\n",
    "ax.plot(out[0])"
   ]
  },
  {
   "cell_type": "code",
   "execution_count": null,
   "id": "0f6313f0",
   "metadata": {},
   "outputs": [],
   "source": []
  },
  {
   "cell_type": "code",
   "execution_count": null,
   "id": "8153db48",
   "metadata": {},
   "outputs": [],
   "source": [
    "out[-1]"
   ]
  },
  {
   "cell_type": "code",
   "execution_count": null,
   "id": "8ab196e4",
   "metadata": {},
   "outputs": [],
   "source": [
    "a = np.array([0.0, 10.0, 20.0, 30.0])\n",
    "\n",
    "b = np.array([1.0, 2.0, 3.0])\n",
    "\n",
    "a[:, np.newaxis] + b"
   ]
  },
  {
   "cell_type": "code",
   "execution_count": null,
   "id": "1714fed6",
   "metadata": {},
   "outputs": [],
   "source": [
    "np.zeros([4,1]).shape"
   ]
  },
  {
   "cell_type": "code",
   "execution_count": null,
   "id": "cfc983c3",
   "metadata": {
    "scrolled": true
   },
   "outputs": [],
   "source": [
    "np.repmat([3],4)"
   ]
  },
  {
   "cell_type": "code",
   "execution_count": null,
   "id": "e9f2af82",
   "metadata": {},
   "outputs": [],
   "source": [
    "3113*trajData[0][1]"
   ]
  },
  {
   "cell_type": "code",
   "execution_count": null,
   "id": "a3d2bd46",
   "metadata": {},
   "outputs": [],
   "source": [
    "np.max(trajData[0])"
   ]
  },
  {
   "cell_type": "code",
   "execution_count": null,
   "id": "e6365892",
   "metadata": {},
   "outputs": [],
   "source": [
    "trajData = np.vstack(bayesianTools.extract_trajData_from_df(df[df.particle==534])) #np.where(df[df.particle==0][\"state\"]==0.5)[0][1:-1]"
   ]
  },
  {
   "cell_type": "code",
   "execution_count": null,
   "id": "dc567db3",
   "metadata": {},
   "outputs": [],
   "source": [
    "bayesianTools.labelParticleTrajectory(trajData,200,300,enforceModelParameters=[])"
   ]
  },
  {
   "cell_type": "code",
   "execution_count": null,
   "id": "2d6d385f",
   "metadata": {},
   "outputs": [],
   "source": [
    "reload(bayesianTools)\n",
    "L = bayesianTools.labeledParticleLikelihoodNew(trajData,[389,430],0.,\n",
    "                                                          enforceModelParameters=[\n",
    "                                                              params_est[0],params_est[1],params_est[2],params_est[3]])\n",
    "print(L)"
   ]
  },
  {
   "cell_type": "code",
   "execution_count": null,
   "id": "4f775556",
   "metadata": {},
   "outputs": [],
   "source": [
    "params_est"
   ]
  },
  {
   "cell_type": "code",
   "execution_count": null,
   "id": "a89209a6",
   "metadata": {},
   "outputs": [],
   "source": [
    "bayesianTools.labelParticleTrajectory(trajData,T_stick,T_unstick,enforceModelParameters=params_est)"
   ]
  },
  {
   "cell_type": "code",
   "execution_count": null,
   "id": "133fc199",
   "metadata": {
    "scrolled": false
   },
   "outputs": [],
   "source": [
    "reload(bayesianTools)\n",
    "[st,M,STD]=bayesianTools.labelExperimentTrajectories(df,T_stick,T_unstick)\n",
    "df[\"est_st\"]=st\n",
    "print(M)\n",
    "_,ax=plt.subplots()\n",
    "ax.plot(df.state)\n",
    "ax.plot(df.est_st,'--')"
   ]
  },
  {
   "cell_type": "code",
   "execution_count": null,
   "id": "7285de86",
   "metadata": {},
   "outputs": [],
   "source": [
    "reload(bayesianTools)\n",
    "LL,CC=bayesianTools.labelParticleTrajectory(trajData, params_est1[0], params_est1[1])#, enforceModelParameters=params_est1)"
   ]
  },
  {
   "cell_type": "code",
   "execution_count": null,
   "id": "d155bf84",
   "metadata": {},
   "outputs": [],
   "source": [
    "np.where(df.state==0.5)"
   ]
  },
  {
   "cell_type": "code",
   "execution_count": null,
   "id": "f49862e5",
   "metadata": {},
   "outputs": [],
   "source": [
    "np.mean((df.loc[df.state==0,[\"dx\",\"dy\"]]**2).sum(axis=1)/(4*dt))"
   ]
  },
  {
   "cell_type": "code",
   "execution_count": null,
   "id": "079d6291",
   "metadata": {},
   "outputs": [],
   "source": [
    "params_est1"
   ]
  },
  {
   "cell_type": "code",
   "execution_count": null,
   "id": "5bfaddbe",
   "metadata": {},
   "outputs": [],
   "source": [
    "params_est1=params_est"
   ]
  },
  {
   "cell_type": "code",
   "execution_count": null,
   "id": "b9bfd5ed",
   "metadata": {},
   "outputs": [],
   "source": [
    "reload(bayesianTools)\n",
    "L,params_est = bayesianTools.labeledParticleLikelihoodNew(trajData,np.where(df[\"state\"]==0.5)[0][1:-1],0.,enforceModelParameters=params_est1,returnParameters=True)"
   ]
  },
  {
   "cell_type": "code",
   "execution_count": null,
   "id": "ef957133",
   "metadata": {},
   "outputs": [],
   "source": [
    "params_est==params_est1"
   ]
  },
  {
   "cell_type": "code",
   "execution_count": null,
   "id": "8e6c03d2",
   "metadata": {},
   "outputs": [],
   "source": [
    "params_est"
   ]
  },
  {
   "cell_type": "code",
   "execution_count": null,
   "id": "4d5e18ef",
   "metadata": {},
   "outputs": [],
   "source": [
    "trajData=bayesianTools.extract_trajData_from_df(df)"
   ]
  },
  {
   "cell_type": "code",
   "execution_count": null,
   "id": "6c4cf43e",
   "metadata": {},
   "outputs": [],
   "source": [
    "df.frame[df.state==0].plot()"
   ]
  },
  {
   "cell_type": "code",
   "execution_count": null,
   "id": "db0c6bc1",
   "metadata": {},
   "outputs": [],
   "source": [
    "np.sum(df.state==1)/2*dt"
   ]
  },
  {
   "cell_type": "code",
   "execution_count": null,
   "id": "1e8b0895",
   "metadata": {},
   "outputs": [],
   "source": [
    "df.state.plot(marker=\"*\")"
   ]
  },
  {
   "cell_type": "code",
   "execution_count": null,
   "id": "37e2408d",
   "metadata": {},
   "outputs": [],
   "source": [
    "L"
   ]
  },
  {
   "cell_type": "code",
   "execution_count": null,
   "id": "e2a21a50",
   "metadata": {},
   "outputs": [],
   "source": [
    "A"
   ]
  },
  {
   "cell_type": "code",
   "execution_count": null,
   "id": "f39e6eea",
   "metadata": {},
   "outputs": [],
   "source": [
    "np.where(df[\"state\"]==0.5)[0][1:-1]"
   ]
  },
  {
   "cell_type": "code",
   "execution_count": null,
   "id": "872e5f84",
   "metadata": {},
   "outputs": [],
   "source": [
    "LL = lambda x,y:x+y"
   ]
  },
  {
   "cell_type": "code",
   "execution_count": null,
   "id": "07798d76",
   "metadata": {},
   "outputs": [],
   "source": [
    "LL(1,2)"
   ]
  },
  {
   "cell_type": "code",
   "execution_count": null,
   "id": "0ccc3c6f",
   "metadata": {},
   "outputs": [],
   "source": [
    "b = [[1,2,3,4],[1,2,3,6],[1,3,np.nan,np.nan]]"
   ]
  },
  {
   "cell_type": "code",
   "execution_count": null,
   "id": "a20f773a",
   "metadata": {},
   "outputs": [],
   "source": [
    "A=np.vstack(b)"
   ]
  },
  {
   "cell_type": "code",
   "execution_count": null,
   "id": "d631eb0f",
   "metadata": {},
   "outputs": [],
   "source": [
    "np.nanmean(A,axis=0)"
   ]
  },
  {
   "cell_type": "code",
   "execution_count": null,
   "id": "1c6f8904",
   "metadata": {},
   "outputs": [],
   "source": [
    "reload(bayesianTools)\n",
    "\n",
    "bayesianTools.fine_graining_indices_range([1875,2216,3921],4096,341)"
   ]
  },
  {
   "cell_type": "code",
   "execution_count": null,
   "id": "6de8ad4d",
   "metadata": {},
   "outputs": [],
   "source": [
    "def foo():\n",
    "    return [1,2]\n",
    "\n",
    "a = np.arange(3)\n",
    "_,a[0]=foo()"
   ]
  },
  {
   "cell_type": "code",
   "execution_count": null,
   "id": "a82ae7b2",
   "metadata": {},
   "outputs": [],
   "source": [
    "a"
   ]
  },
  {
   "cell_type": "code",
   "execution_count": null,
   "id": "f4d0a3a8",
   "metadata": {},
   "outputs": [],
   "source": [
    "1448 2473 3587 3969"
   ]
  },
  {
   "cell_type": "code",
   "execution_count": null,
   "id": "ec5698b1",
   "metadata": {},
   "outputs": [],
   "source": [
    "reload(bayesianTools)\n",
    "trajData = bayesianTools.extract_trajData_from_df(df)\n",
    "x,y=bayesianTools.labelParticleTrajectory(trajData, 100.,40.)\n",
    "print(y)\n",
    "# fig,ax=plt.subplots()\n",
    "#ax.plot(y)"
   ]
  },
  {
   "cell_type": "code",
   "execution_count": null,
   "id": "6dd37eef",
   "metadata": {},
   "outputs": [],
   "source": [
    "_, ax = plt.subplots()\n",
    "ax.plot(df.state)"
   ]
  },
  {
   "cell_type": "code",
   "execution_count": null,
   "id": "8e064719",
   "metadata": {},
   "outputs": [],
   "source": [
    "np.linspace(-5,5,dtype=int)"
   ]
  },
  {
   "cell_type": "code",
   "execution_count": null,
   "id": "578d0786",
   "metadata": {},
   "outputs": [],
   "source": [
    "a = np.linspace(0,5,60)"
   ]
  },
  {
   "cell_type": "code",
   "execution_count": null,
   "id": "e39f0d31",
   "metadata": {},
   "outputs": [],
   "source": [
    "b = a*1\n",
    "b[0] = 8\n",
    "print(a)"
   ]
  },
  {
   "cell_type": "code",
   "execution_count": null,
   "id": "b8f83016",
   "metadata": {},
   "outputs": [],
   "source": [
    "A = np.zeros([3,2])"
   ]
  },
  {
   "cell_type": "code",
   "execution_count": null,
   "id": "3712f541",
   "metadata": {},
   "outputs": [],
   "source": [
    "for i in range(3):\n",
    "    for j in range(2):\n",
    "        A[i,j] = 3*i+(j+1)**2"
   ]
  },
  {
   "cell_type": "code",
   "execution_count": null,
   "id": "90b76e2e",
   "metadata": {},
   "outputs": [],
   "source": [
    "np.argmax(A)"
   ]
  },
  {
   "cell_type": "code",
   "execution_count": null,
   "id": "d537e989",
   "metadata": {},
   "outputs": [],
   "source": [
    "np.sqrt(4096)"
   ]
  },
  {
   "cell_type": "code",
   "execution_count": null,
   "id": "5afa2000",
   "metadata": {},
   "outputs": [],
   "source": [
    "np.where(df[\"state\"]==0.5)"
   ]
  },
  {
   "cell_type": "code",
   "execution_count": null,
   "id": "25de6ea3",
   "metadata": {},
   "outputs": [],
   "source": [
    "1856/64"
   ]
  },
  {
   "cell_type": "code",
   "execution_count": null,
   "id": "27f249e1",
   "metadata": {},
   "outputs": [],
   "source": [
    "L,_=bayesianTools.labeledParticleLikelihoodNew(trajData, [1280,1856], 0)\n",
    "print(L)"
   ]
  },
  {
   "cell_type": "code",
   "execution_count": null,
   "id": "4fe22018",
   "metadata": {},
   "outputs": [],
   "source": [
    "reload(bayesianTools)\n",
    "\n",
    "xx = np.arange(1100,1400)\n",
    "yy=[bayesianTools.labeledParticleLikelihoodNew(trajData, [x,1900], 0) for x in xx]\n",
    "fig,ax=plt.subplots()\n",
    "ax.plot(xx,yy)\n",
    "ax.set_ylabel('Log-likelihood')\n",
    "ax.set_xlabel('Switch Time')"
   ]
  },
  {
   "cell_type": "code",
   "execution_count": null,
   "id": "3ef2b7a8",
   "metadata": {},
   "outputs": [],
   "source": [
    "yak=np.zeros(2,dtype=object)"
   ]
  },
  {
   "cell_type": "code",
   "execution_count": null,
   "id": "79a2dfd6",
   "metadata": {},
   "outputs": [],
   "source": [
    "yak[0]=[1,2,3]\n",
    "yak[1] = [6,7]\n",
    "np.argmax(yak)"
   ]
  },
  {
   "cell_type": "code",
   "execution_count": null,
   "id": "f7c86b7d",
   "metadata": {},
   "outputs": [],
   "source": [
    "np.arange(-3,6)"
   ]
  },
  {
   "cell_type": "code",
   "execution_count": null,
   "id": "61e9ad72",
   "metadata": {},
   "outputs": [],
   "source": [
    "yom=np.array(3)"
   ]
  },
  {
   "cell_type": "code",
   "execution_count": null,
   "id": "d8f83b3c",
   "metadata": {},
   "outputs": [],
   "source": [
    "np.isscalar([])"
   ]
  },
  {
   "cell_type": "code",
   "execution_count": null,
   "id": "82632ee7",
   "metadata": {},
   "outputs": [],
   "source": [
    "0*np.inf"
   ]
  },
  {
   "cell_type": "code",
   "execution_count": null,
   "id": "71a3db13",
   "metadata": {},
   "outputs": [],
   "source": [
    "np.nansum([6,np.nan])"
   ]
  },
  {
   "cell_type": "code",
   "execution_count": null,
   "id": "3abc88e6",
   "metadata": {},
   "outputs": [],
   "source": [
    "reload(bayesianTools)\n",
    "\n",
    "bayesianTools.labeledParticleLikelihoodNew(trajData, [], 0)"
   ]
  },
  {
   "cell_type": "code",
   "execution_count": null,
   "id": "3d6f68c3",
   "metadata": {},
   "outputs": [],
   "source": [
    "x"
   ]
  },
  {
   "cell_type": "code",
   "execution_count": null,
   "id": "5b89b0b1",
   "metadata": {},
   "outputs": [],
   "source": [
    "reload(bayesianTools)\n",
    "bayesianTools.indLikelyEnoughPk(Pk)"
   ]
  },
  {
   "cell_type": "code",
   "execution_count": null,
   "id": "3bf456ac",
   "metadata": {},
   "outputs": [],
   "source": [
    "K_range = np.arange(0,10)\n",
    "Pk = bayesianTools.kEventsProb(K_range, 0., df.tail(1).t.values, T_stick, T_unstick)\n",
    "fig,ax=plt.subplots()\n",
    "ax.plot(K_range,Pk)"
   ]
  },
  {
   "cell_type": "code",
   "execution_count": null,
   "id": "10a6c8a4",
   "metadata": {},
   "outputs": [],
   "source": [
    "mmm=np.asarray(x[100799])"
   ]
  },
  {
   "cell_type": "code",
   "execution_count": null,
   "id": "5e2785c3",
   "metadata": {},
   "outputs": [],
   "source": [
    "mmm"
   ]
  },
  {
   "cell_type": "code",
   "execution_count": null,
   "id": "c1d9d30a",
   "metadata": {},
   "outputs": [],
   "source": [
    "reload(bayesianTools)\n",
    "\n",
    "print(bayesianTools.labeledParticleLikelihoodNew(trajData, mmm, 0))\n",
    "print(bayesianTools.labeledParticleLikelihoodNew(trajData, [1970, 2037, 2557, 2593], 0))\n"
   ]
  },
  {
   "cell_type": "code",
   "execution_count": null,
   "id": "a325ed8e",
   "metadata": {},
   "outputs": [],
   "source": [
    "s = df.state.values\n",
    "deltaT = 1./df.fps.values[0]\n",
    "s[0] = s[1]\n",
    "s[-1] = s[-2]\n",
    "ds = np.diff(s)\n",
    "x = df.x.values\n",
    "dx = df.dx.values\n",
    "y = df.y.values\n",
    "dy = df.dy.values\n",
    "t = df.t.values\n",
    "dt = df.dt.values\n",
    "T = np.nansum(dt)\n",
    "N_tot = T/deltaT\n",
    "\n",
    "k_field = np.sum(np.abs(ds))\n",
    "k_stick = np.sum(np.abs(ds)*(ds>0))\n",
    "k_unstick = np.sum(np.abs(ds)*(ds<0))\n",
    "n_free = 1+k_stick\n",
    "n_stuck = k_unstick\n",
    "N_free = np.sum(1-s)\n",
    "N_stuck = np.sum(s)\n",
    "\n",
    "D_est = np.nansum((1-s)*(dx**2+dy**2)/(4*dt))/N_free\n",
    "\n",
    "ind_start_stuck = np.where((s[1:]==1) & (s[:-1]==0.5))[0]+1\n",
    "ind_end_stuck = np.where((s[1:]==0) & (s[:-1]==0.5))[0]+1\n",
    "if len(ind_end_stuck)<len(ind_start_stuck):\n",
    "    ind_end_stuck = np.append(ind_end_stuck,(len(s)))\n",
    "\n",
    "A_est = 0\n",
    "for i in range(len(ind_start_stuck)):\n",
    "    x_seg = x[ind_start_stuck[i]:ind_end_stuck[i]]\n",
    "    y_seg = y[ind_start_stuck[i]:ind_end_stuck[i]]\n",
    "    A_est += np.sum ((x_seg-np.mean(x_seg))**2) / N_stuck\n",
    "    A_est += np.sum ((y_seg-np.mean(y_seg))**2) / N_stuck    \n",
    "\n",
    "tau1_est = np.nansum((1-s)*dt)/n_free\n",
    "tau2_est = np.nansum(s*dt)/n_stuck\n",
    "\n",
    "L_spatial = -(N_tot + n_free*tau1_est/deltaT * np.log(4*np.pi*deltaT*D_est) + n_stuck*tau2_est/deltaT * np.log(np.pi*A))              \n",
    "L_temporal = -k_field-1 - n_free*np.log(tau1_est) -n_stuck*np.log(tau2_est)\n",
    "L_Pk =  np.log(bayesianTools.kEventsProb(k_field,0.,T,tau1_est,tau2_est))\n",
    "\n",
    "L_est = L_spatial+L_temporal+L_Pk\n",
    "print(L_spatial)\n",
    "print(L_temporal)\n",
    "print(L_Pk)\n",
    "print(L_est)"
   ]
  },
  {
   "cell_type": "code",
   "execution_count": null,
   "id": "de2da9be",
   "metadata": {},
   "outputs": [],
   "source": [
    "tau2_est"
   ]
  },
  {
   "cell_type": "code",
   "execution_count": null,
   "id": "64ec6192",
   "metadata": {},
   "outputs": [],
   "source": [
    "n_stuck"
   ]
  },
  {
   "cell_type": "code",
   "execution_count": null,
   "id": "1c88c367",
   "metadata": {},
   "outputs": [],
   "source": [
    "fig,ax=plt.subplots()\n",
    "plt.plot(s)"
   ]
  },
  {
   "cell_type": "code",
   "execution_count": null,
   "id": "61e0f1a8",
   "metadata": {
    "scrolled": true
   },
   "outputs": [],
   "source": [
    "df.state[1]"
   ]
  },
  {
   "cell_type": "code",
   "execution_count": null,
   "id": "a708e871",
   "metadata": {},
   "outputs": [],
   "source": [
    "df.state = np.ceil(orig_state)"
   ]
  },
  {
   "cell_type": "code",
   "execution_count": null,
   "id": "7ba4cbc9",
   "metadata": {},
   "outputs": [],
   "source": [
    "#orig_state=df.state"
   ]
  },
  {
   "cell_type": "code",
   "execution_count": null,
   "id": "19ab55fb",
   "metadata": {},
   "outputs": [],
   "source": [
    "df.particle.unique()"
   ]
  },
  {
   "cell_type": "code",
   "execution_count": null,
   "id": "d3948c77",
   "metadata": {},
   "outputs": [],
   "source": [
    "T = 0.5\n",
    "T_stick = 1.8409255338946\n",
    "T_unstick = 1.485168343137783\n",
    "np.abs(T_stick - T_unstick) / T + T / np.abs(T_stick - T_unstick)\n",
    "np.abs(T_stick-T_unstick)/(T_unstick+T_stick)"
   ]
  },
  {
   "cell_type": "code",
   "execution_count": null,
   "id": "629f66f2",
   "metadata": {},
   "outputs": [],
   "source": [
    "reload(bayesianTools)\n",
    "T = 400\n",
    "tau1 = 8\n",
    "tau2 = 6\n",
    "r_mean = (1/tau1 + 1/tau2) /2\n",
    "#P=([bayesianTools.kEventsProb(k, 0,T,tau1,tau2) for k in np.arange(0,200)])\n",
    "P=bayesianTools.kEventsProb(np.arange(0,200), 0.,T,tau1,tau2)\n",
    "fig,ax=plt.subplots()\n",
    "ax.set_title(rf'$T={T}, \\tau_1={tau1}, \\tau_2={tau2}$')\n",
    "ax.plot(P,label=rf'$P_k$')\n",
    "\n",
    "# lamb =r_mean*T\n",
    "lamb = T/((tau1+tau1)/2)\n",
    "# lamb = T/np.min([tau1,tau2])\n",
    "# Pois = [np.exp(-lamb)*lamb**x/factorial(x) for x in np.arange(0,200)]\n",
    "# ax.plot(Pois,label=r'$Pois(\\frac{2T}{\\tau_1+\\tau_2})$')\n",
    "# ax.plot(Pois,label=r'$Pois(\\frac{T}{\\tau_1})$')\n",
    "\n",
    "T = 400\n",
    "tau1 = 6\n",
    "tau2 = 8\n",
    "r_mean = (1/tau1 + 1/tau2) /2\n",
    "#P=([bayesianTools.kEventsProb(k, 0,T,tau1,tau2) for k in np.arange(0,200)])\n",
    "P=bayesianTools.kEventsProb(np.arange(0,200), 1.,T,tau1,tau2)\n",
    "ax.set_title(rf'$T={T}, \\tau_1={tau1}, \\tau_2={tau2}$')\n",
    "ax.plot(P,label=rf'$P_k$')\n",
    "\n",
    "\n",
    "ax.legend()"
   ]
  },
  {
   "cell_type": "code",
   "execution_count": null,
   "id": "91e0b4d6",
   "metadata": {},
   "outputs": [],
   "source": [
    "P=bayesianTools.kEventsProb(np.arange(0,200), 0,5.,2.,3.)\n"
   ]
  },
  {
   "cell_type": "code",
   "execution_count": null,
   "id": "dd9b515b",
   "metadata": {},
   "outputs": [],
   "source": [
    "tau2"
   ]
  },
  {
   "cell_type": "code",
   "execution_count": null,
   "id": "2741d26c",
   "metadata": {},
   "outputs": [],
   "source": [
    "reload(bayesianTools)\n",
    "from bayesianTools import kEventsProbTEMP"
   ]
  },
  {
   "cell_type": "code",
   "execution_count": null,
   "id": "b8a582d7",
   "metadata": {},
   "outputs": [],
   "source": [
    "sum(P)"
   ]
  },
  {
   "cell_type": "code",
   "execution_count": null,
   "id": "e77d8a63",
   "metadata": {},
   "outputs": [],
   "source": [
    "reload(bayesianTools)\n",
    "P=[bayesianTools.kEventsProbNew(K,0,10,3,5) for K in range(30)]\n",
    "sum(P)"
   ]
  },
  {
   "cell_type": "code",
   "execution_count": null,
   "id": "85ee0a81",
   "metadata": {},
   "outputs": [],
   "source": [
    "reload(bayesianTools)\n",
    "K=1\n",
    "bayesianTools.kEventsProbNew(K,0,10,30,5)"
   ]
  },
  {
   "cell_type": "code",
   "execution_count": null,
   "id": "e0dbea43",
   "metadata": {},
   "outputs": [],
   "source": [
    "plt.plot(b)\n",
    "plt.show()"
   ]
  },
  {
   "cell_type": "code",
   "execution_count": null,
   "id": "80b08700",
   "metadata": {},
   "outputs": [],
   "source": [
    "df[df.state==0].dr2.mean()/dt/4"
   ]
  },
  {
   "cell_type": "code",
   "execution_count": null,
   "id": "a407e020",
   "metadata": {},
   "outputs": [],
   "source": [
    "np.min(np.where(np.arange(10)>5))"
   ]
  },
  {
   "cell_type": "code",
   "execution_count": null,
   "id": "a53f6e34",
   "metadata": {},
   "outputs": [],
   "source": [
    "np.mean(np.diff(df.t.values[df.state==0.5])[1::2])/T_unstick"
   ]
  },
  {
   "cell_type": "code",
   "execution_count": null,
   "id": "7609bec6",
   "metadata": {},
   "outputs": [],
   "source": [
    "print(stick_times)\n",
    "print(T_unstick)"
   ]
  },
  {
   "cell_type": "code",
   "execution_count": null,
   "id": "ca99be95",
   "metadata": {},
   "outputs": [],
   "source": [
    "reload(bayesianTools)\n",
    "T_stick_arr = [3.]\n",
    "T_unstick_arr =[7.]\n",
    "D_arr =[5.,6.]\n",
    "A_arr =[9.,50.]\n",
    "bayesianTools.gridLikelihood(df, T_stick_arr, T_unstick_arr, D_arr, A_arr, usePar=False)\n",
    "args_iterable = itertools.product(T_stick_arr, T_unstick_arr, D_arr, A_arr)\n",
    "args_list = list(args_iterable)"
   ]
  },
  {
   "cell_type": "code",
   "execution_count": null,
   "id": "39c11a11",
   "metadata": {},
   "outputs": [],
   "source": [
    "D_mat = np.reshape(args_list[:,2],[2,2])\n",
    "A_mat = np.reshape(args_list[:,2],[2,2])"
   ]
  },
  {
   "cell_type": "code",
   "execution_count": null,
   "id": "15e93536",
   "metadata": {},
   "outputs": [],
   "source": [
    "np.asarray(args_list)"
   ]
  },
  {
   "cell_type": "code",
   "execution_count": null,
   "id": "12f69e54",
   "metadata": {},
   "outputs": [],
   "source": [
    "np.where([False])"
   ]
  },
  {
   "cell_type": "code",
   "execution_count": null,
   "id": "e339c766",
   "metadata": {},
   "outputs": [],
   "source": [
    "np.max(L)-L"
   ]
  },
  {
   "cell_type": "code",
   "execution_count": null,
   "id": "5ddfdb8a",
   "metadata": {},
   "outputs": [],
   "source": [
    "plt.figure(fig1)"
   ]
  },
  {
   "cell_type": "code",
   "execution_count": null,
   "id": "121ab633",
   "metadata": {},
   "outputs": [],
   "source": [
    "f_arr = [fig1,fig2,fig]"
   ]
  },
  {
   "cell_type": "code",
   "execution_count": null,
   "id": "747f7921",
   "metadata": {},
   "outputs": [],
   "source": [
    "sns.lineplot(X_arr/X[i] , L-np.max(L) , linewidth=2.5,label=X_str[i])\n",
    "plt.show()"
   ]
  },
  {
   "cell_type": "code",
   "execution_count": null,
   "id": "8ffa87d0",
   "metadata": {},
   "outputs": [],
   "source": [
    "Z_arr = np.logspace(-1,1,41)*Z\n",
    "W_arr = np.logspace(-1,1,41)*W\n",
    "L=bayesianTools.gridLikelihood(df,[T_stick],[T_unstick], Z_arr, W_arr, usePar=True,saveFiles=True)\n",
    "L_mat2= np.reshape(L,[len(Z_arr),len(W_arr)])\n"
   ]
  },
  {
   "cell_type": "code",
   "execution_count": null,
   "id": "1eb0480e",
   "metadata": {
    "scrolled": false
   },
   "outputs": [],
   "source": [
    "reload(bayesianTools)\n",
    "\n",
    "X = [T_stick,T_unstick,D,A]\n",
    "X_str = [\"T_stick\",\"T_unstick\",\"D\",\"A\"]\n",
    "\n",
    "fig,ax = plt.subplots()\n",
    "fig1,ax1 = plt.subplots()\n",
    "fig2,ax2 = plt.subplots()\n",
    "ax_arr = [ax1,ax2, ax]\n",
    "f_arr = [fig1,fig2,fig]\n",
    "for i in range(4):\n",
    "    array_arr = [[T_stick],[T_unstick],[D],[A]]\n",
    "    X_arr = np.logspace(-1,1,201)*X[i]\n",
    "    array_arr[i]=X_arr    \n",
    "    L=bayesianTools.gridLikelihood(df,array_arr[0],array_arr[1],array_arr[2],array_arr[3], usePar=True,saveFiles=True)\n",
    "    sns.lineplot(X_arr/X[i] , L-np.max(L) , linewidth=2.5,label=X_str[i],ax=ax)\n",
    "    sns.lineplot(X_arr/X[i] , L-np.max(L) , linewidth=2.5,label=X_str[i],ax=ax_arr[int(np.floor(i/2))])\n",
    "\n",
    "for a in ax_arr:\n",
    "    a.set_xscale(\"log\")\n",
    "    #a.set_yscale(\"log\")\n",
    "    a.set_ylabel('Log-Likelihood - max')\n",
    "    a.set_xlabel('Param/True')\n",
    "    a.legend()\n",
    "    \n",
    "for j,f in enumerate(f_arr):\n",
    "    plt.figure(f)\n",
    "    plt.savefig(\"myfig_L_\"+str(j)+\".png\",dpi=400)\n",
    "    \n",
    "X = T_stick\n",
    "Y = T_unstick\n",
    "Z = D\n",
    "W = A\n",
    "X_arr = np.logspace(-1,1,101)*X\n",
    "Y_arr = np.logspace(-1,1,101)*Y\n",
    "Z_arr = np.logspace(-1,1,101)*Z\n",
    "W_arr = np.logspace(-1,1,101)*W\n",
    "L=bayesianTools.gridLikelihood(df, X_arr, Y_arr, [D], [A], usePar=True,saveFiles=True)\n",
    "L_mat1= np.reshape(L,[len(X_arr),len(Y_arr)])\n",
    "L=bayesianTools.gridLikelihood(df,[T_stick],[T_unstick], Z_arr, W_arr, usePar=True,saveFiles=True)\n",
    "L_mat2= np.reshape(L,[len(Z_arr),len(W_arr)])\n",
    "\n",
    "\n"
   ]
  },
  {
   "cell_type": "code",
   "execution_count": null,
   "id": "d47e386f",
   "metadata": {},
   "outputs": [],
   "source": [
    "np.floor(i/2)"
   ]
  },
  {
   "cell_type": "code",
   "execution_count": null,
   "id": "c36f2e2c",
   "metadata": {},
   "outputs": [],
   "source": [
    "reload(bayesianTools)\n",
    "\n",
    "X = T_stick\n",
    "Y = T_unstick\n",
    "X_arr = np.logspace(-1,1,101)*X\n",
    "Y_arr = np.logspace(-1,1,101)*Y\n",
    "L=bayesianTools.gridLikelihood(df, X_arr, Y_arr, [D], [A], usePar=True,saveFiles=True)\n",
    "L_mat= np.reshape(L,[len(X_arr),len(Y_arr)])\n",
    "fig = px.imshow(np.exp(L_mat-np.max(L_mat[:])),labels=dict(x=\"T<sub>stick</sub>/True\", y=\"T<sub>unstick</sub>/True\"),\n",
    "                x=X_arr/X,y=Y_arr/Y)\n",
    "fig.layout.coloraxis.colorbar.title = 'Likelihood / max'\n",
    "fig.update_xaxes(type=\"log\")\n",
    "fig.update_yaxes(type=\"log\")\n",
    "fig.update_xaxes(side=\"top\")\n",
    "fig.show()"
   ]
  },
  {
   "cell_type": "code",
   "execution_count": null,
   "id": "ec7fc500",
   "metadata": {},
   "outputs": [],
   "source": [
    "L_mat1.shape"
   ]
  },
  {
   "cell_type": "code",
   "execution_count": null,
   "id": "553303a2",
   "metadata": {},
   "outputs": [],
   "source": [
    "reload(bayesianTools)\n",
    "#stick unstick D a\n",
    "#init_state=1\n",
    "X = T_stick\n",
    "Y = T_unstick\n",
    "X_arr = np.logspace(-1,1,101)*X\n",
    "Y_arr = np.logspace(-1,1,101)*Y\n",
    "# X_arr = np.linspace(0.5,2,31)*X\n",
    "# Y_arr = np.linspace(0.5,2,31)*Y\n",
    "# L_mat = np.zeros([len(X_arr),len(Y_arr)])\n",
    "\n",
    "# gb = df.groupby(\"particle\")\n",
    "# for _,particle_df in gb:\n",
    "#     getL = lambda x: bayesianTools.labeledParticleLikelihood(particle_df, x[0], x[1],x[2],x[3])\n",
    "#     for i in range(len(X_arr)):\n",
    "#         for j in range(len(Y_arr)):\n",
    "#             L_mat[i,j] +=getL([X_arr[i],Y_arr[j],D,A])/len(particle_df)\n",
    "    \n",
    "fig = px.imshow(np.exp(L_mat1-np.max(L_mat1[:])),labels=dict(x=\"T<sub>stick</sub>/True\", y=\"T<sub>unstick</sub>/True\"),\n",
    "                x=X_arr/X,y=Y_arr/Y)\n",
    "    # fig = px.imshow(np.exp(L_mat-np.max(L_mat[:])),labels=dict(x=\"D/D<sub>True</sub>\", y=\"A/A<sub>True</sub>\"),\n",
    "#                 x=X_arr/X,y=Y_arr/Y)\n",
    "fig.layout.coloraxis.colorbar.title = 'Likelihood / max'\n",
    "fig.update_xaxes(type=\"log\")\n",
    "fig.update_yaxes(type=\"log\")\n",
    "fig.update_xaxes(side=\"top\")\n",
    "fig.show()\n"
   ]
  },
  {
   "cell_type": "code",
   "execution_count": null,
   "id": "a83ece1a",
   "metadata": {},
   "outputs": [],
   "source": [
    "reload(bayesianTools)\n",
    "#stick unstick D a\n",
    "#init_state=1\n",
    "X = D\n",
    "Y = A\n",
    "X_arr = np.logspace(-.7,.7,31)*X\n",
    "Y_arr = np.logspace(-.7,.7,31)*Y\n",
    "# X_arr = np.linspace(0.5,2,31)*X\n",
    "# Y_arr = np.linspace(0.5,2,31)*Y\n",
    "L_mat = np.zeros([len(X_arr),len(Y_arr)])\n",
    "\n",
    "gb = df.groupby(\"particle\")\n",
    "for _,particle_df in gb:\n",
    "    getL = lambda x: bayesianTools.labeledParticleLikelihood(particle_df, x[0], x[1],x[2],x[3])\n",
    "    for i in range(len(X_arr)):\n",
    "        for j in range(len(Y_arr)):\n",
    "            L_mat[i,j] +=getL([T_stick,T_unstick,X_arr[i],Y_arr[j]])/len(particle_df)\n",
    "    \n",
    "fig = px.imshow(np.exp(L_mat-np.max(L_mat[:])),labels=dict(x=\"D/D<sub>True</sub>\", y=\"A/A<sub>True</sub>\"),\n",
    "            x=X_arr/X,y=Y_arr/Y)\n",
    "fig.layout.coloraxis.colorbar.title = 'Likelihood / max'\n",
    "fig.update_xaxes(type=\"log\")\n",
    "fig.update_yaxes(type=\"log\")\n",
    "fig.update_xaxes(side=\"top\")\n",
    "fig.show()\n"
   ]
  },
  {
   "cell_type": "code",
   "execution_count": null,
   "id": "4bac3e94",
   "metadata": {},
   "outputs": [],
   "source": [
    "reload(bayesianTools)\n",
    "bayesianTools.labeledParticleLikelihood(df[df.particle==10],T_stick,T_unstick,D,A)"
   ]
  },
  {
   "cell_type": "code",
   "execution_count": null,
   "id": "3ff9f22d",
   "metadata": {},
   "outputs": [],
   "source": [
    "fig = go.Figure(data=go.Heatmap(\n",
    "                   z=np.exp(L_mat-np.max(L_mat[:])),\n",
    "                   x=X_arr/X,\n",
    "                   y=Y_arr/Y,\n",
    "                   hoverongaps = False))\n",
    "fig.layout.coloraxis.colorbar.title = 'Likelihood / max'\n",
    "fig.update_xaxes(type=\"log\")\n",
    "fig.update_yaxes(type=\"log\")\n",
    "fig.show()"
   ]
  },
  {
   "cell_type": "code",
   "execution_count": null,
   "id": "3d5a4b72",
   "metadata": {},
   "outputs": [],
   "source": [
    "reload(bayesianTools)\n",
    "#stick unstick D a\n",
    "#init_state=1\n",
    "X = A\n",
    "X_arr = np.logspace(-.3,.3,150)*X\n",
    "L_arr = np.zeros(X_arr.shape)\n",
    "\n",
    "gb = df.groupby(\"particle\")\n",
    "for _,particle_df in gb:\n",
    "    getL = lambda x: bayesianTools.labeledParticleLikelihood(particle_df, x[0], x[1],x[2],x[3])\n",
    "    L_arr += [getL([T_stick,T_unstick,D,x_iter]) for x_iter in X_arr]\n",
    "\n",
    "\n",
    "f, ax = plt.subplots();\n",
    "sns.lineplot(x=X_arr/X,y=L_arr,marker=\"*\")\n",
    "ax.set_xscale(\"log\"); ax.set_ylim([np.min(L_arr),np.max(L_arr)]);\n",
    "\n",
    "\n"
   ]
  },
  {
   "cell_type": "code",
   "execution_count": null,
   "id": "e0ef9517",
   "metadata": {},
   "outputs": [],
   "source": [
    "df.experiment.unique()[0].lower"
   ]
  },
  {
   "cell_type": "code",
   "execution_count": null,
   "id": "0832612a",
   "metadata": {},
   "outputs": [],
   "source": [
    "df.t"
   ]
  },
  {
   "cell_type": "code",
   "execution_count": null,
   "id": "a3f16e1f",
   "metadata": {
    "scrolled": true
   },
   "outputs": [],
   "source": [
    "fig = px.line(df, x=\"t\", y=\"D_local_T_30\", color='state',hover_data=['particle','state','isMobile','t','mass'],color_discrete_sequence=px.colors.qualitative.D3,)\n",
    "fig.show()"
   ]
  },
  {
   "cell_type": "code",
   "execution_count": null,
   "id": "cf5ff93f",
   "metadata": {},
   "outputs": [],
   "source": [
    "df.y.var()+df.x.var()"
   ]
  },
  {
   "cell_type": "code",
   "execution_count": null,
   "id": "a205f91e",
   "metadata": {},
   "outputs": [],
   "source": [
    "startAtOrigin=True\n",
    "plotly_df = df.copy()[df.particle==0] # df_result\n",
    "plotly_df.y *=-1; plotly_df.particle = plotly_df.particle.astype(str) ; plotly_df.state = plotly_df.state.astype(int).astype(str)\n",
    "fig = px.line(plotly_df, x=\"x\", y=\"y\", color='state',hover_data=['particle','state','isMobile','t','mass'],color_discrete_sequence=px.colors.qualitative.D3,); fig.update_yaxes(scaleanchor = \"x\",scaleratio = 1,)\n",
    "fig.show()"
   ]
  },
  {
   "cell_type": "code",
   "execution_count": null,
   "id": "7722bbf0",
   "metadata": {},
   "outputs": [],
   "source": [
    "T_stick= 1000*dt\n",
    "T_unstick= 200*dt\n",
    "D= 0.3333\n",
    "A= 0.1**2"
   ]
  },
  {
   "cell_type": "code",
   "execution_count": null,
   "id": "537e41e7",
   "metadata": {},
   "outputs": [],
   "source": [
    "df"
   ]
  },
  {
   "cell_type": "code",
   "execution_count": null,
   "id": "ad174a13",
   "metadata": {},
   "outputs": [],
   "source": [
    "df = df[::2].reset_index()"
   ]
  },
  {
   "cell_type": "code",
   "execution_count": null,
   "id": "33c5f650",
   "metadata": {},
   "outputs": [],
   "source": [
    "reload(bayesianTools)\n",
    "plt.close(\"all\")\n",
    "# T_stick *= 1+ 0.9*(np.random.rand()-0.5)\n",
    "# T_unstick *= 1+ 0.9*(np.random.rand()-0.5)\n",
    "# D *= 1+ 0.01(np.random.rand()-0.5)\n",
    "# A *= 1+ 0.7*(np.random.rand()-0.5)\n",
    "# T_stick = 2.\n",
    "# T_unstick = 3.\n",
    "# D = 0.1\n",
    "# A = 0.001\n",
    "\n",
    "\n",
    "\n",
    "df_out,maxL = bayesianTools.particleLikelihood(df, T_stick, T_unstick, D, A, 1)\n",
    "\n",
    "w\n",
    "figg, axx = plt.subplots(figsize=(5,5))\n",
    "figv, axv = plt.subplots(figsize=(5,5))\n",
    "startAtOrigin=False\n",
    "z=displayData.plotTrajectories(df_out, t_end=len(df_out), doneTrajNoMarker=doneTrajNoMarker,startAtOrigin=startAtOrigin,dispLegend=False, ax=axx, useDrawnLines=False, drawnLines=[],hideLines=False,axForVelocityPlot=axv)\n",
    "\n",
    "# trajData = bayesianTools.extract_trajData_from_df(df)\n",
    "\n",
    "\n",
    "# df.loc[df.index[-1],\"state\"]=0.5\n",
    "# ind = df[\"state\"] == 0.5\n",
    "# ind[0] = True\n",
    "# t_stick_unstick_with_boundary = df.t[ind]\n",
    "# t_stick_unstick = t_stick_unstick_with_boundary[1:-1]\n",
    "\n",
    "# dt_for_jac = 0.02 * np.ones(len(t_stick_unstick))\n",
    "# log_P_k = np.log(bayesianTools.kEventsProb(len(t_stick_unstick), 0, df.t.values.max(), T_stick=T_stick,\n",
    "#                                            T_unstick=T_unstick).astype(\n",
    "#     float) * np.abs(1))  # involve init state prior\n",
    "# true_likelihood = log_P_k + bayesianTools.specificTrajectoryLikelihood(trajData, 0, t_stick_unstick,\n",
    "#                                                                        dt_for_jac, T_stick=T_stick,\n",
    "#                                                                        T_unstick=T_unstick,\n",
    "#                                                                        D=D, A=A)\n",
    "\n",
    "# plt.figure()\n",
    "# plt.subplot(1, 3, 1)\n",
    "# ax = plt.gca()\n",
    "# displayData.plotTrajectories(df, t_end=2000, startAtOrigin=True, doneTrajNoMarker=True, ax=ax)\n",
    "# ax.set_title(\"True ; L=\" + \"{:.2f}\".format(true_likelihood))\n",
    "# df_unsplit, max_likelihood = bayesianTools.particleLikelihood(df.head(80), T_stick=T_stick, T_unstick=T_unstick, D=D,\n",
    "#                                                                    A=A, mode=1)\n",
    "\n",
    "\n",
    "# N = len(df)\n",
    "# half_N = int(N / 2)\n",
    "# df1, max_likelihood1 = bayesianTools.particleLikelihood(df.head(half_N), T_stick=T_stick, T_unstick=T_unstick,\n",
    "#                                                               D=D, A=A,\n",
    "#                                                               mode=1)\n",
    "# df2, max_likelihood2 = bayesianTools.particleLikelihood(df.tail(half_N), T_stick=T_stick, T_unstick=T_unstick,\n",
    "#                                                               D=D, A=A,\n",
    "#                                                               mode=1)\n",
    "# df_split = df1.append(df2)\n",
    "\n",
    "\n",
    "# plt.subplot(1, 3, 2)\n",
    "# ax = plt.gca()\n",
    "# displayData.plotTrajectories(df_unsplit, t_end=2000, startAtOrigin=True, doneTrajNoMarker=True, ax=ax)\n",
    "# ax.set_title(\"Unsplit ; L=\" + \"{:.2f}\".format(max_likelihood))\n",
    "# plt.subplot(1, 3, 2)\n",
    "# ax = plt.gca()\n",
    "\n",
    "# plt.subplot(1, 3, 3)\n",
    "# ax = plt.gca()\n",
    "# displayData.plotTrajectories(df_split, t_end=2000, startAtOrigin=True, doneTrajNoMarker=True, ax=ax)\n",
    "# ax.set_title(\"Split ; L=\" + \"{:.2f}\".format(max_likelihood1 + max_likelihood2))\n",
    "# plt.show(block=False)\n",
    "\n",
    "# plt.figure()\n",
    "# plt.plot(df.frame,df.state,marker='*')\n",
    "# plt.plot(df_unsplit.frame,df_unsplit.state, linestyle=\"--\",marker='*')\n",
    "# plt.plot(df_split.frame,df_split.state, linestyle=\":\",marker='*')\n",
    "\n"
   ]
  },
  {
   "cell_type": "code",
   "execution_count": null,
   "id": "372c1ab0",
   "metadata": {},
   "outputs": [],
   "source": [
    "df_groundtruth=df.copy()"
   ]
  },
  {
   "cell_type": "code",
   "execution_count": null,
   "id": "be059bb9",
   "metadata": {},
   "outputs": [],
   "source": [
    "df_assigned.columns"
   ]
  },
  {
   "cell_type": "code",
   "execution_count": null,
   "id": "6e4a1006",
   "metadata": {},
   "outputs": [],
   "source": [
    "df_assigned = df.copy()"
   ]
  },
  {
   "cell_type": "code",
   "execution_count": null,
   "id": "42ee032f",
   "metadata": {},
   "outputs": [],
   "source": [
    "df = df_assigned.copy()"
   ]
  },
  {
   "cell_type": "code",
   "execution_count": null,
   "id": "e93a61fe",
   "metadata": {},
   "outputs": [],
   "source": [
    "df[\"true_state\"] = df_groundtruth[\"state\"]"
   ]
  },
  {
   "cell_type": "code",
   "execution_count": null,
   "id": "1b31267b",
   "metadata": {},
   "outputs": [],
   "source": [
    "len(df[df[\"true_state\"]==1.])"
   ]
  },
  {
   "cell_type": "code",
   "execution_count": null,
   "id": "816beaf1",
   "metadata": {},
   "outputs": [],
   "source": [
    "len(df[(df[\"true_state\"]!=df[\"state\"]) & (df[\"true_state\"]==1.)  ] )/len(df)"
   ]
  },
  {
   "cell_type": "code",
   "execution_count": null,
   "id": "b4387899",
   "metadata": {},
   "outputs": [],
   "source": [
    "0.28356680381720956/0.3"
   ]
  },
  {
   "cell_type": "code",
   "execution_count": null,
   "id": "ef30b797",
   "metadata": {
    "scrolled": true
   },
   "outputs": [],
   "source": [
    "ZZ=df.groupby(\"particle\").first().bayesian_T_unstick\n",
    "print(ZZ[~ZZ.isna()].mean())\n",
    "print(ZZ[~ZZ.isna()].std()/ZZ[~ZZ.isna()].mean())"
   ]
  },
  {
   "cell_type": "code",
   "execution_count": null,
   "id": "c79105ef",
   "metadata": {},
   "outputs": [],
   "source": []
  },
  {
   "cell_type": "code",
   "execution_count": null,
   "id": "67e5f751",
   "metadata": {},
   "outputs": [],
   "source": []
  },
  {
   "cell_type": "code",
   "execution_count": null,
   "id": "eb159409",
   "metadata": {},
   "outputs": [],
   "source": [
    "for particle in range(1000):\n",
    "    print(\"Particle {} has {} switches\".format(particle,\n",
    "                                              -2+np.sum(df[df.particle==particle].state==0.5)))"
   ]
  },
  {
   "cell_type": "code",
   "execution_count": null,
   "id": "6f241889",
   "metadata": {},
   "outputs": [],
   "source": [
    "reload(bayesianTools)\n",
    "df[\"true_state\"]=true_df[\"state\"]\n",
    "df=bayesianTools.labelAllTrajectories(df,isPar=True)"
   ]
  },
  {
   "cell_type": "code",
   "execution_count": null,
   "id": "5b93117b",
   "metadata": {},
   "outputs": [],
   "source": [
    "relabeled_df = df.copy()"
   ]
  },
  {
   "cell_type": "code",
   "execution_count": null,
   "id": "c1170c1a",
   "metadata": {},
   "outputs": [],
   "source": [
    "print(\"D = {} +- {}\".format(np.round(df.bayesian_D.mean(),2) , np.round(df.bayesian_D.std(),2)))\n",
    "print(\"A = {} +- {}\".format(np.round(df.bayesian_A.mean(),5) , np.round(df.bayesian_A.std(),5)))\n",
    "print(\"Ts = {} +- {}\".format(np.round(df.bayesian_T_stick.mean(),2) , np.round(df.bayesian_T_stick.std(),2)))\n",
    "print(\"Tu = {} +- {}\".format(np.round(df.bayesian_T_unstick.mean(),2) , np.round(df.bayesian_T_unstick.std(),2)))"
   ]
  },
  {
   "cell_type": "code",
   "execution_count": null,
   "id": "31bd79a0",
   "metadata": {},
   "outputs": [],
   "source": [
    "print(\"D = {} +- {}\".format(np.round(relabeled_df.bayesian_D.mean(),2) , np.round(relabeled_df.bayesian_D.std(),2)))\n",
    "print(\"A = {} +- {}\".format(np.round(relabeled_df.bayesian_A.mean(),5) , np.round(relabeled_df.bayesian_A.std(),5)))\n",
    "print(\"Ts = {} +- {}\".format(np.round(relabeled_df.bayesian_T_stick.mean(),2) , np.round(relabeled_df.bayesian_T_stick.std(),2)))\n",
    "print(\"Tu = {} +- {}\".format(np.round(relabeled_df.bayesian_T_unstick.mean(),2) , np.round(relabeled_df.bayesian_T_unstick.std(),2)))"
   ]
  },
  {
   "cell_type": "code",
   "execution_count": null,
   "id": "eb524028",
   "metadata": {},
   "outputs": [],
   "source": [
    "T_unstick/T_end"
   ]
  },
  {
   "cell_type": "code",
   "execution_count": null,
   "id": "57b5c5e8",
   "metadata": {
    "scrolled": false
   },
   "outputs": [],
   "source": [
    "_,ax=plt.subplots(10,2)\n",
    "for i in range(10):\n",
    "    for j in range(2):\n",
    "        smalldf = df[df.particle==i+j*10]\n",
    "        ax[i,j].plot(smalldf.true_state)\n",
    "        ax[i,j].plot(smalldf.state,linestyle=\"--\")\n",
    "        ax[i,j].plot(relabeled_df[relabeled_df.particle==i+j*10].state,linestyle=\":\")"
   ]
  }
 ],
 "metadata": {
  "kernelspec": {
   "display_name": "Python 3 (ipykernel)",
   "language": "python",
   "name": "python3"
  },
  "language_info": {
   "codemirror_mode": {
    "name": "ipython",
    "version": 3
   },
   "file_extension": ".py",
   "mimetype": "text/x-python",
   "name": "python",
   "nbconvert_exporter": "python",
   "pygments_lexer": "ipython3",
   "version": "3.8.12"
  }
 },
 "nbformat": 4,
 "nbformat_minor": 5
}
