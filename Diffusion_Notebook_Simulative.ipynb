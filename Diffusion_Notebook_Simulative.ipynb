{
 "cells": [
  {
   "cell_type": "markdown",
   "id": "72cf9ffe",
   "metadata": {},
   "source": [
    "# Setup"
   ]
  },
  {
   "cell_type": "code",
   "execution_count": 14,
   "id": "93d221e6",
   "metadata": {},
   "outputs": [
    {
     "name": "stdout",
     "output_type": "stream",
     "text": [
      "The autoreload extension is already loaded. To reload it, use:\n",
      "  %reload_ext autoreload\n"
     ]
    }
   ],
   "source": [
    "%matplotlib notebook\n",
    "%load_ext autoreload\n",
    "%autoreload 2\n",
    "\n",
    "import ipywidgets as widgets\n",
    "from ipywidgets import interact\n",
    "from IPython.display import HTML,clear_output\n",
    "from importlib import reload\n",
    "import time\n",
    "\n",
    "import itertools\n",
    "import numpy as np\n",
    "import scipy\n",
    "import pandas as pd\n",
    "import seaborn as sns\n",
    "import matplotlib.pyplot as plt\n",
    "import matplotlib.animation as animation\n",
    "import plotly.express as px\n",
    "import plotly.graph_objects as go\n",
    "\n",
    "from importData import import_all,generate_diffuse_tether_trajectories\n",
    "import displayData\n",
    "import trajAnalysis\n",
    "import bayesianTools\n",
    "from model_utils import GenerationMode\n",
    "import model\n",
    "from utils import notebook_setup_widgets,accuracy_of_hidden_paths\n",
    "import tests\n",
    "\n",
    "from scipy.stats import loguniform\n",
    "from config import OUTPUTS_DIR"
   ]
  },
  {
   "cell_type": "markdown",
   "id": "2cee3a70",
   "metadata": {},
   "source": [
    "## Generate trajectories"
   ]
  },
  {
   "cell_type": "code",
   "execution_count": 2,
   "id": "c7e4ee4a",
   "metadata": {},
   "outputs": [],
   "source": [
    "regimes_table = np.array([\n",
    "    [1, 10, 2*10**3, 2*10**3, 10**5], #1\n",
    "    [1, 2, 2*10**3, 2*10**3, 10**5], #2\n",
    "    [1, 1, 2*10**3, 2*10**3, 10**5], #3\n",
    "    [1, 10, 50, 50, 10**5], #4\n",
    "    [1, 10, 50, 100, 10**5], #5\n",
    "    [1, 10, 100, 50, 10**5], #6\n",
    "    [1, 1, 5, 5, 10**5], #7\n",
    "    [1, 1, 5, 10, 10**5], #8\n",
    "    [1, 1, 10, 5, 10**5], #9\n",
    "])"
   ]
  },
  {
   "cell_type": "code",
   "execution_count": 65,
   "id": "99929da5",
   "metadata": {},
   "outputs": [],
   "source": [
    "N_particle=1\n",
    "D = 1.\n",
    "regime = regimes_table[0]\n",
    "A,dt,T_stick,T_unstick,T = regime\n",
    "T = 10**4\n",
    "A *=D\n",
    "N_steps = int(T/dt)\n",
    "df, model_params = tests.generateSynthTrajs(N_steps, N_particle, dt, T_stick, T_unstick, D, A)\n",
    "X_arr_list = bayesianTools.extract_X_arr_list_from_df(df)\n",
    "dt_list = bayesianTools.extract_dt_list_from_df(df)"
   ]
  },
  {
   "cell_type": "code",
   "execution_count": 101,
   "id": "7f2b2164",
   "metadata": {},
   "outputs": [],
   "source": [
    "S_arr, X_tether_arr, viterbi_path_log_likelihood,L_mat,S_mat = bayesianTools.viterbi_algorithm(X_arr_list[0], model_params)"
   ]
  },
  {
   "cell_type": "code",
   "execution_count": 102,
   "id": "3c8f7a10",
   "metadata": {},
   "outputs": [
    {
     "data": {
      "text/plain": [
       "array([[  0.       ,  -4.8436875, -10.479829 , -15.319609 ],\n",
       "       [  0.       ,  -1.9446812, -19.718342 , -36.352486 ],\n",
       "       [  0.       , -10.142014 , -27.935774 , -44.624687 ],\n",
       "       [  0.       ,   0.       , -15.778154 , -17.64467  ]],\n",
       "      dtype=float32)"
      ]
     },
     "execution_count": 102,
     "metadata": {},
     "output_type": "execute_result"
    }
   ],
   "source": [
    "L_mat[:4,:4,0]"
   ]
  },
  {
   "cell_type": "code",
   "execution_count": 91,
   "id": "8f0f21fe",
   "metadata": {},
   "outputs": [
    {
     "data": {
      "text/plain": [
       "array([[  0.       ,  -4.8436875, -10.479829 , -15.319609 ],\n",
       "       [  0.       ,  -1.9446812, -19.718342 , -36.352486 ],\n",
       "       [  0.       , -10.142014 , -27.935774 , -44.624687 ],\n",
       "       [  0.       ,   0.       , -15.778154 , -17.64467  ]],\n",
       "      dtype=float32)"
      ]
     },
     "execution_count": 91,
     "metadata": {},
     "output_type": "execute_result"
    }
   ],
   "source": [
    "L_mat[:4,:4]"
   ]
  },
  {
   "cell_type": "code",
   "execution_count": 92,
   "id": "f51206b2",
   "metadata": {},
   "outputs": [],
   "source": [
    "orig_S_arr, orig_X_tether_arr, orig_viterbi_path_log_likelihood,orig_L_mat,orig_S_mat = S_arr, X_tether_arr, viterbi_path_log_likelihood,L_mat,S_mat"
   ]
  },
  {
   "cell_type": "code",
   "execution_count": 87,
   "id": "f5528b7c",
   "metadata": {},
   "outputs": [
    {
     "name": "stdout",
     "output_type": "stream",
     "text": [
      "Initial parameters are [2.00e+03, 2.00e+03, 1.00e+00, 1.00e+00]\n",
      "Starting iteration 0 - E step\n",
      "Done with iteration 0 - M step\n",
      "Current parameter estimates are [6.54e+01, 8.97e+01, 6.05e-01, 9.66e-01]\n",
      "Starting iteration 1 - E step\n",
      "Done with iteration 1 - M step\n",
      "Current parameter estimates are [4.37e+01, 7.52e+01, 6.84e-01, 9.41e-01]\n",
      "Starting iteration 2 - E step\n",
      "Done with iteration 2 - M step\n",
      "Current parameter estimates are [4.32e+01, 7.57e+01, 6.91e-01, 9.52e-01]\n"
     ]
    }
   ],
   "source": [
    "output = bayesianTools.em_viterbi_optimization(X_arr_list, dt_list, T_stick,T_unstick,D,A,\n",
    "                                               is_parallel=False, verbose=True)\n",
    "params_by_iter, L_by_iter, S_arr_list, X_tether_arr_list = output"
   ]
  },
  {
   "cell_type": "code",
   "execution_count": 100,
   "id": "1a5dcc1f",
   "metadata": {},
   "outputs": [
    {
     "data": {
      "text/plain": [
       "array([-3536.22998047, -3532.47265625])"
      ]
     },
     "execution_count": 100,
     "metadata": {},
     "output_type": "execute_result"
    }
   ],
   "source": [
    "L_by_iter"
   ]
  },
  {
   "cell_type": "code",
   "execution_count": 99,
   "id": "c391ac49",
   "metadata": {
    "scrolled": false
   },
   "outputs": [
    {
     "name": "stdout",
     "output_type": "stream",
     "text": [
      "Initial parameters are [2.00e+03, 2.00e+03, 1.00e+00, 1.00e+00]\n",
      "Starting iteration 0 - E step\n",
      "Done with iteration 0 - M step\n",
      "Current parameter estimates are [1.24e+03, 7.51e+03, 9.59e-01, 9.30e-01]\n",
      "Starting iteration 1 - E step\n",
      "Done with iteration 1 - M step\n",
      "Current parameter estimates are [1.24e+03, 7.51e+03, 9.59e-01, 9.30e-01]\n"
     ]
    }
   ],
   "source": [
    "output = bayesianTools.em_viterbi_optimization(X_arr_list, dt_list, T_stick,T_unstick,D,A,\n",
    "                                               is_parallel=False, verbose=True)\n",
    "params_by_iter, L_by_iter, S_arr_list, X_tether_arr_list = output"
   ]
  },
  {
   "cell_type": "code",
   "execution_count": 80,
   "id": "289d16d0",
   "metadata": {},
   "outputs": [
    {
     "data": {
      "text/plain": [
       "array([-3536.22998047, -3532.47265625])"
      ]
     },
     "execution_count": 80,
     "metadata": {},
     "output_type": "execute_result"
    }
   ],
   "source": [
    "L_by_iter"
   ]
  },
  {
   "cell_type": "code",
   "execution_count": 22,
   "id": "2ab82558",
   "metadata": {},
   "outputs": [
    {
     "name": "stdout",
     "output_type": "stream",
     "text": [
      "[5.95e+02 8.80e+03 1.11e+00 9.90e-01]\n",
      "[2.e+03 2.e+03 1.e+00 1.e+00]\n",
      "[5.95e+02 8.80e+03 1.11e+00 9.90e-01]\n"
     ]
    }
   ],
   "source": [
    "print(np.round(model.model_get_optimal_parameters(dt,df.state.values,df[[\"x\",\"y\"]].values,df[[\"x_tether\",\"y_tether\"]].values),2))\n",
    "print(np.round([T_stick,T_unstick,D,A],2))\n",
    "print(np.round(output[0][-1],2))"
   ]
  },
  {
   "cell_type": "code",
   "execution_count": 23,
   "id": "bc4d1f44",
   "metadata": {},
   "outputs": [
    {
     "name": "stdout",
     "output_type": "stream",
     "text": [
      "Path/params minus TT\n",
      "VV: 0.0036943\n",
      "VT: 0.0000000\n",
      "TV: 0.0036943\n"
     ]
    }
   ],
   "source": [
    "vit_path = output[2][0]\n",
    "tru_path = df.state.values\n",
    "vit_params = model.pack_model_params(*np.hstack([output[0][-1],[dt]]))\n",
    "tru_params = model.pack_model_params(*[T_stick,T_unstick,D,A,dt])\n",
    "def likelihood_path_params(path,params):\n",
    "    return model.model_trajectory_log_probability(\n",
    "        path,X_arr=X_arr_list[0],model_params=params) / N_steps\n",
    "\n",
    "tt_log_likelihood = likelihood_path_params(tru_path,tru_params)\n",
    "print(\"Path/params minus TT\")\n",
    "print(f\"VV: {likelihood_path_params(vit_path,vit_params)-tt_log_likelihood:.7f}\")\n",
    "print(f\"VT: {likelihood_path_params(vit_path,tru_params)-tt_log_likelihood:.7f}\")\n",
    "print(f\"TV: {likelihood_path_params(tru_path,vit_params)-tt_log_likelihood:.7f}\")"
   ]
  },
  {
   "cell_type": "code",
   "execution_count": 55,
   "id": "eda9a54b",
   "metadata": {},
   "outputs": [
    {
     "data": {
      "text/plain": [
       "array([1, 4, 7, 5, 9, 3, 6, 2, 8, 0], dtype=int64)"
      ]
     },
     "execution_count": 55,
     "metadata": {},
     "output_type": "execute_result"
    }
   ],
   "source": [
    "np.argpartition(np.random.permutation(10),4)"
   ]
  },
  {
   "cell_type": "code",
   "execution_count": 60,
   "id": "2fc4c89d",
   "metadata": {},
   "outputs": [
    {
     "data": {
      "text/plain": [
       "-1.259531516954984"
      ]
     },
     "execution_count": 60,
     "metadata": {},
     "output_type": "execute_result"
    }
   ],
   "source": [
    "A[np.unravel_index(5,A.shape)]"
   ]
  },
  {
   "cell_type": "code",
   "execution_count": 51,
   "id": "1f5b4e85",
   "metadata": {},
   "outputs": [
    {
     "data": {
      "text/plain": [
       "array([[0, 0],\n",
       "       [0, 2],\n",
       "       [0, 3],\n",
       "       [1, 1],\n",
       "       [1, 2],\n",
       "       [2, 0],\n",
       "       [2, 2],\n",
       "       [2, 3]], dtype=int64)"
      ]
     },
     "execution_count": 51,
     "metadata": {},
     "output_type": "execute_result"
    }
   ],
   "source": [
    "A = np.random.normal(size=(3,4,3))\n",
    "np.vstack(np.where(A[:,:,0]>0)).T"
   ]
  },
  {
   "cell_type": "code",
   "execution_count": 24,
   "id": "9e062646",
   "metadata": {},
   "outputs": [],
   "source": [
    "est_model_params = model.pack_model_params(*np.hstack([output[0][-1],[dt]]))"
   ]
  },
  {
   "cell_type": "code",
   "execution_count": 79,
   "id": "7fbcd1d2",
   "metadata": {},
   "outputs": [
    {
     "data": {
      "application/javascript": [
       "/* Put everything inside the global mpl namespace */\n",
       "/* global mpl */\n",
       "window.mpl = {};\n",
       "\n",
       "mpl.get_websocket_type = function () {\n",
       "    if (typeof WebSocket !== 'undefined') {\n",
       "        return WebSocket;\n",
       "    } else if (typeof MozWebSocket !== 'undefined') {\n",
       "        return MozWebSocket;\n",
       "    } else {\n",
       "        alert(\n",
       "            'Your browser does not have WebSocket support. ' +\n",
       "                'Please try Chrome, Safari or Firefox ≥ 6. ' +\n",
       "                'Firefox 4 and 5 are also supported but you ' +\n",
       "                'have to enable WebSockets in about:config.'\n",
       "        );\n",
       "    }\n",
       "};\n",
       "\n",
       "mpl.figure = function (figure_id, websocket, ondownload, parent_element) {\n",
       "    this.id = figure_id;\n",
       "\n",
       "    this.ws = websocket;\n",
       "\n",
       "    this.supports_binary = this.ws.binaryType !== undefined;\n",
       "\n",
       "    if (!this.supports_binary) {\n",
       "        var warnings = document.getElementById('mpl-warnings');\n",
       "        if (warnings) {\n",
       "            warnings.style.display = 'block';\n",
       "            warnings.textContent =\n",
       "                'This browser does not support binary websocket messages. ' +\n",
       "                'Performance may be slow.';\n",
       "        }\n",
       "    }\n",
       "\n",
       "    this.imageObj = new Image();\n",
       "\n",
       "    this.context = undefined;\n",
       "    this.message = undefined;\n",
       "    this.canvas = undefined;\n",
       "    this.rubberband_canvas = undefined;\n",
       "    this.rubberband_context = undefined;\n",
       "    this.format_dropdown = undefined;\n",
       "\n",
       "    this.image_mode = 'full';\n",
       "\n",
       "    this.root = document.createElement('div');\n",
       "    this.root.setAttribute('style', 'display: inline-block');\n",
       "    this._root_extra_style(this.root);\n",
       "\n",
       "    parent_element.appendChild(this.root);\n",
       "\n",
       "    this._init_header(this);\n",
       "    this._init_canvas(this);\n",
       "    this._init_toolbar(this);\n",
       "\n",
       "    var fig = this;\n",
       "\n",
       "    this.waiting = false;\n",
       "\n",
       "    this.ws.onopen = function () {\n",
       "        fig.send_message('supports_binary', { value: fig.supports_binary });\n",
       "        fig.send_message('send_image_mode', {});\n",
       "        if (fig.ratio !== 1) {\n",
       "            fig.send_message('set_dpi_ratio', { dpi_ratio: fig.ratio });\n",
       "        }\n",
       "        fig.send_message('refresh', {});\n",
       "    };\n",
       "\n",
       "    this.imageObj.onload = function () {\n",
       "        if (fig.image_mode === 'full') {\n",
       "            // Full images could contain transparency (where diff images\n",
       "            // almost always do), so we need to clear the canvas so that\n",
       "            // there is no ghosting.\n",
       "            fig.context.clearRect(0, 0, fig.canvas.width, fig.canvas.height);\n",
       "        }\n",
       "        fig.context.drawImage(fig.imageObj, 0, 0);\n",
       "    };\n",
       "\n",
       "    this.imageObj.onunload = function () {\n",
       "        fig.ws.close();\n",
       "    };\n",
       "\n",
       "    this.ws.onmessage = this._make_on_message_function(this);\n",
       "\n",
       "    this.ondownload = ondownload;\n",
       "};\n",
       "\n",
       "mpl.figure.prototype._init_header = function () {\n",
       "    var titlebar = document.createElement('div');\n",
       "    titlebar.classList =\n",
       "        'ui-dialog-titlebar ui-widget-header ui-corner-all ui-helper-clearfix';\n",
       "    var titletext = document.createElement('div');\n",
       "    titletext.classList = 'ui-dialog-title';\n",
       "    titletext.setAttribute(\n",
       "        'style',\n",
       "        'width: 100%; text-align: center; padding: 3px;'\n",
       "    );\n",
       "    titlebar.appendChild(titletext);\n",
       "    this.root.appendChild(titlebar);\n",
       "    this.header = titletext;\n",
       "};\n",
       "\n",
       "mpl.figure.prototype._canvas_extra_style = function (_canvas_div) {};\n",
       "\n",
       "mpl.figure.prototype._root_extra_style = function (_canvas_div) {};\n",
       "\n",
       "mpl.figure.prototype._init_canvas = function () {\n",
       "    var fig = this;\n",
       "\n",
       "    var canvas_div = (this.canvas_div = document.createElement('div'));\n",
       "    canvas_div.setAttribute(\n",
       "        'style',\n",
       "        'border: 1px solid #ddd;' +\n",
       "            'box-sizing: content-box;' +\n",
       "            'clear: both;' +\n",
       "            'min-height: 1px;' +\n",
       "            'min-width: 1px;' +\n",
       "            'outline: 0;' +\n",
       "            'overflow: hidden;' +\n",
       "            'position: relative;' +\n",
       "            'resize: both;'\n",
       "    );\n",
       "\n",
       "    function on_keyboard_event_closure(name) {\n",
       "        return function (event) {\n",
       "            return fig.key_event(event, name);\n",
       "        };\n",
       "    }\n",
       "\n",
       "    canvas_div.addEventListener(\n",
       "        'keydown',\n",
       "        on_keyboard_event_closure('key_press')\n",
       "    );\n",
       "    canvas_div.addEventListener(\n",
       "        'keyup',\n",
       "        on_keyboard_event_closure('key_release')\n",
       "    );\n",
       "\n",
       "    this._canvas_extra_style(canvas_div);\n",
       "    this.root.appendChild(canvas_div);\n",
       "\n",
       "    var canvas = (this.canvas = document.createElement('canvas'));\n",
       "    canvas.classList.add('mpl-canvas');\n",
       "    canvas.setAttribute('style', 'box-sizing: content-box;');\n",
       "\n",
       "    this.context = canvas.getContext('2d');\n",
       "\n",
       "    var backingStore =\n",
       "        this.context.backingStorePixelRatio ||\n",
       "        this.context.webkitBackingStorePixelRatio ||\n",
       "        this.context.mozBackingStorePixelRatio ||\n",
       "        this.context.msBackingStorePixelRatio ||\n",
       "        this.context.oBackingStorePixelRatio ||\n",
       "        this.context.backingStorePixelRatio ||\n",
       "        1;\n",
       "\n",
       "    this.ratio = (window.devicePixelRatio || 1) / backingStore;\n",
       "\n",
       "    var rubberband_canvas = (this.rubberband_canvas = document.createElement(\n",
       "        'canvas'\n",
       "    ));\n",
       "    rubberband_canvas.setAttribute(\n",
       "        'style',\n",
       "        'box-sizing: content-box; position: absolute; left: 0; top: 0; z-index: 1;'\n",
       "    );\n",
       "\n",
       "    // Apply a ponyfill if ResizeObserver is not implemented by browser.\n",
       "    if (this.ResizeObserver === undefined) {\n",
       "        if (window.ResizeObserver !== undefined) {\n",
       "            this.ResizeObserver = window.ResizeObserver;\n",
       "        } else {\n",
       "            var obs = _JSXTOOLS_RESIZE_OBSERVER({});\n",
       "            this.ResizeObserver = obs.ResizeObserver;\n",
       "        }\n",
       "    }\n",
       "\n",
       "    this.resizeObserverInstance = new this.ResizeObserver(function (entries) {\n",
       "        var nentries = entries.length;\n",
       "        for (var i = 0; i < nentries; i++) {\n",
       "            var entry = entries[i];\n",
       "            var width, height;\n",
       "            if (entry.contentBoxSize) {\n",
       "                if (entry.contentBoxSize instanceof Array) {\n",
       "                    // Chrome 84 implements new version of spec.\n",
       "                    width = entry.contentBoxSize[0].inlineSize;\n",
       "                    height = entry.contentBoxSize[0].blockSize;\n",
       "                } else {\n",
       "                    // Firefox implements old version of spec.\n",
       "                    width = entry.contentBoxSize.inlineSize;\n",
       "                    height = entry.contentBoxSize.blockSize;\n",
       "                }\n",
       "            } else {\n",
       "                // Chrome <84 implements even older version of spec.\n",
       "                width = entry.contentRect.width;\n",
       "                height = entry.contentRect.height;\n",
       "            }\n",
       "\n",
       "            // Keep the size of the canvas and rubber band canvas in sync with\n",
       "            // the canvas container.\n",
       "            if (entry.devicePixelContentBoxSize) {\n",
       "                // Chrome 84 implements new version of spec.\n",
       "                canvas.setAttribute(\n",
       "                    'width',\n",
       "                    entry.devicePixelContentBoxSize[0].inlineSize\n",
       "                );\n",
       "                canvas.setAttribute(\n",
       "                    'height',\n",
       "                    entry.devicePixelContentBoxSize[0].blockSize\n",
       "                );\n",
       "            } else {\n",
       "                canvas.setAttribute('width', width * fig.ratio);\n",
       "                canvas.setAttribute('height', height * fig.ratio);\n",
       "            }\n",
       "            canvas.setAttribute(\n",
       "                'style',\n",
       "                'width: ' + width + 'px; height: ' + height + 'px;'\n",
       "            );\n",
       "\n",
       "            rubberband_canvas.setAttribute('width', width);\n",
       "            rubberband_canvas.setAttribute('height', height);\n",
       "\n",
       "            // And update the size in Python. We ignore the initial 0/0 size\n",
       "            // that occurs as the element is placed into the DOM, which should\n",
       "            // otherwise not happen due to the minimum size styling.\n",
       "            if (fig.ws.readyState == 1 && width != 0 && height != 0) {\n",
       "                fig.request_resize(width, height);\n",
       "            }\n",
       "        }\n",
       "    });\n",
       "    this.resizeObserverInstance.observe(canvas_div);\n",
       "\n",
       "    function on_mouse_event_closure(name) {\n",
       "        return function (event) {\n",
       "            return fig.mouse_event(event, name);\n",
       "        };\n",
       "    }\n",
       "\n",
       "    rubberband_canvas.addEventListener(\n",
       "        'mousedown',\n",
       "        on_mouse_event_closure('button_press')\n",
       "    );\n",
       "    rubberband_canvas.addEventListener(\n",
       "        'mouseup',\n",
       "        on_mouse_event_closure('button_release')\n",
       "    );\n",
       "    rubberband_canvas.addEventListener(\n",
       "        'dblclick',\n",
       "        on_mouse_event_closure('dblclick')\n",
       "    );\n",
       "    // Throttle sequential mouse events to 1 every 20ms.\n",
       "    rubberband_canvas.addEventListener(\n",
       "        'mousemove',\n",
       "        on_mouse_event_closure('motion_notify')\n",
       "    );\n",
       "\n",
       "    rubberband_canvas.addEventListener(\n",
       "        'mouseenter',\n",
       "        on_mouse_event_closure('figure_enter')\n",
       "    );\n",
       "    rubberband_canvas.addEventListener(\n",
       "        'mouseleave',\n",
       "        on_mouse_event_closure('figure_leave')\n",
       "    );\n",
       "\n",
       "    canvas_div.addEventListener('wheel', function (event) {\n",
       "        if (event.deltaY < 0) {\n",
       "            event.step = 1;\n",
       "        } else {\n",
       "            event.step = -1;\n",
       "        }\n",
       "        on_mouse_event_closure('scroll')(event);\n",
       "    });\n",
       "\n",
       "    canvas_div.appendChild(canvas);\n",
       "    canvas_div.appendChild(rubberband_canvas);\n",
       "\n",
       "    this.rubberband_context = rubberband_canvas.getContext('2d');\n",
       "    this.rubberband_context.strokeStyle = '#000000';\n",
       "\n",
       "    this._resize_canvas = function (width, height, forward) {\n",
       "        if (forward) {\n",
       "            canvas_div.style.width = width + 'px';\n",
       "            canvas_div.style.height = height + 'px';\n",
       "        }\n",
       "    };\n",
       "\n",
       "    // Disable right mouse context menu.\n",
       "    this.rubberband_canvas.addEventListener('contextmenu', function (_e) {\n",
       "        event.preventDefault();\n",
       "        return false;\n",
       "    });\n",
       "\n",
       "    function set_focus() {\n",
       "        canvas.focus();\n",
       "        canvas_div.focus();\n",
       "    }\n",
       "\n",
       "    window.setTimeout(set_focus, 100);\n",
       "};\n",
       "\n",
       "mpl.figure.prototype._init_toolbar = function () {\n",
       "    var fig = this;\n",
       "\n",
       "    var toolbar = document.createElement('div');\n",
       "    toolbar.classList = 'mpl-toolbar';\n",
       "    this.root.appendChild(toolbar);\n",
       "\n",
       "    function on_click_closure(name) {\n",
       "        return function (_event) {\n",
       "            return fig.toolbar_button_onclick(name);\n",
       "        };\n",
       "    }\n",
       "\n",
       "    function on_mouseover_closure(tooltip) {\n",
       "        return function (event) {\n",
       "            if (!event.currentTarget.disabled) {\n",
       "                return fig.toolbar_button_onmouseover(tooltip);\n",
       "            }\n",
       "        };\n",
       "    }\n",
       "\n",
       "    fig.buttons = {};\n",
       "    var buttonGroup = document.createElement('div');\n",
       "    buttonGroup.classList = 'mpl-button-group';\n",
       "    for (var toolbar_ind in mpl.toolbar_items) {\n",
       "        var name = mpl.toolbar_items[toolbar_ind][0];\n",
       "        var tooltip = mpl.toolbar_items[toolbar_ind][1];\n",
       "        var image = mpl.toolbar_items[toolbar_ind][2];\n",
       "        var method_name = mpl.toolbar_items[toolbar_ind][3];\n",
       "\n",
       "        if (!name) {\n",
       "            /* Instead of a spacer, we start a new button group. */\n",
       "            if (buttonGroup.hasChildNodes()) {\n",
       "                toolbar.appendChild(buttonGroup);\n",
       "            }\n",
       "            buttonGroup = document.createElement('div');\n",
       "            buttonGroup.classList = 'mpl-button-group';\n",
       "            continue;\n",
       "        }\n",
       "\n",
       "        var button = (fig.buttons[name] = document.createElement('button'));\n",
       "        button.classList = 'mpl-widget';\n",
       "        button.setAttribute('role', 'button');\n",
       "        button.setAttribute('aria-disabled', 'false');\n",
       "        button.addEventListener('click', on_click_closure(method_name));\n",
       "        button.addEventListener('mouseover', on_mouseover_closure(tooltip));\n",
       "\n",
       "        var icon_img = document.createElement('img');\n",
       "        icon_img.src = '_images/' + image + '.png';\n",
       "        icon_img.srcset = '_images/' + image + '_large.png 2x';\n",
       "        icon_img.alt = tooltip;\n",
       "        button.appendChild(icon_img);\n",
       "\n",
       "        buttonGroup.appendChild(button);\n",
       "    }\n",
       "\n",
       "    if (buttonGroup.hasChildNodes()) {\n",
       "        toolbar.appendChild(buttonGroup);\n",
       "    }\n",
       "\n",
       "    var fmt_picker = document.createElement('select');\n",
       "    fmt_picker.classList = 'mpl-widget';\n",
       "    toolbar.appendChild(fmt_picker);\n",
       "    this.format_dropdown = fmt_picker;\n",
       "\n",
       "    for (var ind in mpl.extensions) {\n",
       "        var fmt = mpl.extensions[ind];\n",
       "        var option = document.createElement('option');\n",
       "        option.selected = fmt === mpl.default_extension;\n",
       "        option.innerHTML = fmt;\n",
       "        fmt_picker.appendChild(option);\n",
       "    }\n",
       "\n",
       "    var status_bar = document.createElement('span');\n",
       "    status_bar.classList = 'mpl-message';\n",
       "    toolbar.appendChild(status_bar);\n",
       "    this.message = status_bar;\n",
       "};\n",
       "\n",
       "mpl.figure.prototype.request_resize = function (x_pixels, y_pixels) {\n",
       "    // Request matplotlib to resize the figure. Matplotlib will then trigger a resize in the client,\n",
       "    // which will in turn request a refresh of the image.\n",
       "    this.send_message('resize', { width: x_pixels, height: y_pixels });\n",
       "};\n",
       "\n",
       "mpl.figure.prototype.send_message = function (type, properties) {\n",
       "    properties['type'] = type;\n",
       "    properties['figure_id'] = this.id;\n",
       "    this.ws.send(JSON.stringify(properties));\n",
       "};\n",
       "\n",
       "mpl.figure.prototype.send_draw_message = function () {\n",
       "    if (!this.waiting) {\n",
       "        this.waiting = true;\n",
       "        this.ws.send(JSON.stringify({ type: 'draw', figure_id: this.id }));\n",
       "    }\n",
       "};\n",
       "\n",
       "mpl.figure.prototype.handle_save = function (fig, _msg) {\n",
       "    var format_dropdown = fig.format_dropdown;\n",
       "    var format = format_dropdown.options[format_dropdown.selectedIndex].value;\n",
       "    fig.ondownload(fig, format);\n",
       "};\n",
       "\n",
       "mpl.figure.prototype.handle_resize = function (fig, msg) {\n",
       "    var size = msg['size'];\n",
       "    if (size[0] !== fig.canvas.width || size[1] !== fig.canvas.height) {\n",
       "        fig._resize_canvas(size[0], size[1], msg['forward']);\n",
       "        fig.send_message('refresh', {});\n",
       "    }\n",
       "};\n",
       "\n",
       "mpl.figure.prototype.handle_rubberband = function (fig, msg) {\n",
       "    var x0 = msg['x0'] / fig.ratio;\n",
       "    var y0 = (fig.canvas.height - msg['y0']) / fig.ratio;\n",
       "    var x1 = msg['x1'] / fig.ratio;\n",
       "    var y1 = (fig.canvas.height - msg['y1']) / fig.ratio;\n",
       "    x0 = Math.floor(x0) + 0.5;\n",
       "    y0 = Math.floor(y0) + 0.5;\n",
       "    x1 = Math.floor(x1) + 0.5;\n",
       "    y1 = Math.floor(y1) + 0.5;\n",
       "    var min_x = Math.min(x0, x1);\n",
       "    var min_y = Math.min(y0, y1);\n",
       "    var width = Math.abs(x1 - x0);\n",
       "    var height = Math.abs(y1 - y0);\n",
       "\n",
       "    fig.rubberband_context.clearRect(\n",
       "        0,\n",
       "        0,\n",
       "        fig.canvas.width / fig.ratio,\n",
       "        fig.canvas.height / fig.ratio\n",
       "    );\n",
       "\n",
       "    fig.rubberband_context.strokeRect(min_x, min_y, width, height);\n",
       "};\n",
       "\n",
       "mpl.figure.prototype.handle_figure_label = function (fig, msg) {\n",
       "    // Updates the figure title.\n",
       "    fig.header.textContent = msg['label'];\n",
       "};\n",
       "\n",
       "mpl.figure.prototype.handle_cursor = function (fig, msg) {\n",
       "    var cursor = msg['cursor'];\n",
       "    switch (cursor) {\n",
       "        case 0:\n",
       "            cursor = 'pointer';\n",
       "            break;\n",
       "        case 1:\n",
       "            cursor = 'default';\n",
       "            break;\n",
       "        case 2:\n",
       "            cursor = 'crosshair';\n",
       "            break;\n",
       "        case 3:\n",
       "            cursor = 'move';\n",
       "            break;\n",
       "    }\n",
       "    fig.rubberband_canvas.style.cursor = cursor;\n",
       "};\n",
       "\n",
       "mpl.figure.prototype.handle_message = function (fig, msg) {\n",
       "    fig.message.textContent = msg['message'];\n",
       "};\n",
       "\n",
       "mpl.figure.prototype.handle_draw = function (fig, _msg) {\n",
       "    // Request the server to send over a new figure.\n",
       "    fig.send_draw_message();\n",
       "};\n",
       "\n",
       "mpl.figure.prototype.handle_image_mode = function (fig, msg) {\n",
       "    fig.image_mode = msg['mode'];\n",
       "};\n",
       "\n",
       "mpl.figure.prototype.handle_history_buttons = function (fig, msg) {\n",
       "    for (var key in msg) {\n",
       "        if (!(key in fig.buttons)) {\n",
       "            continue;\n",
       "        }\n",
       "        fig.buttons[key].disabled = !msg[key];\n",
       "        fig.buttons[key].setAttribute('aria-disabled', !msg[key]);\n",
       "    }\n",
       "};\n",
       "\n",
       "mpl.figure.prototype.handle_navigate_mode = function (fig, msg) {\n",
       "    if (msg['mode'] === 'PAN') {\n",
       "        fig.buttons['Pan'].classList.add('active');\n",
       "        fig.buttons['Zoom'].classList.remove('active');\n",
       "    } else if (msg['mode'] === 'ZOOM') {\n",
       "        fig.buttons['Pan'].classList.remove('active');\n",
       "        fig.buttons['Zoom'].classList.add('active');\n",
       "    } else {\n",
       "        fig.buttons['Pan'].classList.remove('active');\n",
       "        fig.buttons['Zoom'].classList.remove('active');\n",
       "    }\n",
       "};\n",
       "\n",
       "mpl.figure.prototype.updated_canvas_event = function () {\n",
       "    // Called whenever the canvas gets updated.\n",
       "    this.send_message('ack', {});\n",
       "};\n",
       "\n",
       "// A function to construct a web socket function for onmessage handling.\n",
       "// Called in the figure constructor.\n",
       "mpl.figure.prototype._make_on_message_function = function (fig) {\n",
       "    return function socket_on_message(evt) {\n",
       "        if (evt.data instanceof Blob) {\n",
       "            var img = evt.data;\n",
       "            if (img.type !== 'image/png') {\n",
       "                /* FIXME: We get \"Resource interpreted as Image but\n",
       "                 * transferred with MIME type text/plain:\" errors on\n",
       "                 * Chrome.  But how to set the MIME type?  It doesn't seem\n",
       "                 * to be part of the websocket stream */\n",
       "                img.type = 'image/png';\n",
       "            }\n",
       "\n",
       "            /* Free the memory for the previous frames */\n",
       "            if (fig.imageObj.src) {\n",
       "                (window.URL || window.webkitURL).revokeObjectURL(\n",
       "                    fig.imageObj.src\n",
       "                );\n",
       "            }\n",
       "\n",
       "            fig.imageObj.src = (window.URL || window.webkitURL).createObjectURL(\n",
       "                img\n",
       "            );\n",
       "            fig.updated_canvas_event();\n",
       "            fig.waiting = false;\n",
       "            return;\n",
       "        } else if (\n",
       "            typeof evt.data === 'string' &&\n",
       "            evt.data.slice(0, 21) === 'data:image/png;base64'\n",
       "        ) {\n",
       "            fig.imageObj.src = evt.data;\n",
       "            fig.updated_canvas_event();\n",
       "            fig.waiting = false;\n",
       "            return;\n",
       "        }\n",
       "\n",
       "        var msg = JSON.parse(evt.data);\n",
       "        var msg_type = msg['type'];\n",
       "\n",
       "        // Call the  \"handle_{type}\" callback, which takes\n",
       "        // the figure and JSON message as its only arguments.\n",
       "        try {\n",
       "            var callback = fig['handle_' + msg_type];\n",
       "        } catch (e) {\n",
       "            console.log(\n",
       "                \"No handler for the '\" + msg_type + \"' message type: \",\n",
       "                msg\n",
       "            );\n",
       "            return;\n",
       "        }\n",
       "\n",
       "        if (callback) {\n",
       "            try {\n",
       "                // console.log(\"Handling '\" + msg_type + \"' message: \", msg);\n",
       "                callback(fig, msg);\n",
       "            } catch (e) {\n",
       "                console.log(\n",
       "                    \"Exception inside the 'handler_\" + msg_type + \"' callback:\",\n",
       "                    e,\n",
       "                    e.stack,\n",
       "                    msg\n",
       "                );\n",
       "            }\n",
       "        }\n",
       "    };\n",
       "};\n",
       "\n",
       "// from http://stackoverflow.com/questions/1114465/getting-mouse-location-in-canvas\n",
       "mpl.findpos = function (e) {\n",
       "    //this section is from http://www.quirksmode.org/js/events_properties.html\n",
       "    var targ;\n",
       "    if (!e) {\n",
       "        e = window.event;\n",
       "    }\n",
       "    if (e.target) {\n",
       "        targ = e.target;\n",
       "    } else if (e.srcElement) {\n",
       "        targ = e.srcElement;\n",
       "    }\n",
       "    if (targ.nodeType === 3) {\n",
       "        // defeat Safari bug\n",
       "        targ = targ.parentNode;\n",
       "    }\n",
       "\n",
       "    // pageX,Y are the mouse positions relative to the document\n",
       "    var boundingRect = targ.getBoundingClientRect();\n",
       "    var x = e.pageX - (boundingRect.left + document.body.scrollLeft);\n",
       "    var y = e.pageY - (boundingRect.top + document.body.scrollTop);\n",
       "\n",
       "    return { x: x, y: y };\n",
       "};\n",
       "\n",
       "/*\n",
       " * return a copy of an object with only non-object keys\n",
       " * we need this to avoid circular references\n",
       " * http://stackoverflow.com/a/24161582/3208463\n",
       " */\n",
       "function simpleKeys(original) {\n",
       "    return Object.keys(original).reduce(function (obj, key) {\n",
       "        if (typeof original[key] !== 'object') {\n",
       "            obj[key] = original[key];\n",
       "        }\n",
       "        return obj;\n",
       "    }, {});\n",
       "}\n",
       "\n",
       "mpl.figure.prototype.mouse_event = function (event, name) {\n",
       "    var canvas_pos = mpl.findpos(event);\n",
       "\n",
       "    if (name === 'button_press') {\n",
       "        this.canvas.focus();\n",
       "        this.canvas_div.focus();\n",
       "    }\n",
       "\n",
       "    var x = canvas_pos.x * this.ratio;\n",
       "    var y = canvas_pos.y * this.ratio;\n",
       "\n",
       "    this.send_message(name, {\n",
       "        x: x,\n",
       "        y: y,\n",
       "        button: event.button,\n",
       "        step: event.step,\n",
       "        guiEvent: simpleKeys(event),\n",
       "    });\n",
       "\n",
       "    /* This prevents the web browser from automatically changing to\n",
       "     * the text insertion cursor when the button is pressed.  We want\n",
       "     * to control all of the cursor setting manually through the\n",
       "     * 'cursor' event from matplotlib */\n",
       "    event.preventDefault();\n",
       "    return false;\n",
       "};\n",
       "\n",
       "mpl.figure.prototype._key_event_extra = function (_event, _name) {\n",
       "    // Handle any extra behaviour associated with a key event\n",
       "};\n",
       "\n",
       "mpl.figure.prototype.key_event = function (event, name) {\n",
       "    // Prevent repeat events\n",
       "    if (name === 'key_press') {\n",
       "        if (event.key === this._key) {\n",
       "            return;\n",
       "        } else {\n",
       "            this._key = event.key;\n",
       "        }\n",
       "    }\n",
       "    if (name === 'key_release') {\n",
       "        this._key = null;\n",
       "    }\n",
       "\n",
       "    var value = '';\n",
       "    if (event.ctrlKey && event.key !== 'Control') {\n",
       "        value += 'ctrl+';\n",
       "    }\n",
       "    else if (event.altKey && event.key !== 'Alt') {\n",
       "        value += 'alt+';\n",
       "    }\n",
       "    else if (event.shiftKey && event.key !== 'Shift') {\n",
       "        value += 'shift+';\n",
       "    }\n",
       "\n",
       "    value += 'k' + event.key;\n",
       "\n",
       "    this._key_event_extra(event, name);\n",
       "\n",
       "    this.send_message(name, { key: value, guiEvent: simpleKeys(event) });\n",
       "    return false;\n",
       "};\n",
       "\n",
       "mpl.figure.prototype.toolbar_button_onclick = function (name) {\n",
       "    if (name === 'download') {\n",
       "        this.handle_save(this, null);\n",
       "    } else {\n",
       "        this.send_message('toolbar_button', { name: name });\n",
       "    }\n",
       "};\n",
       "\n",
       "mpl.figure.prototype.toolbar_button_onmouseover = function (tooltip) {\n",
       "    this.message.textContent = tooltip;\n",
       "};\n",
       "\n",
       "///////////////// REMAINING CONTENT GENERATED BY embed_js.py /////////////////\n",
       "// prettier-ignore\n",
       "var _JSXTOOLS_RESIZE_OBSERVER=function(A){var t,i=new WeakMap,n=new WeakMap,a=new WeakMap,r=new WeakMap,o=new Set;function s(e){if(!(this instanceof s))throw new TypeError(\"Constructor requires 'new' operator\");i.set(this,e)}function h(){throw new TypeError(\"Function is not a constructor\")}function c(e,t,i,n){e=0 in arguments?Number(arguments[0]):0,t=1 in arguments?Number(arguments[1]):0,i=2 in arguments?Number(arguments[2]):0,n=3 in arguments?Number(arguments[3]):0,this.right=(this.x=this.left=e)+(this.width=i),this.bottom=(this.y=this.top=t)+(this.height=n),Object.freeze(this)}function d(){t=requestAnimationFrame(d);var s=new WeakMap,p=new Set;o.forEach((function(t){r.get(t).forEach((function(i){var r=t instanceof window.SVGElement,o=a.get(t),d=r?0:parseFloat(o.paddingTop),f=r?0:parseFloat(o.paddingRight),l=r?0:parseFloat(o.paddingBottom),u=r?0:parseFloat(o.paddingLeft),g=r?0:parseFloat(o.borderTopWidth),m=r?0:parseFloat(o.borderRightWidth),w=r?0:parseFloat(o.borderBottomWidth),b=u+f,F=d+l,v=(r?0:parseFloat(o.borderLeftWidth))+m,W=g+w,y=r?0:t.offsetHeight-W-t.clientHeight,E=r?0:t.offsetWidth-v-t.clientWidth,R=b+v,z=F+W,M=r?t.width:parseFloat(o.width)-R-E,O=r?t.height:parseFloat(o.height)-z-y;if(n.has(t)){var k=n.get(t);if(k[0]===M&&k[1]===O)return}n.set(t,[M,O]);var S=Object.create(h.prototype);S.target=t,S.contentRect=new c(u,d,M,O),s.has(i)||(s.set(i,[]),p.add(i)),s.get(i).push(S)}))})),p.forEach((function(e){i.get(e).call(e,s.get(e),e)}))}return s.prototype.observe=function(i){if(i instanceof window.Element){r.has(i)||(r.set(i,new Set),o.add(i),a.set(i,window.getComputedStyle(i)));var n=r.get(i);n.has(this)||n.add(this),cancelAnimationFrame(t),t=requestAnimationFrame(d)}},s.prototype.unobserve=function(i){if(i instanceof window.Element&&r.has(i)){var n=r.get(i);n.has(this)&&(n.delete(this),n.size||(r.delete(i),o.delete(i))),n.size||r.delete(i),o.size||cancelAnimationFrame(t)}},A.DOMRectReadOnly=c,A.ResizeObserver=s,A.ResizeObserverEntry=h,A}; // eslint-disable-line\n",
       "mpl.toolbar_items = [[\"Home\", \"Reset original view\", \"fa fa-home icon-home\", \"home\"], [\"Back\", \"Back to previous view\", \"fa fa-arrow-left icon-arrow-left\", \"back\"], [\"Forward\", \"Forward to next view\", \"fa fa-arrow-right icon-arrow-right\", \"forward\"], [\"\", \"\", \"\", \"\"], [\"Pan\", \"Left button pans, Right button zooms\\nx/y fixes axis, CTRL fixes aspect\", \"fa fa-arrows icon-move\", \"pan\"], [\"Zoom\", \"Zoom to rectangle\\nx/y fixes axis, CTRL fixes aspect\", \"fa fa-square-o icon-check-empty\", \"zoom\"], [\"\", \"\", \"\", \"\"], [\"Download\", \"Download plot\", \"fa fa-floppy-o icon-save\", \"download\"]];\n",
       "\n",
       "mpl.extensions = [\"eps\", \"jpeg\", \"pgf\", \"pdf\", \"png\", \"ps\", \"raw\", \"svg\", \"tif\"];\n",
       "\n",
       "mpl.default_extension = \"png\";/* global mpl */\n",
       "\n",
       "var comm_websocket_adapter = function (comm) {\n",
       "    // Create a \"websocket\"-like object which calls the given IPython comm\n",
       "    // object with the appropriate methods. Currently this is a non binary\n",
       "    // socket, so there is still some room for performance tuning.\n",
       "    var ws = {};\n",
       "\n",
       "    ws.binaryType = comm.kernel.ws.binaryType;\n",
       "    ws.readyState = comm.kernel.ws.readyState;\n",
       "    function updateReadyState(_event) {\n",
       "        if (comm.kernel.ws) {\n",
       "            ws.readyState = comm.kernel.ws.readyState;\n",
       "        } else {\n",
       "            ws.readyState = 3; // Closed state.\n",
       "        }\n",
       "    }\n",
       "    comm.kernel.ws.addEventListener('open', updateReadyState);\n",
       "    comm.kernel.ws.addEventListener('close', updateReadyState);\n",
       "    comm.kernel.ws.addEventListener('error', updateReadyState);\n",
       "\n",
       "    ws.close = function () {\n",
       "        comm.close();\n",
       "    };\n",
       "    ws.send = function (m) {\n",
       "        //console.log('sending', m);\n",
       "        comm.send(m);\n",
       "    };\n",
       "    // Register the callback with on_msg.\n",
       "    comm.on_msg(function (msg) {\n",
       "        //console.log('receiving', msg['content']['data'], msg);\n",
       "        var data = msg['content']['data'];\n",
       "        if (data['blob'] !== undefined) {\n",
       "            data = {\n",
       "                data: new Blob(msg['buffers'], { type: data['blob'] }),\n",
       "            };\n",
       "        }\n",
       "        // Pass the mpl event to the overridden (by mpl) onmessage function.\n",
       "        ws.onmessage(data);\n",
       "    });\n",
       "    return ws;\n",
       "};\n",
       "\n",
       "mpl.mpl_figure_comm = function (comm, msg) {\n",
       "    // This is the function which gets called when the mpl process\n",
       "    // starts-up an IPython Comm through the \"matplotlib\" channel.\n",
       "\n",
       "    var id = msg.content.data.id;\n",
       "    // Get hold of the div created by the display call when the Comm\n",
       "    // socket was opened in Python.\n",
       "    var element = document.getElementById(id);\n",
       "    var ws_proxy = comm_websocket_adapter(comm);\n",
       "\n",
       "    function ondownload(figure, _format) {\n",
       "        window.open(figure.canvas.toDataURL());\n",
       "    }\n",
       "\n",
       "    var fig = new mpl.figure(id, ws_proxy, ondownload, element);\n",
       "\n",
       "    // Call onopen now - mpl needs it, as it is assuming we've passed it a real\n",
       "    // web socket which is closed, not our websocket->open comm proxy.\n",
       "    ws_proxy.onopen();\n",
       "\n",
       "    fig.parent_element = element;\n",
       "    fig.cell_info = mpl.find_output_cell(\"<div id='\" + id + \"'></div>\");\n",
       "    if (!fig.cell_info) {\n",
       "        console.error('Failed to find cell for figure', id, fig);\n",
       "        return;\n",
       "    }\n",
       "    fig.cell_info[0].output_area.element.on(\n",
       "        'cleared',\n",
       "        { fig: fig },\n",
       "        fig._remove_fig_handler\n",
       "    );\n",
       "};\n",
       "\n",
       "mpl.figure.prototype.handle_close = function (fig, msg) {\n",
       "    var width = fig.canvas.width / fig.ratio;\n",
       "    fig.cell_info[0].output_area.element.off(\n",
       "        'cleared',\n",
       "        fig._remove_fig_handler\n",
       "    );\n",
       "    fig.resizeObserverInstance.unobserve(fig.canvas_div);\n",
       "\n",
       "    // Update the output cell to use the data from the current canvas.\n",
       "    fig.push_to_output();\n",
       "    var dataURL = fig.canvas.toDataURL();\n",
       "    // Re-enable the keyboard manager in IPython - without this line, in FF,\n",
       "    // the notebook keyboard shortcuts fail.\n",
       "    IPython.keyboard_manager.enable();\n",
       "    fig.parent_element.innerHTML =\n",
       "        '<img src=\"' + dataURL + '\" width=\"' + width + '\">';\n",
       "    fig.close_ws(fig, msg);\n",
       "};\n",
       "\n",
       "mpl.figure.prototype.close_ws = function (fig, msg) {\n",
       "    fig.send_message('closing', msg);\n",
       "    // fig.ws.close()\n",
       "};\n",
       "\n",
       "mpl.figure.prototype.push_to_output = function (_remove_interactive) {\n",
       "    // Turn the data on the canvas into data in the output cell.\n",
       "    var width = this.canvas.width / this.ratio;\n",
       "    var dataURL = this.canvas.toDataURL();\n",
       "    this.cell_info[1]['text/html'] =\n",
       "        '<img src=\"' + dataURL + '\" width=\"' + width + '\">';\n",
       "};\n",
       "\n",
       "mpl.figure.prototype.updated_canvas_event = function () {\n",
       "    // Tell IPython that the notebook contents must change.\n",
       "    IPython.notebook.set_dirty(true);\n",
       "    this.send_message('ack', {});\n",
       "    var fig = this;\n",
       "    // Wait a second, then push the new image to the DOM so\n",
       "    // that it is saved nicely (might be nice to debounce this).\n",
       "    setTimeout(function () {\n",
       "        fig.push_to_output();\n",
       "    }, 1000);\n",
       "};\n",
       "\n",
       "mpl.figure.prototype._init_toolbar = function () {\n",
       "    var fig = this;\n",
       "\n",
       "    var toolbar = document.createElement('div');\n",
       "    toolbar.classList = 'btn-toolbar';\n",
       "    this.root.appendChild(toolbar);\n",
       "\n",
       "    function on_click_closure(name) {\n",
       "        return function (_event) {\n",
       "            return fig.toolbar_button_onclick(name);\n",
       "        };\n",
       "    }\n",
       "\n",
       "    function on_mouseover_closure(tooltip) {\n",
       "        return function (event) {\n",
       "            if (!event.currentTarget.disabled) {\n",
       "                return fig.toolbar_button_onmouseover(tooltip);\n",
       "            }\n",
       "        };\n",
       "    }\n",
       "\n",
       "    fig.buttons = {};\n",
       "    var buttonGroup = document.createElement('div');\n",
       "    buttonGroup.classList = 'btn-group';\n",
       "    var button;\n",
       "    for (var toolbar_ind in mpl.toolbar_items) {\n",
       "        var name = mpl.toolbar_items[toolbar_ind][0];\n",
       "        var tooltip = mpl.toolbar_items[toolbar_ind][1];\n",
       "        var image = mpl.toolbar_items[toolbar_ind][2];\n",
       "        var method_name = mpl.toolbar_items[toolbar_ind][3];\n",
       "\n",
       "        if (!name) {\n",
       "            /* Instead of a spacer, we start a new button group. */\n",
       "            if (buttonGroup.hasChildNodes()) {\n",
       "                toolbar.appendChild(buttonGroup);\n",
       "            }\n",
       "            buttonGroup = document.createElement('div');\n",
       "            buttonGroup.classList = 'btn-group';\n",
       "            continue;\n",
       "        }\n",
       "\n",
       "        button = fig.buttons[name] = document.createElement('button');\n",
       "        button.classList = 'btn btn-default';\n",
       "        button.href = '#';\n",
       "        button.title = name;\n",
       "        button.innerHTML = '<i class=\"fa ' + image + ' fa-lg\"></i>';\n",
       "        button.addEventListener('click', on_click_closure(method_name));\n",
       "        button.addEventListener('mouseover', on_mouseover_closure(tooltip));\n",
       "        buttonGroup.appendChild(button);\n",
       "    }\n",
       "\n",
       "    if (buttonGroup.hasChildNodes()) {\n",
       "        toolbar.appendChild(buttonGroup);\n",
       "    }\n",
       "\n",
       "    // Add the status bar.\n",
       "    var status_bar = document.createElement('span');\n",
       "    status_bar.classList = 'mpl-message pull-right';\n",
       "    toolbar.appendChild(status_bar);\n",
       "    this.message = status_bar;\n",
       "\n",
       "    // Add the close button to the window.\n",
       "    var buttongrp = document.createElement('div');\n",
       "    buttongrp.classList = 'btn-group inline pull-right';\n",
       "    button = document.createElement('button');\n",
       "    button.classList = 'btn btn-mini btn-primary';\n",
       "    button.href = '#';\n",
       "    button.title = 'Stop Interaction';\n",
       "    button.innerHTML = '<i class=\"fa fa-power-off icon-remove icon-large\"></i>';\n",
       "    button.addEventListener('click', function (_evt) {\n",
       "        fig.handle_close(fig, {});\n",
       "    });\n",
       "    button.addEventListener(\n",
       "        'mouseover',\n",
       "        on_mouseover_closure('Stop Interaction')\n",
       "    );\n",
       "    buttongrp.appendChild(button);\n",
       "    var titlebar = this.root.querySelector('.ui-dialog-titlebar');\n",
       "    titlebar.insertBefore(buttongrp, titlebar.firstChild);\n",
       "};\n",
       "\n",
       "mpl.figure.prototype._remove_fig_handler = function (event) {\n",
       "    var fig = event.data.fig;\n",
       "    if (event.target !== this) {\n",
       "        // Ignore bubbled events from children.\n",
       "        return;\n",
       "    }\n",
       "    fig.close_ws(fig, {});\n",
       "};\n",
       "\n",
       "mpl.figure.prototype._root_extra_style = function (el) {\n",
       "    el.style.boxSizing = 'content-box'; // override notebook setting of border-box.\n",
       "};\n",
       "\n",
       "mpl.figure.prototype._canvas_extra_style = function (el) {\n",
       "    // this is important to make the div 'focusable\n",
       "    el.setAttribute('tabindex', 0);\n",
       "    // reach out to IPython and tell the keyboard manager to turn it's self\n",
       "    // off when our div gets focus\n",
       "\n",
       "    // location in version 3\n",
       "    if (IPython.notebook.keyboard_manager) {\n",
       "        IPython.notebook.keyboard_manager.register_events(el);\n",
       "    } else {\n",
       "        // location in version 2\n",
       "        IPython.keyboard_manager.register_events(el);\n",
       "    }\n",
       "};\n",
       "\n",
       "mpl.figure.prototype._key_event_extra = function (event, _name) {\n",
       "    var manager = IPython.notebook.keyboard_manager;\n",
       "    if (!manager) {\n",
       "        manager = IPython.keyboard_manager;\n",
       "    }\n",
       "\n",
       "    // Check for shift+enter\n",
       "    if (event.shiftKey && event.which === 13) {\n",
       "        this.canvas_div.blur();\n",
       "        // select the cell after this one\n",
       "        var index = IPython.notebook.find_cell_index(this.cell_info[0]);\n",
       "        IPython.notebook.select(index + 1);\n",
       "    }\n",
       "};\n",
       "\n",
       "mpl.figure.prototype.handle_save = function (fig, _msg) {\n",
       "    fig.ondownload(fig, null);\n",
       "};\n",
       "\n",
       "mpl.find_output_cell = function (html_output) {\n",
       "    // Return the cell and output element which can be found *uniquely* in the notebook.\n",
       "    // Note - this is a bit hacky, but it is done because the \"notebook_saving.Notebook\"\n",
       "    // IPython event is triggered only after the cells have been serialised, which for\n",
       "    // our purposes (turning an active figure into a static one), is too late.\n",
       "    var cells = IPython.notebook.get_cells();\n",
       "    var ncells = cells.length;\n",
       "    for (var i = 0; i < ncells; i++) {\n",
       "        var cell = cells[i];\n",
       "        if (cell.cell_type === 'code') {\n",
       "            for (var j = 0; j < cell.output_area.outputs.length; j++) {\n",
       "                var data = cell.output_area.outputs[j];\n",
       "                if (data.data) {\n",
       "                    // IPython >= 3 moved mimebundle to data attribute of output\n",
       "                    data = data.data;\n",
       "                }\n",
       "                if (data['text/html'] === html_output) {\n",
       "                    return [cell, data, j];\n",
       "                }\n",
       "            }\n",
       "        }\n",
       "    }\n",
       "};\n",
       "\n",
       "// Register the function which deals with the matplotlib target/channel.\n",
       "// The kernel may be null if the page has been refreshed.\n",
       "if (IPython.notebook.kernel !== null) {\n",
       "    IPython.notebook.kernel.comm_manager.register_target(\n",
       "        'matplotlib',\n",
       "        mpl.mpl_figure_comm\n",
       "    );\n",
       "}\n"
      ],
      "text/plain": [
       "<IPython.core.display.Javascript object>"
      ]
     },
     "metadata": {},
     "output_type": "display_data"
    },
    {
     "data": {
      "text/html": [
       "<img src=\"data:image/png;base64,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\" width=\"640\">"
      ],
      "text/plain": [
       "<IPython.core.display.HTML object>"
      ]
     },
     "metadata": {},
     "output_type": "display_data"
    },
    {
     "data": {
      "text/plain": [
       "[<matplotlib.lines.Line2D at 0x27aeb1e1d60>]"
      ]
     },
     "execution_count": 79,
     "metadata": {},
     "output_type": "execute_result"
    }
   ],
   "source": [
    "fig,ax=plt.subplots()\n",
    "plt.plot(df.state.values,\"-\")\n",
    "plt.plot(S_arr_list[0],\"--\")\n",
    "# _=ax.set_title(f\"Accuracy: {100*acc : .2f}%\")"
   ]
  },
  {
   "cell_type": "code",
   "execution_count": 27,
   "id": "e40a763d",
   "metadata": {},
   "outputs": [
    {
     "data": {
      "application/vnd.plotly.v1+json": {
       "config": {
        "plotlyServerURL": "https://plot.ly"
       },
       "data": [
        {
         "customdata": [
          [
           0
          ],
          [
           1
          ],
          [
           2
          ],
          [
           3
          ],
          [
           409
          ],
          [
           410
          ],
          [
           411
          ],
          [
           412
          ],
          [
           413
          ],
          [
           414
          ],
          [
           415
          ],
          [
           416
          ],
          [
           417
          ],
          [
           418
          ],
          [
           419
          ],
          [
           420
          ],
          [
           421
          ],
          [
           422
          ],
          [
           423
          ],
          [
           424
          ],
          [
           425
          ],
          [
           426
          ],
          [
           427
          ],
          [
           428
          ],
          [
           429
          ],
          [
           430
          ],
          [
           431
          ],
          [
           432
          ],
          [
           433
          ],
          [
           434
          ],
          [
           435
          ],
          [
           436
          ],
          [
           437
          ],
          [
           438
          ],
          [
           439
          ],
          [
           440
          ],
          [
           441
          ],
          [
           442
          ],
          [
           443
          ],
          [
           444
          ],
          [
           445
          ],
          [
           446
          ],
          [
           447
          ],
          [
           448
          ],
          [
           449
          ],
          [
           450
          ],
          [
           451
          ],
          [
           452
          ],
          [
           453
          ],
          [
           454
          ],
          [
           455
          ],
          [
           456
          ],
          [
           457
          ],
          [
           458
          ],
          [
           459
          ],
          [
           460
          ],
          [
           461
          ],
          [
           462
          ],
          [
           463
          ],
          [
           464
          ],
          [
           465
          ],
          [
           466
          ],
          [
           467
          ],
          [
           468
          ],
          [
           469
          ],
          [
           470
          ],
          [
           471
          ],
          [
           472
          ],
          [
           473
          ],
          [
           474
          ],
          [
           475
          ],
          [
           476
          ],
          [
           477
          ],
          [
           478
          ],
          [
           479
          ],
          [
           480
          ],
          [
           481
          ],
          [
           482
          ],
          [
           483
          ],
          [
           484
          ],
          [
           485
          ],
          [
           486
          ],
          [
           487
          ],
          [
           488
          ],
          [
           489
          ],
          [
           490
          ],
          [
           491
          ],
          [
           492
          ],
          [
           493
          ],
          [
           494
          ],
          [
           495
          ],
          [
           496
          ],
          [
           497
          ],
          [
           498
          ],
          [
           499
          ],
          [
           500
          ],
          [
           501
          ],
          [
           502
          ],
          [
           503
          ],
          [
           504
          ],
          [
           505
          ],
          [
           506
          ],
          [
           507
          ],
          [
           508
          ],
          [
           509
          ],
          [
           510
          ],
          [
           511
          ],
          [
           512
          ],
          [
           513
          ],
          [
           514
          ],
          [
           515
          ],
          [
           516
          ],
          [
           517
          ],
          [
           518
          ],
          [
           519
          ],
          [
           520
          ],
          [
           521
          ],
          [
           522
          ],
          [
           523
          ]
         ],
         "hovertemplate": "particle_state=0_0<br>x=%{x}<br>y=%{y}<br>frame=%{customdata[0]}<extra></extra>",
         "legendgroup": "0_0",
         "line": {
          "color": "#1F77B4",
          "dash": "solid"
         },
         "marker": {
          "symbol": "circle"
         },
         "mode": "lines",
         "name": "0_0",
         "orientation": "v",
         "showlegend": true,
         "type": "scatter",
         "x": [
          0,
          -8.623866765849762,
          -12.452142721320564,
          -10.47565969279448,
          -10.78013074847231,
          -16.518159771491977,
          -22.564929204429458,
          -16.86648990136311,
          -16.635346521026836,
          -17.074639444034492,
          -23.56575804370585,
          -23.59582848522342,
          -23.372764828666877,
          -12.300634218644372,
          -14.683649418449074,
          -10.523544848284345,
          -14.918834763637332,
          -13.489112566823833,
          -16.08921705416904,
          -13.980439521844083,
          -15.969090856205977,
          -22.762853446922925,
          -10.889175207155354,
          -19.313943263931268,
          -20.05560119928457,
          -21.858266860381196,
          -21.5308850836078,
          -15.523103049987268,
          -20.479478472662166,
          -22.46422728289236,
          -13.64242226293119,
          -10.675173969190212,
          -14.285600672820296,
          -19.17817337918097,
          -19.775083945179297,
          -19.062892537923968,
          -27.365096007396076,
          -20.61937803634663,
          -22.769907608332375,
          -20.7067961639865,
          -21.95861554657764,
          -16.50577529617635,
          -20.372367528403164,
          -17.7406699696668,
          -21.83222190100208,
          -21.660498734253785,
          -24.86196234814739,
          -28.951575042555163,
          -26.135336494605838,
          -28.30228569261396,
          -23.98787674785757,
          -19.075896157191103,
          -22.971316480041708,
          -20.308344755810726,
          -21.12972155641979,
          -21.798990885424622,
          -23.55340388264077,
          -17.203679444987387,
          -10.366990143933549,
          -10.229971671563876,
          -11.842411675836988,
          -6.1520141121637355,
          -0.9286468759038069,
          -4.115871897868825,
          8.539187676366302,
          11.90130146979065,
          11.307268761867654,
          18.415228013467072,
          20.137022946282464,
          15.322495506770647,
          19.77013772908669,
          20.966123706959,
          12.185151133159234,
          13.387853914480832,
          12.984281710809668,
          12.14936830288258,
          10.123825226549375,
          10.09621953005021,
          8.78703295460635,
          10.063977758112168,
          9.996813051926036,
          10.80290122120886,
          4.989643407330349,
          3.01783439741366,
          -1.845663980985793,
          -3.6194421369659158,
          -12.874793882680065,
          -8.072596887694882,
          -10.508756697290234,
          -16.132196910542163,
          -10.637551494093536,
          -9.338557935899725,
          -4.990316932612875,
          3.3630366172805912,
          4.7430763841053265,
          -0.8972998692105945,
          6.964806639134349,
          -3.0165728449265528,
          -2.13243029576793,
          0.4737032461328772,
          -3.735406205817551,
          -4.537221611986592,
          -3.3431163984185797,
          2.2949208062548982,
          -7.065350731997226,
          -6.8739142643844175,
          1.9138819276462282,
          0.3041218574358069,
          8.658254580301284,
          7.763667720110062,
          0.8329147951142826,
          1.5600314035285079,
          8.927817520511478,
          7.97498924270465,
          9.319986652449463,
          7.303428707728348,
          9.040583919213631,
          2.8144343961740557,
          5.8742564856735475
         ],
         "xaxis": "x",
         "y": [
          0,
          0.8923916537493718,
          -5.546455522676609,
          -14.09183371215163,
          -6.324603060490018,
          -4.589951144078456,
          -1.9354931376823914,
          -2.6667261204436796,
          -0.43920692438004627,
          -9.858034263391431,
          -1.6390788918843668,
          -2.9499079829731576,
          1.2509462907961408,
          2.7796256807009785,
          1.4224130310285354,
          2.896820932838443,
          2.580191986995862,
          -4.215945318097694,
          1.430209583237902,
          4.4876922305059255,
          7.715993082307383,
          9.53659168600667,
          9.570464068839087,
          8.760183881150505,
          12.025838328759477,
          10.814166673624552,
          15.781995816191912,
          20.696535658130394,
          23.002365572902058,
          25.425634166064913,
          25.72131773557412,
          21.900941194728198,
          15.188920110490216,
          18.270308489547013,
          26.034967413436966,
          17.8226443616118,
          16.550861052528866,
          9.813395621760417,
          18.636177116909206,
          13.993775279002858,
          19.779121983883265,
          13.277334379889174,
          17.58704888314816,
          10.887355972684984,
          10.557103101254697,
          11.076198793725702,
          13.203786406901223,
          9.769517553228013,
          10.736612934105146,
          17.08701764398682,
          17.666884406815367,
          16.387645058054336,
          21.43307176452577,
          21.960215975703296,
          23.164804148885157,
          29.145896810523958,
          30.21304606454,
          18.999751158272296,
          19.40466828998839,
          20.168145989965762,
          24.194014715030132,
          19.871976342884253,
          11.584168464259655,
          12.134974683443382,
          9.913055903942807,
          14.125421603465458,
          13.41237943587402,
          3.159554215800574,
          6.622605523583758,
          17.707099312302546,
          20.95620497003259,
          14.949860425167047,
          16.675760767273946,
          14.290161160442517,
          16.58997562468949,
          15.425521816693774,
          6.329516872009691,
          13.060080822444561,
          6.364443191973643,
          11.390713850780585,
          18.175029474222967,
          19.71204930968464,
          23.36067511911847,
          25.736900416556402,
          26.754904498569374,
          20.285404797245473,
          22.043349498097175,
          15.898503307113671,
          18.37592282132914,
          19.188598656926622,
          14.553133408840491,
          20.5547950339252,
          18.71896211430653,
          24.980050289898657,
          16.972081046773233,
          23.20740353235784,
          22.010021993317157,
          24.261705006402124,
          25.83249782039115,
          30.057860822607683,
          32.599717576614296,
          36.919797212509316,
          38.027251458965424,
          34.60936828980377,
          31.12864458222951,
          26.193056395862627,
          19.061062016415804,
          24.13936515540675,
          26.372637437371182,
          20.00230769671101,
          24.761907277875537,
          29.50722601190533,
          24.23473095740169,
          19.618561571535665,
          24.5863839602561,
          19.20616028448401,
          19.96280020395703,
          21.001859082719676,
          21.44201837909156
         ],
         "yaxis": "y"
        },
        {
         "customdata": [
          [
           4
          ],
          [
           5
          ],
          [
           6
          ],
          [
           7
          ],
          [
           8
          ],
          [
           9
          ],
          [
           10
          ],
          [
           11
          ],
          [
           12
          ],
          [
           13
          ],
          [
           14
          ],
          [
           15
          ],
          [
           16
          ],
          [
           17
          ],
          [
           18
          ],
          [
           19
          ],
          [
           20
          ],
          [
           21
          ],
          [
           22
          ],
          [
           23
          ],
          [
           24
          ],
          [
           25
          ],
          [
           26
          ],
          [
           27
          ],
          [
           28
          ],
          [
           29
          ],
          [
           30
          ],
          [
           31
          ],
          [
           32
          ],
          [
           33
          ],
          [
           34
          ],
          [
           35
          ],
          [
           36
          ],
          [
           37
          ],
          [
           38
          ],
          [
           39
          ],
          [
           40
          ],
          [
           41
          ],
          [
           42
          ],
          [
           43
          ],
          [
           44
          ],
          [
           45
          ],
          [
           46
          ],
          [
           47
          ],
          [
           48
          ],
          [
           49
          ],
          [
           50
          ],
          [
           51
          ],
          [
           52
          ],
          [
           53
          ],
          [
           54
          ],
          [
           55
          ],
          [
           56
          ],
          [
           57
          ],
          [
           58
          ],
          [
           59
          ],
          [
           60
          ],
          [
           61
          ],
          [
           62
          ],
          [
           63
          ],
          [
           64
          ],
          [
           65
          ],
          [
           66
          ],
          [
           67
          ],
          [
           68
          ],
          [
           69
          ],
          [
           70
          ],
          [
           71
          ],
          [
           72
          ],
          [
           73
          ],
          [
           74
          ],
          [
           75
          ],
          [
           76
          ],
          [
           77
          ],
          [
           78
          ],
          [
           79
          ],
          [
           80
          ],
          [
           81
          ],
          [
           82
          ],
          [
           83
          ],
          [
           84
          ],
          [
           85
          ],
          [
           86
          ],
          [
           87
          ],
          [
           88
          ],
          [
           89
          ],
          [
           90
          ],
          [
           91
          ],
          [
           92
          ],
          [
           93
          ],
          [
           94
          ],
          [
           95
          ],
          [
           96
          ],
          [
           97
          ],
          [
           98
          ],
          [
           99
          ],
          [
           100
          ],
          [
           101
          ],
          [
           102
          ],
          [
           103
          ],
          [
           104
          ],
          [
           105
          ],
          [
           106
          ],
          [
           107
          ],
          [
           108
          ],
          [
           109
          ],
          [
           110
          ],
          [
           111
          ],
          [
           112
          ],
          [
           113
          ],
          [
           114
          ],
          [
           115
          ],
          [
           116
          ],
          [
           117
          ],
          [
           118
          ],
          [
           119
          ],
          [
           120
          ],
          [
           121
          ],
          [
           122
          ],
          [
           123
          ],
          [
           124
          ],
          [
           125
          ],
          [
           126
          ],
          [
           127
          ],
          [
           128
          ],
          [
           129
          ],
          [
           130
          ],
          [
           131
          ],
          [
           132
          ],
          [
           133
          ],
          [
           134
          ],
          [
           135
          ],
          [
           136
          ],
          [
           137
          ],
          [
           138
          ],
          [
           139
          ],
          [
           140
          ],
          [
           141
          ],
          [
           142
          ],
          [
           143
          ],
          [
           144
          ],
          [
           145
          ],
          [
           146
          ],
          [
           147
          ],
          [
           148
          ],
          [
           149
          ],
          [
           150
          ],
          [
           151
          ],
          [
           152
          ],
          [
           153
          ],
          [
           154
          ],
          [
           155
          ],
          [
           156
          ],
          [
           157
          ],
          [
           158
          ],
          [
           159
          ],
          [
           160
          ],
          [
           161
          ],
          [
           162
          ],
          [
           163
          ],
          [
           164
          ],
          [
           165
          ],
          [
           166
          ],
          [
           167
          ],
          [
           168
          ],
          [
           169
          ],
          [
           170
          ],
          [
           171
          ],
          [
           172
          ],
          [
           173
          ],
          [
           174
          ],
          [
           175
          ],
          [
           176
          ],
          [
           177
          ],
          [
           178
          ],
          [
           179
          ],
          [
           180
          ],
          [
           181
          ],
          [
           182
          ],
          [
           183
          ],
          [
           184
          ],
          [
           185
          ],
          [
           186
          ],
          [
           187
          ],
          [
           188
          ],
          [
           189
          ],
          [
           190
          ],
          [
           191
          ],
          [
           192
          ],
          [
           193
          ],
          [
           194
          ],
          [
           195
          ],
          [
           196
          ],
          [
           197
          ],
          [
           198
          ],
          [
           199
          ],
          [
           200
          ],
          [
           201
          ],
          [
           202
          ],
          [
           203
          ],
          [
           204
          ],
          [
           205
          ],
          [
           206
          ],
          [
           207
          ],
          [
           208
          ],
          [
           209
          ],
          [
           210
          ],
          [
           211
          ],
          [
           212
          ],
          [
           213
          ],
          [
           214
          ],
          [
           215
          ],
          [
           216
          ],
          [
           217
          ],
          [
           218
          ],
          [
           219
          ],
          [
           220
          ],
          [
           221
          ],
          [
           222
          ],
          [
           223
          ],
          [
           224
          ],
          [
           225
          ],
          [
           226
          ],
          [
           227
          ],
          [
           228
          ],
          [
           229
          ],
          [
           230
          ],
          [
           231
          ],
          [
           232
          ],
          [
           233
          ],
          [
           234
          ],
          [
           235
          ],
          [
           236
          ],
          [
           237
          ],
          [
           238
          ],
          [
           239
          ],
          [
           240
          ],
          [
           241
          ],
          [
           242
          ],
          [
           243
          ],
          [
           244
          ],
          [
           245
          ],
          [
           246
          ],
          [
           247
          ],
          [
           248
          ],
          [
           249
          ],
          [
           250
          ],
          [
           251
          ],
          [
           252
          ],
          [
           253
          ],
          [
           254
          ],
          [
           255
          ],
          [
           256
          ],
          [
           257
          ],
          [
           258
          ],
          [
           259
          ],
          [
           260
          ],
          [
           261
          ],
          [
           262
          ],
          [
           263
          ],
          [
           264
          ],
          [
           265
          ],
          [
           266
          ],
          [
           267
          ],
          [
           268
          ],
          [
           269
          ],
          [
           270
          ],
          [
           271
          ],
          [
           272
          ],
          [
           273
          ],
          [
           274
          ],
          [
           275
          ],
          [
           276
          ],
          [
           277
          ],
          [
           278
          ],
          [
           279
          ],
          [
           280
          ],
          [
           281
          ],
          [
           282
          ],
          [
           283
          ],
          [
           284
          ],
          [
           285
          ],
          [
           286
          ],
          [
           287
          ],
          [
           288
          ],
          [
           289
          ],
          [
           290
          ],
          [
           291
          ],
          [
           292
          ],
          [
           293
          ],
          [
           294
          ],
          [
           295
          ],
          [
           296
          ],
          [
           297
          ],
          [
           298
          ],
          [
           299
          ],
          [
           300
          ],
          [
           301
          ],
          [
           302
          ],
          [
           303
          ],
          [
           304
          ],
          [
           305
          ],
          [
           306
          ],
          [
           307
          ],
          [
           308
          ],
          [
           309
          ],
          [
           310
          ],
          [
           311
          ],
          [
           312
          ],
          [
           313
          ],
          [
           314
          ],
          [
           315
          ],
          [
           316
          ],
          [
           317
          ],
          [
           318
          ],
          [
           319
          ],
          [
           320
          ],
          [
           321
          ],
          [
           322
          ],
          [
           323
          ],
          [
           324
          ],
          [
           325
          ],
          [
           326
          ],
          [
           327
          ],
          [
           328
          ],
          [
           329
          ],
          [
           330
          ],
          [
           331
          ],
          [
           332
          ],
          [
           333
          ],
          [
           334
          ],
          [
           335
          ],
          [
           336
          ],
          [
           337
          ],
          [
           338
          ],
          [
           339
          ],
          [
           340
          ],
          [
           341
          ],
          [
           342
          ],
          [
           343
          ],
          [
           344
          ],
          [
           345
          ],
          [
           346
          ],
          [
           347
          ],
          [
           348
          ],
          [
           349
          ],
          [
           350
          ],
          [
           351
          ],
          [
           352
          ],
          [
           353
          ],
          [
           354
          ],
          [
           355
          ],
          [
           356
          ],
          [
           357
          ],
          [
           358
          ],
          [
           359
          ],
          [
           360
          ],
          [
           361
          ],
          [
           362
          ],
          [
           363
          ],
          [
           364
          ],
          [
           365
          ],
          [
           366
          ],
          [
           367
          ],
          [
           368
          ],
          [
           369
          ],
          [
           370
          ],
          [
           371
          ],
          [
           372
          ],
          [
           373
          ],
          [
           374
          ],
          [
           375
          ],
          [
           376
          ],
          [
           377
          ],
          [
           378
          ],
          [
           379
          ],
          [
           380
          ],
          [
           381
          ],
          [
           382
          ],
          [
           383
          ],
          [
           384
          ],
          [
           385
          ],
          [
           386
          ],
          [
           387
          ],
          [
           388
          ],
          [
           389
          ],
          [
           390
          ],
          [
           391
          ],
          [
           392
          ],
          [
           393
          ],
          [
           394
          ],
          [
           395
          ],
          [
           396
          ],
          [
           397
          ],
          [
           398
          ],
          [
           399
          ],
          [
           400
          ],
          [
           401
          ],
          [
           402
          ],
          [
           403
          ],
          [
           404
          ],
          [
           405
          ],
          [
           406
          ],
          [
           407
          ],
          [
           408
          ],
          [
           524
          ],
          [
           525
          ],
          [
           526
          ],
          [
           527
          ],
          [
           528
          ],
          [
           529
          ],
          [
           530
          ],
          [
           531
          ],
          [
           532
          ],
          [
           533
          ],
          [
           534
          ],
          [
           535
          ],
          [
           536
          ],
          [
           537
          ],
          [
           538
          ],
          [
           539
          ],
          [
           540
          ],
          [
           541
          ],
          [
           542
          ],
          [
           543
          ],
          [
           544
          ],
          [
           545
          ],
          [
           546
          ],
          [
           547
          ],
          [
           548
          ],
          [
           549
          ],
          [
           550
          ],
          [
           551
          ],
          [
           552
          ],
          [
           553
          ],
          [
           554
          ],
          [
           555
          ],
          [
           556
          ],
          [
           557
          ],
          [
           558
          ],
          [
           559
          ],
          [
           560
          ],
          [
           561
          ],
          [
           562
          ],
          [
           563
          ],
          [
           564
          ],
          [
           565
          ],
          [
           566
          ],
          [
           567
          ],
          [
           568
          ],
          [
           569
          ],
          [
           570
          ],
          [
           571
          ],
          [
           572
          ],
          [
           573
          ],
          [
           574
          ],
          [
           575
          ],
          [
           576
          ],
          [
           577
          ],
          [
           578
          ],
          [
           579
          ],
          [
           580
          ],
          [
           581
          ],
          [
           582
          ],
          [
           583
          ],
          [
           584
          ],
          [
           585
          ],
          [
           586
          ],
          [
           587
          ],
          [
           588
          ],
          [
           589
          ],
          [
           590
          ],
          [
           591
          ],
          [
           592
          ],
          [
           593
          ],
          [
           594
          ],
          [
           595
          ],
          [
           596
          ],
          [
           597
          ],
          [
           598
          ],
          [
           599
          ],
          [
           600
          ],
          [
           601
          ],
          [
           602
          ],
          [
           603
          ],
          [
           604
          ],
          [
           605
          ],
          [
           606
          ],
          [
           607
          ],
          [
           608
          ],
          [
           609
          ],
          [
           610
          ],
          [
           611
          ],
          [
           612
          ],
          [
           613
          ],
          [
           614
          ],
          [
           615
          ],
          [
           616
          ],
          [
           617
          ],
          [
           618
          ],
          [
           619
          ],
          [
           620
          ],
          [
           621
          ],
          [
           622
          ],
          [
           623
          ],
          [
           624
          ],
          [
           625
          ],
          [
           626
          ],
          [
           627
          ],
          [
           628
          ],
          [
           629
          ],
          [
           630
          ],
          [
           631
          ],
          [
           632
          ],
          [
           633
          ],
          [
           634
          ],
          [
           635
          ],
          [
           636
          ],
          [
           637
          ],
          [
           638
          ],
          [
           639
          ],
          [
           640
          ],
          [
           641
          ],
          [
           642
          ],
          [
           643
          ],
          [
           644
          ],
          [
           645
          ],
          [
           646
          ],
          [
           647
          ],
          [
           648
          ],
          [
           649
          ],
          [
           650
          ],
          [
           651
          ],
          [
           652
          ],
          [
           653
          ],
          [
           654
          ],
          [
           655
          ],
          [
           656
          ],
          [
           657
          ],
          [
           658
          ],
          [
           659
          ],
          [
           660
          ],
          [
           661
          ],
          [
           662
          ],
          [
           663
          ],
          [
           664
          ],
          [
           665
          ],
          [
           666
          ],
          [
           667
          ],
          [
           668
          ],
          [
           669
          ],
          [
           670
          ],
          [
           671
          ],
          [
           672
          ],
          [
           673
          ],
          [
           674
          ],
          [
           675
          ],
          [
           676
          ],
          [
           677
          ],
          [
           678
          ],
          [
           679
          ],
          [
           680
          ],
          [
           681
          ],
          [
           682
          ],
          [
           683
          ],
          [
           684
          ],
          [
           685
          ],
          [
           686
          ],
          [
           687
          ],
          [
           688
          ],
          [
           689
          ],
          [
           690
          ],
          [
           691
          ],
          [
           692
          ],
          [
           693
          ],
          [
           694
          ],
          [
           695
          ],
          [
           696
          ],
          [
           697
          ],
          [
           698
          ],
          [
           699
          ],
          [
           700
          ],
          [
           701
          ],
          [
           702
          ],
          [
           703
          ],
          [
           704
          ],
          [
           705
          ],
          [
           706
          ],
          [
           707
          ],
          [
           708
          ],
          [
           709
          ],
          [
           710
          ],
          [
           711
          ],
          [
           712
          ],
          [
           713
          ],
          [
           714
          ],
          [
           715
          ],
          [
           716
          ],
          [
           717
          ],
          [
           718
          ],
          [
           719
          ],
          [
           720
          ],
          [
           721
          ],
          [
           722
          ],
          [
           723
          ],
          [
           724
          ],
          [
           725
          ],
          [
           726
          ],
          [
           727
          ],
          [
           728
          ],
          [
           729
          ],
          [
           730
          ],
          [
           731
          ],
          [
           732
          ],
          [
           733
          ],
          [
           734
          ],
          [
           735
          ],
          [
           736
          ],
          [
           737
          ],
          [
           738
          ],
          [
           739
          ],
          [
           740
          ],
          [
           741
          ],
          [
           742
          ],
          [
           743
          ],
          [
           744
          ],
          [
           745
          ],
          [
           746
          ],
          [
           747
          ],
          [
           748
          ],
          [
           749
          ],
          [
           750
          ],
          [
           751
          ],
          [
           752
          ],
          [
           753
          ],
          [
           754
          ],
          [
           755
          ],
          [
           756
          ],
          [
           757
          ],
          [
           758
          ],
          [
           759
          ],
          [
           760
          ],
          [
           761
          ],
          [
           762
          ],
          [
           763
          ],
          [
           764
          ],
          [
           765
          ],
          [
           766
          ],
          [
           767
          ],
          [
           768
          ],
          [
           769
          ],
          [
           770
          ],
          [
           771
          ],
          [
           772
          ],
          [
           773
          ],
          [
           774
          ],
          [
           775
          ],
          [
           776
          ],
          [
           777
          ],
          [
           778
          ],
          [
           779
          ],
          [
           780
          ],
          [
           781
          ],
          [
           782
          ],
          [
           783
          ],
          [
           784
          ],
          [
           785
          ],
          [
           786
          ],
          [
           787
          ],
          [
           788
          ],
          [
           789
          ],
          [
           790
          ],
          [
           791
          ],
          [
           792
          ],
          [
           793
          ],
          [
           794
          ],
          [
           795
          ],
          [
           796
          ],
          [
           797
          ],
          [
           798
          ],
          [
           799
          ],
          [
           800
          ],
          [
           801
          ],
          [
           802
          ],
          [
           803
          ],
          [
           804
          ],
          [
           805
          ],
          [
           806
          ],
          [
           807
          ],
          [
           808
          ],
          [
           809
          ],
          [
           810
          ],
          [
           811
          ],
          [
           812
          ],
          [
           813
          ],
          [
           814
          ],
          [
           815
          ],
          [
           816
          ],
          [
           817
          ],
          [
           818
          ],
          [
           819
          ],
          [
           820
          ],
          [
           821
          ],
          [
           822
          ],
          [
           823
          ],
          [
           824
          ],
          [
           825
          ],
          [
           826
          ],
          [
           827
          ],
          [
           828
          ],
          [
           829
          ],
          [
           830
          ],
          [
           831
          ],
          [
           832
          ],
          [
           833
          ],
          [
           834
          ],
          [
           835
          ],
          [
           836
          ],
          [
           837
          ],
          [
           838
          ],
          [
           839
          ],
          [
           840
          ],
          [
           841
          ],
          [
           842
          ],
          [
           843
          ],
          [
           844
          ],
          [
           845
          ],
          [
           846
          ],
          [
           847
          ],
          [
           848
          ],
          [
           849
          ],
          [
           850
          ],
          [
           851
          ],
          [
           852
          ],
          [
           853
          ],
          [
           854
          ],
          [
           855
          ],
          [
           856
          ],
          [
           857
          ],
          [
           858
          ],
          [
           859
          ],
          [
           860
          ],
          [
           861
          ],
          [
           862
          ],
          [
           863
          ],
          [
           864
          ],
          [
           865
          ],
          [
           866
          ],
          [
           867
          ],
          [
           868
          ],
          [
           869
          ],
          [
           870
          ],
          [
           871
          ],
          [
           872
          ],
          [
           873
          ],
          [
           874
          ],
          [
           875
          ],
          [
           876
          ],
          [
           877
          ],
          [
           878
          ],
          [
           879
          ],
          [
           880
          ],
          [
           881
          ],
          [
           882
          ],
          [
           883
          ],
          [
           884
          ],
          [
           885
          ],
          [
           886
          ],
          [
           887
          ],
          [
           888
          ],
          [
           889
          ],
          [
           890
          ],
          [
           891
          ],
          [
           892
          ],
          [
           893
          ],
          [
           894
          ],
          [
           895
          ],
          [
           896
          ],
          [
           897
          ],
          [
           898
          ],
          [
           899
          ],
          [
           900
          ],
          [
           901
          ],
          [
           902
          ],
          [
           903
          ],
          [
           904
          ],
          [
           905
          ],
          [
           906
          ],
          [
           907
          ],
          [
           908
          ],
          [
           909
          ],
          [
           910
          ],
          [
           911
          ],
          [
           912
          ],
          [
           913
          ],
          [
           914
          ],
          [
           915
          ],
          [
           916
          ],
          [
           917
          ],
          [
           918
          ],
          [
           919
          ],
          [
           920
          ],
          [
           921
          ],
          [
           922
          ],
          [
           923
          ],
          [
           924
          ],
          [
           925
          ],
          [
           926
          ],
          [
           927
          ],
          [
           928
          ],
          [
           929
          ],
          [
           930
          ],
          [
           931
          ],
          [
           932
          ],
          [
           933
          ],
          [
           934
          ],
          [
           935
          ],
          [
           936
          ],
          [
           937
          ],
          [
           938
          ],
          [
           939
          ],
          [
           940
          ],
          [
           941
          ],
          [
           942
          ],
          [
           943
          ],
          [
           944
          ],
          [
           945
          ],
          [
           946
          ],
          [
           947
          ],
          [
           948
          ],
          [
           949
          ],
          [
           950
          ],
          [
           951
          ],
          [
           952
          ],
          [
           953
          ],
          [
           954
          ],
          [
           955
          ],
          [
           956
          ],
          [
           957
          ],
          [
           958
          ],
          [
           959
          ],
          [
           960
          ],
          [
           961
          ],
          [
           962
          ],
          [
           963
          ],
          [
           964
          ],
          [
           965
          ],
          [
           966
          ],
          [
           967
          ],
          [
           968
          ],
          [
           969
          ],
          [
           970
          ],
          [
           971
          ],
          [
           972
          ],
          [
           973
          ],
          [
           974
          ],
          [
           975
          ],
          [
           976
          ],
          [
           977
          ],
          [
           978
          ],
          [
           979
          ],
          [
           980
          ],
          [
           981
          ],
          [
           982
          ],
          [
           983
          ],
          [
           984
          ],
          [
           985
          ],
          [
           986
          ],
          [
           987
          ],
          [
           988
          ],
          [
           989
          ],
          [
           990
          ],
          [
           991
          ],
          [
           992
          ],
          [
           993
          ],
          [
           994
          ],
          [
           995
          ],
          [
           996
          ],
          [
           997
          ],
          [
           998
          ],
          [
           999
          ]
         ],
         "hovertemplate": "particle_state=0_1<br>x=%{x}<br>y=%{y}<br>frame=%{customdata[0]}<extra></extra>",
         "legendgroup": "0_1",
         "line": {
          "color": "#FF7F0E",
          "dash": "solid"
         },
         "marker": {
          "symbol": "circle"
         },
         "mode": "lines",
         "name": "0_1",
         "orientation": "v",
         "showlegend": true,
         "type": "scatter",
         "x": [
          -9.278738868808963,
          -10.409376389174035,
          -8.579233019356282,
          -8.911430810182967,
          -9.39740972290778,
          -8.922527326602827,
          -10.062571619269004,
          -7.7400693028902605,
          -9.220393003834483,
          -9.858502705332215,
          -9.009762219221928,
          -10.234346810234527,
          -7.895558314461784,
          -10.432947718270995,
          -8.680740020569262,
          -10.023011827375067,
          -8.024691371910418,
          -8.960530072292348,
          -8.428262365676453,
          -9.013753941657805,
          -8.060939368559264,
          -8.648105951537277,
          -8.659067828541165,
          -9.038224813278639,
          -8.759882914642471,
          -11.190223371037682,
          -8.17668783880397,
          -9.664195264237074,
          -10.642587535437704,
          -8.239754827365076,
          -9.252070387292195,
          -7.0714418842145115,
          -9.500811866654406,
          -8.665549212251825,
          -9.569213382905039,
          -9.020578343643008,
          -7.727944479312357,
          -9.194371097339808,
          -8.904155495419275,
          -8.407855135730586,
          -8.55329850639817,
          -8.788830111657829,
          -8.849195042153136,
          -8.239053944607377,
          -11.139567265972646,
          -7.967348589517915,
          -10.58926821363606,
          -7.814400974778609,
          -9.9605664316862,
          -9.59707180682657,
          -9.529651691283066,
          -8.47819967619563,
          -10.730354048426012,
          -8.890592268606241,
          -8.932309720918358,
          -9.528928930601431,
          -8.859105071516405,
          -8.321857103571977,
          -10.029381696155074,
          -10.112904194313971,
          -10.27792008180254,
          -9.046838343378111,
          -9.937460266872304,
          -7.592932865741572,
          -10.7701428414847,
          -8.854559805171473,
          -8.354023890070266,
          -7.206307390589901,
          -9.376782005922808,
          -8.815510543396272,
          -9.8884943795227,
          -10.587634173941364,
          -10.01368745090309,
          -8.196154823550946,
          -8.922445978498924,
          -9.323537830951697,
          -9.070433022964039,
          -10.794446879985824,
          -9.12502761187563,
          -10.483205286394558,
          -7.838408389823514,
          -8.88353939047596,
          -10.618448283748545,
          -9.132293791775034,
          -10.863816123590446,
          -8.437789200504588,
          -7.516019776394604,
          -9.947367891932629,
          -10.318731388114282,
          -8.071250919686776,
          -10.932445834409334,
          -8.794704567746848,
          -9.789287538957279,
          -9.002999046566181,
          -7.017411026613921,
          -8.90673722293107,
          -8.182659090388078,
          -8.572413236565032,
          -7.412493019965832,
          -8.916041409231143,
          -8.857302183292767,
          -9.553048523176955,
          -8.903483586172841,
          -10.751339030043322,
          -10.036662367696733,
          -8.591245475686867,
          -8.920862552225529,
          -8.806758773033991,
          -9.97643567735669,
          -9.1425728935747,
          -8.073935701292191,
          -8.086900196164871,
          -9.062751142116225,
          -9.030566967089099,
          -10.456248095793208,
          -8.249064240282273,
          -9.036565484288252,
          -9.917752359427253,
          -9.89485696849993,
          -9.738106879425862,
          -8.994444603029853,
          -7.489202968950105,
          -8.666724948508827,
          -7.809380371280399,
          -11.45135116596493,
          -9.201754853472005,
          -9.22347846056521,
          -9.018371576438208,
          -8.902641115599994,
          -8.099330264178871,
          -9.544545545606596,
          -7.433527243692316,
          -8.7912302725122,
          -10.451369030627255,
          -9.749228568734571,
          -9.230059798900138,
          -9.666567867451672,
          -10.472802670160501,
          -10.557808011427014,
          -9.4468041635551,
          -10.199476235389145,
          -6.344444570071496,
          -7.979058842091183,
          -10.352023825632948,
          -10.642435337375485,
          -8.444066024107185,
          -9.262330321951023,
          -7.6296578853853525,
          -9.492959918562073,
          -9.211888498476629,
          -10.372952217841734,
          -9.695863258256598,
          -10.400703177528806,
          -9.453156086841615,
          -9.134927747016583,
          -8.585116434365295,
          -8.74961513297976,
          -9.361607545332088,
          -9.202507920321695,
          -10.416211563277795,
          -8.988971090623187,
          -9.954772408186031,
          -10.510409777711947,
          -8.6616108876569,
          -8.530714840574356,
          -8.329696934107686,
          -9.68381808398977,
          -8.89567267597688,
          -8.341706313315605,
          -8.529172491181537,
          -10.46661701568555,
          -9.02001197718079,
          -8.006867118753327,
          -7.813135157502057,
          -9.386830396992602,
          -9.32986493686907,
          -10.299060966456166,
          -9.961211265677074,
          -8.495435036484427,
          -8.706644817212853,
          -8.485926710155821,
          -9.50442182045153,
          -9.757693120432744,
          -9.587828955500942,
          -9.896420747637036,
          -8.019663973161702,
          -9.9736701991689,
          -9.610881099227246,
          -10.40131756897932,
          -9.071844763178188,
          -10.15196552671318,
          -9.231314595251089,
          -9.732644176113965,
          -9.614739830258046,
          -10.534051472030788,
          -9.314596596143529,
          -8.40316124147376,
          -11.195654249876469,
          -8.732269561239798,
          -9.60633676935822,
          -9.016407138507443,
          -8.313302313106162,
          -10.927001698411653,
          -10.659033295654213,
          -10.271662131859681,
          -9.358327631041817,
          -9.905903090350876,
          -10.195145896453903,
          -9.223525845730304,
          -7.708305515366488,
          -9.05599565593371,
          -9.75215964156317,
          -8.46241482619489,
          -10.364624997571978,
          -10.402344387033324,
          -8.833685444935442,
          -10.648567136304525,
          -9.80831489545345,
          -9.10958230825439,
          -9.330685574747971,
          -10.750096212037402,
          -9.422156433351697,
          -8.244565109655666,
          -9.906080837120586,
          -8.659067635846693,
          -7.9650454370150205,
          -8.618869410526619,
          -8.986301344426865,
          -9.617500682546849,
          -10.139518169406752,
          -10.1191620158807,
          -9.975802834399705,
          -8.702293483602041,
          -9.61234105276384,
          -10.20615508727836,
          -10.033762603081652,
          -8.549919852524784,
          -10.618139834590949,
          -10.912343077158047,
          -9.967026799881856,
          -8.851794799058345,
          -11.323774033846387,
          -8.221833377397326,
          -9.595050103613925,
          -10.001151103310846,
          -8.67433539031962,
          -8.625318509964849,
          -7.975241563171741,
          -9.038835006871203,
          -8.422192460002089,
          -9.411892693343587,
          -9.873751221651506,
          -8.204361258851392,
          -9.597670881654603,
          -9.660383062508993,
          -9.287356126286666,
          -11.082244973576056,
          -10.643840474211665,
          -9.265613746199904,
          -10.140574215092224,
          -10.402518066500848,
          -8.82833771914717,
          -9.7242021307348,
          -9.068196225951686,
          -7.85602274017923,
          -9.420690797691822,
          -7.183501254390649,
          -9.333565629834585,
          -8.314738061953618,
          -8.641348469877997,
          -9.47486792315732,
          -9.681294050523803,
          -9.317281993894023,
          -10.271464777869765,
          -10.322346739640063,
          -8.932574618979338,
          -10.977080712581168,
          -10.719818750456495,
          -10.30949041281637,
          -8.38146215843853,
          -9.540150866700372,
          -10.225308640349668,
          -11.48021534428384,
          -9.241594885134942,
          -9.427189359098138,
          -10.789465123047536,
          -10.893433917783383,
          -10.287038247606024,
          -10.299014651747958,
          -9.078068067464221,
          -8.683740582281256,
          -9.43674532458419,
          -8.38244509562486,
          -9.476022013835667,
          -11.222996401338877,
          -9.840257799850987,
          -8.613601196716354,
          -8.832295766217786,
          -9.096676157656997,
          -8.127637692138387,
          -8.917197118087431,
          -8.374091854821948,
          -7.2930091752287245,
          -9.764376390722731,
          -8.109636704889759,
          -9.578000857161264,
          -9.561246790038114,
          -8.293315919256548,
          -8.921010724950397,
          -7.994762320874784,
          -10.651834166310014,
          -9.601341385960453,
          -7.904853084860097,
          -10.124898055182225,
          -10.457259243928224,
          -9.293089436408188,
          -10.540937898501795,
          -9.426266964436346,
          -8.743718060595146,
          -10.008761388763983,
          -10.104988119392477,
          -10.413811828060723,
          -9.198607806633152,
          -7.583666759384225,
          -8.442618746068831,
          -9.167119570419564,
          -8.075423131451123,
          -9.371597348870331,
          -8.965140659283835,
          -8.845224416854224,
          -7.47127010623618,
          -9.082381010833197,
          -10.066217057994512,
          -11.026880553315726,
          -8.887409595797834,
          -8.882161078351428,
          -9.943682376626393,
          -9.548255156157254,
          -7.979983287461323,
          -10.869342453058076,
          -9.245002155065398,
          -7.581111703434417,
          -8.952883466343549,
          -8.686957019692318,
          -10.944799942266194,
          -8.274404794633604,
          -8.843687200979739,
          -8.427912870480448,
          -9.726571340949645,
          -9.669775361926837,
          -9.397186751655004,
          -10.147826020322926,
          -8.673073143072644,
          -9.866506258513713,
          -9.409870461033824,
          -8.207363573976778,
          -9.700259320732114,
          -10.180622047958401,
          -7.422129845392116,
          -9.073261221743744,
          -9.441137255057994,
          -9.640593111300554,
          -11.51070548909265,
          -9.171657981581818,
          -8.37325042993336,
          -9.70277966224035,
          -10.401797930349888,
          -7.396523332690817,
          -9.177223943155356,
          -9.312661827578907,
          -8.589460768841663,
          -9.774062895162011,
          -10.36830671526298,
          -10.561872719666589,
          -8.881016394309603,
          -9.578699677045615,
          -10.224032242862753,
          -9.73935180508707,
          -6.884186421507447,
          -8.033918183325945,
          -6.823303050415824,
          -8.991699052553452,
          -10.046448947134385,
          -9.384334583830238,
          -7.849381395131652,
          -9.192559631662181,
          -9.540609731745954,
          -9.520155671509823,
          -10.260889368574608,
          -9.878383504952215,
          -9.512943887032531,
          -8.14915436046998,
          -11.168072438295567,
          -10.439624322142837,
          -8.707713105857424,
          -9.826286441256425,
          -9.563363932847619,
          -10.012406757987042,
          -10.568576214519535,
          -8.89555855802113,
          -10.603497761974747,
          -10.493738490330564,
          -9.675438483505612,
          -8.901496491462419,
          -9.770907209655062,
          5.9762834991171205,
          5.653002010712346,
          6.307382782606179,
          5.4170534229620175,
          6.7081581368411065,
          4.462723740349283,
          5.105380089131349,
          6.923380520468243,
          5.090680588066416,
          5.869959200397923,
          5.5154351999602085,
          6.372320021753807,
          5.408333634303592,
          6.389978467765133,
          3.5461582315392337,
          5.718502311745114,
          7.80690714109443,
          4.574098491961543,
          5.134724772738324,
          6.996554890984488,
          5.618559799707625,
          5.600443840416413,
          5.598119512560342,
          6.971000362246843,
          5.314863534476125,
          7.700225095801306,
          7.637354627381311,
          7.427599854062018,
          6.742794288792041,
          7.217820811655659,
          5.805244464188421,
          6.026938071100085,
          8.137788300215139,
          6.857428936300445,
          4.716588827410913,
          8.723136132160963,
          5.291706576122529,
          6.209542610580868,
          4.704091332514173,
          7.610882199706881,
          4.956382041181618,
          4.675272214444346,
          5.361513621878028,
          6.724337869938587,
          4.987478272529908,
          5.803930506393603,
          7.206541869432645,
          6.360830952844862,
          5.60943435769042,
          4.409144196064183,
          4.836122773482817,
          5.586890821399702,
          6.856496036098239,
          6.989172984579527,
          4.79906109173262,
          4.618873520400179,
          3.902249725880971,
          5.021423299854836,
          5.335591372889022,
          4.564662867636878,
          5.276424912865578,
          6.610324037037081,
          5.909189891729151,
          8.08893397768033,
          5.234970494210968,
          6.435402326285445,
          4.92198175710679,
          6.81859152530782,
          5.8904457781623965,
          5.091502934052713,
          6.976232354098508,
          5.069357598469723,
          6.004755134548876,
          3.7366223785432617,
          6.583271621243858,
          7.77040892446676,
          3.6780199921616714,
          5.589627998480137,
          6.358434495676375,
          5.657390911290308,
          6.277394597592963,
          4.407344431329344,
          7.608579592377948,
          5.98019888275226,
          8.353991938875234,
          5.274281541145391,
          5.925192663931985,
          4.886929986260632,
          8.249096461092579,
          5.400497842533272,
          5.476815155766937,
          7.250602792086672,
          4.219291401064432,
          6.564944963041821,
          6.397097256937152,
          5.7753056675497,
          5.722096860233197,
          7.139715656381719,
          6.184153602031904,
          5.807110884948076,
          5.8600102187878225,
          5.939552887728544,
          5.920256494796284,
          5.27231644495991,
          4.671787996250337,
          5.377771313959602,
          7.374931679064845,
          5.394707857215285,
          6.692768468443125,
          5.775109918027936,
          5.597760282691532,
          5.906852870710311,
          6.460918201006654,
          5.433027109737237,
          5.353471127602383,
          6.9398463288687315,
          6.563598366088276,
          4.89218836192037,
          6.554907202869683,
          6.037843358586249,
          5.756752168043484,
          7.611422904802002,
          5.624841635405832,
          5.4791175975717366,
          6.602070853592679,
          6.323272883126084,
          6.217647606356189,
          6.366333232986883,
          7.251860943724419,
          5.348248418246337,
          4.3120739269446915,
          5.367180310734695,
          8.659508018820397,
          7.042193555157549,
          5.911708521389363,
          5.999075944193915,
          4.251630486220367,
          5.371076700363657,
          6.120568295620832,
          5.714397855574473,
          5.969351544666973,
          5.343487125884074,
          4.213994989938037,
          5.914738279420378,
          3.6367088035833346,
          5.596233320918365,
          3.6530553101106307,
          5.1054777329955305,
          8.486654068220723,
          6.903282954799532,
          4.209342046692135,
          6.354318183564329,
          5.602048729855455,
          6.990520148029154,
          5.171202734497281,
          6.141600754821157,
          6.040715608716044,
          6.232642027900262,
          6.823775731367681,
          5.501584754755796,
          4.921389546000913,
          6.500147551505487,
          6.641818910261079,
          5.636391120779011,
          4.494972849593678,
          5.610376755908327,
          5.890764544295803,
          6.015752122895659,
          4.984628494063517,
          6.052479771440497,
          5.949020045661949,
          3.6392751779898718,
          4.155358075949776,
          5.531528175720341,
          5.984931778777676,
          6.163111858621351,
          6.645039728867898,
          7.5813631709169025,
          6.959829906407442,
          5.143246565834642,
          7.903560480927675,
          7.054580580461808,
          5.727805730954484,
          6.930364811414369,
          8.096677824706617,
          5.918221045120641,
          6.0361121944037945,
          5.681299488047403,
          2.740105077415019,
          4.192122000462481,
          5.4946940688088155,
          5.6992246793997685,
          5.8284582332477965,
          4.010641003123835,
          6.949329086407009,
          5.663560638217336,
          7.108179763717764,
          5.899457617604639,
          5.724089380143928,
          4.975283503845486,
          5.356770743839684,
          6.344756487592468,
          5.131862510197535,
          4.857986839580216,
          4.919350086191132,
          6.775462136911847,
          5.5964189919312854,
          5.593895779535232,
          5.741857516016342,
          6.986687035596877,
          5.880525216309811,
          7.747692977479865,
          8.092273518001722,
          4.486498844660009,
          5.209853530700915,
          5.83424871099221,
          4.906373950524985,
          6.141439058296363,
          7.528238014423257,
          6.0459962927969,
          8.199758764609278,
          6.11674632962093,
          5.524192223045962,
          6.415041457179945,
          4.506969638660141,
          6.450719698647384,
          6.822049173555886,
          6.599890234271874,
          6.838789166107833,
          5.37865233146679,
          7.486663368203124,
          4.387243117527676,
          6.70952405042657,
          4.93358360438457,
          5.194376181618516,
          8.84139361445165,
          5.121577506105043,
          5.987366785914745,
          7.32212202248051,
          4.895924864404136,
          6.857040807614441,
          5.713294950738706,
          6.749338944961615,
          6.95923550544916,
          7.259237325986264,
          4.976733886671649,
          6.7969978280048675,
          3.965525600103951,
          5.267172998457486,
          6.118188408019846,
          6.121569696137894,
          5.475072639598565,
          7.015043846740942,
          4.840421849973138,
          6.386043946671713,
          6.732371938287106,
          6.191622098981669,
          6.758250674469966,
          5.7274653255817825,
          8.912731362107973,
          5.638867123198881,
          6.22398366012713,
          6.414534496332015,
          6.321182165015467,
          4.883275613082353,
          7.013925476986041,
          5.702756823751523,
          6.639491546498887,
          4.544470211942626,
          6.375481178776804,
          5.482287017267322,
          3.7562276549016786,
          7.434461247233469,
          6.812881215977986,
          7.212999902778925,
          7.0298548696607535,
          6.152155020915919,
          7.698839121725664,
          6.08560763693858,
          5.7159256825851585,
          6.94742571261039,
          6.926617586740533,
          5.516555607098082,
          5.166252239937727,
          6.536243179715358,
          5.830401717928574,
          5.804787463116776,
          6.376399007212422,
          7.300071385483364,
          5.182411041437895,
          4.843637336419395,
          6.382549027524323,
          4.733222562060224,
          6.438595459752075,
          6.857092763250314,
          5.023652573586023,
          5.080959563060093,
          4.278850962815301,
          7.429535122823031,
          4.11224184564779,
          5.388392749174441,
          5.6188709465361875,
          6.437241280525892,
          5.9377138947630055,
          4.965639281838307,
          6.627617541838023,
          6.393212174229719,
          6.02825623007655,
          6.6217842492378285,
          5.810975767267353,
          5.344106058863091,
          6.55104485074324,
          6.426671653813567,
          8.23108467068513,
          6.311941357895585,
          5.091455130201075,
          6.7825543290801384,
          6.776615803600622,
          3.3928685294398604,
          5.581562825121105,
          5.650974701621858,
          6.4537477404629655,
          5.862052664268944,
          6.9507550653623,
          8.025251472956562,
          7.1936370890490915,
          5.985602673234857,
          6.94441410744336,
          5.670761234614319,
          7.042842002741171,
          7.330909170750539,
          3.605247884313854,
          5.906342200794464,
          6.748740692822706,
          7.108877083912028,
          6.188262058979788,
          5.0691228180772585,
          6.09596174959249,
          5.556059799419696,
          6.849009526145803,
          6.744321303835726,
          4.404496007311843,
          6.40445753386143,
          7.0163095355403104,
          5.073379722070552,
          7.568186920672628,
          7.086112424629889,
          6.2875693670696,
          8.820237949695583,
          4.860833260779632,
          6.042728128250109,
          6.206133599168993,
          5.75409095081356,
          6.330984743421911,
          4.86799841651953,
          5.7676584103745565,
          5.846391722121231,
          7.538281065164371,
          6.2965276645221255,
          5.737071174602881,
          5.640704961579346,
          7.509418198744255,
          5.803284247834331,
          5.37583602991433,
          4.772547146777497,
          5.602192634431028,
          5.58791400651928,
          4.346564602161149,
          5.61101522373413,
          6.532466158996294,
          7.2580428222996645,
          5.192861093230701,
          6.548983778999271,
          6.403867658136951,
          5.610426341383914,
          5.854034843794279,
          5.4924838948179655,
          4.984343586311963,
          5.069319609870965,
          5.474374853788603,
          5.780672171855828,
          5.493538882061758,
          6.002048282441174,
          5.822403456749769,
          6.3750349159238375,
          5.326686835195849,
          6.157002034230367,
          5.788518754978692,
          6.553730809397702,
          6.952057792073974,
          7.003572407006387,
          5.637196856669667,
          7.343847538173016,
          6.015032448918682,
          6.505070303913127,
          5.444686758684175,
          5.180100101221122,
          5.513166776188137,
          4.108631016189383,
          6.345057213566444,
          6.1765777690960935,
          4.227450581999707,
          5.390790975182372,
          4.364882188739712,
          7.946053306301458,
          4.420348222352359,
          7.112902754990129,
          8.230160665634301,
          6.097473030271875,
          6.745503649194848,
          6.193830068878022,
          4.81510108174354,
          4.831633394793376,
          6.535443391159301,
          6.02935391428615,
          7.650268223307197,
          6.282981829484287,
          7.00120435244393,
          7.051558566025974,
          4.907457773162014,
          5.368366410848628,
          5.227298912002051,
          6.023527366319836,
          5.986869802594867,
          4.923727918495398,
          6.9313596618929285,
          5.804163682448505,
          9.003135699043042,
          6.621372765912287,
          7.718793327419283,
          6.729718436612178,
          7.75407549668877,
          5.594409107792176,
          5.42610838982385,
          6.671897360453047,
          6.201189077606799,
          5.772458533738588,
          5.129692434697993,
          3.369657373603147,
          6.053935206470859,
          5.881844864555348,
          6.946265962873534,
          7.095263407101282,
          5.8523115928117315,
          6.318509621863344,
          4.504382306694815,
          6.9897352948556755,
          6.685520983391971,
          6.520742257342339,
          6.323701493889919,
          4.987848058811677,
          6.7148180412692895,
          6.005125520591479,
          7.588134492631342,
          6.007728856360144,
          5.990102286181587,
          5.780288704992239,
          5.493099799301289,
          6.388163844493016,
          6.593212936133144,
          7.221990120568657,
          5.279446506666987,
          6.919037248968949,
          6.6203130596296385,
          6.5286385631573856,
          4.350723043976835,
          6.361878313862282,
          5.814960048213827,
          4.483030640054842,
          6.030484119088828,
          6.856130963553008,
          8.211765540640608,
          4.414338080248357,
          5.328403531872777,
          4.831359860463477,
          5.793409396546064
         ],
         "xaxis": "x",
         "y": [
          -7.356553581590187,
          -7.070866568853548,
          -8.072752342317752,
          -7.300933769889257,
          -7.325168891439437,
          -7.628046347841853,
          -6.847249810908342,
          -7.033503658346585,
          -8.091715923345797,
          -8.266066814070822,
          -7.191275079021205,
          -8.40056248208305,
          -6.582186788724931,
          -7.257779692687014,
          -7.00324978870002,
          -8.163404755771772,
          -6.541598069424046,
          -7.571936543498086,
          -8.3115228417086,
          -6.512971531646268,
          -7.7969506011237115,
          -6.744673203154038,
          -5.627504636406196,
          -7.19970020729991,
          -6.792286253584355,
          -9.23611964999522,
          -8.135420789014749,
          -7.331112634490793,
          -6.410077141063807,
          -7.116431063619788,
          -9.030705882807894,
          -8.261866650622506,
          -6.304608818336591,
          -6.225896229504382,
          -7.364819041221577,
          -7.05253562258191,
          -5.896146399827334,
          -7.725750438070499,
          -6.66731432773752,
          -6.92514746399297,
          -8.175001232545672,
          -7.809331958596491,
          -4.866189493555076,
          -7.405140054459085,
          -8.050641939119744,
          -6.767320163902383,
          -8.294295437254847,
          -7.023746732932738,
          -7.17711701962399,
          -6.499697482194116,
          -7.515122943563885,
          -7.543416064638947,
          -4.72738203298358,
          -7.782270825034849,
          -7.38340992456161,
          -7.54013975009282,
          -6.2625423856207405,
          -9.261713191753687,
          -5.553464331225426,
          -5.5189657791015,
          -8.19927883337654,
          -7.386519994324995,
          -7.728834876636058,
          -7.203007158904792,
          -8.190839474961829,
          -7.250551863028228,
          -6.755237080822396,
          -6.982878904642031,
          -6.757597350699177,
          -8.696287610998407,
          -7.722478689065327,
          -6.121007459370823,
          -6.498904174345842,
          -6.907478947702856,
          -6.425024859124116,
          -7.542636606521607,
          -5.71845933464154,
          -7.155805773340508,
          -7.205734433462823,
          -7.062922727470932,
          -6.57913216353263,
          -7.023827610810104,
          -7.186832664528875,
          -7.865726701760658,
          -6.471107087223868,
          -7.340682433097319,
          -7.069769621724863,
          -6.034050724354268,
          -7.290905358233669,
          -8.360341677948592,
          -8.292337442004408,
          -6.056186724909715,
          -8.124272753572082,
          -7.154069670049367,
          -6.310606423665105,
          -5.976869835142542,
          -7.5850656173986675,
          -5.955784996598248,
          -7.956372674412126,
          -6.763607417947517,
          -7.007938552553956,
          -9.512497062775076,
          -5.532549693044231,
          -6.812678264886169,
          -8.386080395749373,
          -6.664977125745845,
          -6.77921683813838,
          -7.278117087281043,
          -7.621660162351485,
          -7.053672448244955,
          -9.195256024822356,
          -8.336979550155723,
          -6.421977094624136,
          -8.176065810648057,
          -6.844202921097999,
          -7.312958521739359,
          -7.961153777905284,
          -9.988745166256656,
          -7.259891846687318,
          -7.814560998914952,
          -7.852320255785802,
          -7.547719047269242,
          -7.195222154978075,
          -7.785868529233084,
          -5.828009287988083,
          -6.339729844513672,
          -8.497005545545747,
          -7.242555578306203,
          -8.51002088827899,
          -7.526131397923473,
          -7.225879891103968,
          -7.013964824384832,
          -7.0983719896740345,
          -7.145848059004242,
          -5.985296748691073,
          -7.4891065682354645,
          -7.091860826861791,
          -8.000996432691363,
          -7.708807552930147,
          -7.995969545614117,
          -6.532496995201404,
          -8.041921439603518,
          -7.088939376253387,
          -6.6302066857790365,
          -8.275558115598526,
          -7.56180803700234,
          -7.155595312243909,
          -6.490689321855606,
          -6.310703158326698,
          -6.916893782227995,
          -8.267392663703024,
          -7.1735334605678185,
          -7.085290720958502,
          -7.554379471245792,
          -6.882119139250104,
          -7.947336115533551,
          -6.5944901043486865,
          -7.888401292617211,
          -7.319106500328666,
          -5.087969332934023,
          -8.261374940778875,
          -8.093650640463997,
          -7.117188540751144,
          -6.207988420652738,
          -7.01579588420719,
          -8.511238631414857,
          -6.861909989175266,
          -7.321291063724416,
          -7.774916580641449,
          -8.73794506590851,
          -7.092998884912671,
          -8.852929076193382,
          -7.245977803084502,
          -7.541366409017175,
          -6.4113432348351544,
          -8.76978822850921,
          -8.35341152958847,
          -6.7050622159459605,
          -7.132611258466068,
          -6.172689511559601,
          -8.550688700306354,
          -7.23620642288057,
          -6.9852904901092945,
          -9.166669842310366,
          -5.889886021132603,
          -6.418724935519536,
          -6.721893499975993,
          -6.676594159434313,
          -7.807784528932047,
          -7.73437665019418,
          -7.586961169843545,
          -7.168727739599797,
          -8.328135841324103,
          -7.531523410662962,
          -7.213270550775989,
          -8.31618644104006,
          -7.655673753046007,
          -8.611603509366411,
          -7.209798108553609,
          -7.309256871158584,
          -7.4588131864276725,
          -10.714139838705677,
          -6.23283601613922,
          -6.059765543480258,
          -9.122999386137495,
          -7.508532072198849,
          -6.609671926895986,
          -7.901865095571003,
          -7.1397516405953025,
          -7.13782854728364,
          -7.974135397365303,
          -7.568530266729382,
          -7.618432893726627,
          -6.07707017908219,
          -6.29579539044836,
          -7.506729721695979,
          -7.288171415133228,
          -7.409306548260513,
          -8.270940533045412,
          -9.626061191652214,
          -6.601083202851723,
          -7.560742187199787,
          -6.9476651178172295,
          -6.334018721788646,
          -7.410057279683175,
          -7.861627661575422,
          -8.697537107239821,
          -7.217185745442034,
          -7.178771405201625,
          -6.85454306404835,
          -8.620010779050105,
          -6.45130277573751,
          -9.419648397564618,
          -7.268329958149223,
          -7.894162497976618,
          -6.311440029720488,
          -7.8482282279717985,
          -5.208789242538135,
          -5.757712233698362,
          -6.950912092825635,
          -7.352916806148341,
          -7.198058839193704,
          -8.745986705421554,
          -7.349975636990787,
          -8.610585144420217,
          -6.01279512301312,
          -7.9435574961015805,
          -7.5613709605313435,
          -7.493081999401063,
          -6.467447194233748,
          -6.0513482762516855,
          -6.143361576696533,
          -7.3484755910501836,
          -6.26654549751194,
          -6.951804057588197,
          -6.447463626291227,
          -5.095201433850974,
          -5.913026956970798,
          -5.928107619522584,
          -7.926817786516058,
          -6.910062412459759,
          -8.311921570369734,
          -7.786861185987974,
          -8.175868725034292,
          -6.434607342736519,
          -6.338231233810972,
          -7.125673315204247,
          -7.890177354758278,
          -6.159967434522751,
          -6.294011171248373,
          -7.742841201636604,
          -7.899285714183021,
          -7.489828744996742,
          -7.394902469644265,
          -7.911043439557347,
          -8.308560818422123,
          -8.373282293717924,
          -6.433113716664614,
          -7.942019602260968,
          -6.210988917671203,
          -7.561605509207611,
          -7.794817120411582,
          -6.498738501868465,
          -7.347236473471644,
          -7.007114332975902,
          -7.682984302726892,
          -7.953728372119812,
          -8.663414226616762,
          -7.640779173540541,
          -8.329032159611284,
          -7.4567555774854934,
          -9.59111264520378,
          -7.822316516049918,
          -4.8271792061581795,
          -8.001705155565395,
          -9.032644466303186,
          -8.197085591548076,
          -7.705953091347768,
          -8.162026445652579,
          -7.318384121793732,
          -7.343747929342645,
          -5.993407243251518,
          -5.601479762867872,
          -5.029257583707274,
          -7.005311355581542,
          -6.788008833022219,
          -5.938314481430119,
          -7.535954085668335,
          -8.447191370101613,
          -8.93267525474669,
          -7.095406026570455,
          -7.86517397157927,
          -7.353089222475884,
          -8.951708105142314,
          -6.408891300847603,
          -7.3255652829799764,
          -7.251672593015202,
          -6.409645736062855,
          -7.843070985890124,
          -5.0542889973807945,
          -6.843286670408599,
          -8.135157411687345,
          -6.963748346921476,
          -7.841798868875726,
          -6.96590637868789,
          -8.251709930159288,
          -8.274081107474357,
          -7.866992235243227,
          -8.197401087641353,
          -6.49414198750861,
          -8.365195478257624,
          -8.47737937678308,
          -7.208064144689969,
          -9.128152550013649,
          -7.085333651315431,
          -7.321816432356199,
          -6.181942458032388,
          -9.771777189150095,
          -6.0168283551840425,
          -8.560406271771944,
          -7.777002953908964,
          -6.747839753247546,
          -7.04882602741603,
          -5.019405483702929,
          -7.057951730014152,
          -7.365458740133196,
          -6.671067714053728,
          -8.502413739609738,
          -6.279412192101385,
          -7.976949097001252,
          -6.288200644046196,
          -7.21987245595045,
          -7.490702370370586,
          -7.522466530284009,
          -8.038694844678684,
          -5.7302750613208735,
          -6.341524140286509,
          -6.41595738293398,
          -8.370296948716968,
          -6.730902671325856,
          -7.477703851789913,
          -7.954939084221001,
          -6.059246378177592,
          -8.231119279984672,
          -7.52801903985963,
          -7.607747510127832,
          -6.77633677645469,
          -6.1650422210198155,
          -6.7316108461421065,
          -7.323537179745132,
          -8.996575884375423,
          -7.418727400037931,
          -9.1625730614812,
          -7.721617096301177,
          -7.460730432344889,
          -7.5425299927824145,
          -8.538543004690357,
          -8.04259072868827,
          -7.546954400010765,
          -5.513657447279822,
          -6.620153714542883,
          -7.937121151931466,
          -6.172629955614186,
          -8.58693995380634,
          -8.491902057816102,
          -8.062446899738541,
          -8.036736481647601,
          -7.109148271821276,
          -7.962635105786492,
          -8.28273310781881,
          -6.564680538883832,
          -6.867444863731485,
          -6.23135839445275,
          -8.467631407238574,
          -7.048941170755975,
          -7.261249284449723,
          -5.69428979936742,
          -8.295011971506389,
          -6.308070372583396,
          -7.223085798251842,
          -8.354264865349922,
          -7.816478260915743,
          -6.744784599765265,
          -8.377895278518231,
          -5.997801438778725,
          22.48831541919271,
          22.78279174890657,
          23.27848940796735,
          21.1733693927073,
          22.697019827984295,
          21.537753591499083,
          22.34307730061099,
          22.003020698526058,
          23.269858257585376,
          21.601589055491516,
          22.44194615713568,
          21.642270538811722,
          20.073804102066976,
          23.168919457047366,
          22.89104494824033,
          21.696562926811602,
          22.12307274312314,
          22.682925771127557,
          22.926378677219816,
          23.21094930656154,
          24.96360247108172,
          21.61250699494307,
          21.925982878758617,
          22.439754949418752,
          22.001639080318085,
          19.620409286757234,
          21.60961576155014,
          22.328737846040276,
          21.934959163943173,
          22.490691035022028,
          21.350974915723036,
          22.575907429722097,
          22.933043589515822,
          20.62401905463028,
          21.041827352083,
          25.688903532895296,
          23.203270428590912,
          21.59226080631532,
          22.364573067615574,
          21.96587787557844,
          23.860147848607603,
          21.287252124790502,
          20.553761151823398,
          23.67699104159032,
          22.52908948472097,
          21.95051203582706,
          22.729879480587233,
          21.36414065823902,
          22.428735130578072,
          20.90044777272038,
          21.95448039956479,
          22.64211001622139,
          22.190803719896525,
          22.838961141276254,
          22.637881897289738,
          21.543873418728776,
          21.486253612994172,
          24.284257055158168,
          22.607112234018114,
          22.387404786400094,
          21.62148188828359,
          24.508666795442654,
          23.319038114577346,
          22.618084759011406,
          23.157480650304873,
          20.111704787914714,
          22.545762627592683,
          21.463537033427222,
          22.56289252530184,
          23.399391449836006,
          23.58307147792175,
          22.77709187934662,
          22.318745480539864,
          22.652873595987657,
          21.644785013824343,
          22.57968053349947,
          20.972918756033994,
          21.898144154179686,
          21.49054340249922,
          20.576973659686022,
          23.329861317389543,
          23.120324975196397,
          22.187687715765477,
          23.072686937079542,
          23.149928795929007,
          23.273541293797706,
          24.722372416658203,
          22.072572575532096,
          22.86423387609239,
          20.74728166037491,
          20.927998111447778,
          23.446596144540116,
          21.426478896565953,
          23.494474048585772,
          22.74707467561131,
          20.66510626336105,
          21.916986772858913,
          21.94422461455657,
          23.824661186328,
          23.19693040853751,
          21.713859046871487,
          20.68760490899002,
          20.99488886902749,
          21.75436578480611,
          22.23954231035247,
          21.87839316574101,
          22.78124366170631,
          23.23957154549018,
          23.620621411318258,
          21.93352181738529,
          22.95443705195937,
          22.591137870262877,
          23.617356092410454,
          21.31691128156007,
          22.273924502407247,
          22.924921503761542,
          21.44360630046007,
          22.68953605251752,
          22.966233125033092,
          23.244273078185334,
          23.33773116698678,
          23.02772009261707,
          22.05964625286829,
          24.240123820064994,
          23.48791014119048,
          22.083965698043144,
          22.421192189324568,
          21.183032279050575,
          21.3169368812984,
          23.647502786139285,
          23.782833499162486,
          21.16682276026288,
          21.18111424075619,
          22.870736808654065,
          22.620722298869207,
          22.878173669310115,
          23.647441135784405,
          21.10062898979733,
          22.590143623451457,
          23.00544812362927,
          23.730068905745973,
          21.561458272279534,
          24.100384114964676,
          21.59307923767055,
          23.479413531043264,
          23.079967276961945,
          25.16055255930465,
          21.14256538481752,
          22.08804551604501,
          21.35284048060662,
          22.6024309198862,
          23.26990868171115,
          21.575730683242654,
          23.713710239937164,
          21.969546525604894,
          22.85972134602764,
          21.724719402495285,
          22.59368875269633,
          23.61137483986806,
          21.80261841979474,
          23.3573963402512,
          22.166894832178407,
          21.16162999252508,
          19.223516591104175,
          23.14154390166539,
          22.92824228012187,
          24.521237944090352,
          23.58082325730551,
          23.70591277694228,
          21.72515946637838,
          22.849677936328824,
          21.95679302785081,
          21.630178897268063,
          22.566786580503152,
          22.311382484370014,
          22.95188691352285,
          22.46406801427818,
          23.148266316211128,
          22.96609693688209,
          23.224335557125496,
          20.21081984054396,
          23.34678153350773,
          23.233279316666003,
          23.620585193181725,
          23.621916493823235,
          21.09543523697572,
          22.091664396427618,
          23.114496734728526,
          22.914299792927604,
          22.20895974233959,
          22.155134926948524,
          22.616735409788323,
          21.25076591227095,
          22.838625439764407,
          23.28244591102898,
          23.041672479498427,
          22.681695518038765,
          22.27570566175646,
          21.42226284357204,
          22.549999816263064,
          22.479113840460133,
          20.877803695286264,
          23.106492464659496,
          23.506820026636763,
          22.011001460625238,
          23.66731395191925,
          22.454313586317063,
          23.005932619320053,
          23.928371079688052,
          24.655402887557333,
          21.790451043217537,
          21.965812077468062,
          23.812035074003067,
          22.28953161590565,
          22.26977833881022,
          22.646820552641305,
          22.32403494432971,
          23.21891255089082,
          26.249678879078726,
          21.372364635148493,
          22.63797827968685,
          21.928299394310905,
          24.00611187529485,
          22.90680985890754,
          24.04318847560663,
          22.449572833007558,
          22.20544690298697,
          23.287710227761217,
          22.79607349695753,
          21.568965109987413,
          21.487606882698785,
          21.92224785681041,
          23.011484196470207,
          21.30055992807775,
          21.511338754345093,
          22.672758908961338,
          21.493566903817836,
          22.755351540592613,
          23.400337325478326,
          22.26848880366471,
          22.320255281263467,
          21.877700403838197,
          21.769366695369822,
          22.70126853760608,
          24.36593463350666,
          22.459511012857355,
          21.537743702398593,
          19.943968660075644,
          22.020518500998893,
          22.159683960580878,
          22.5436517829313,
          21.18719582115525,
          21.378170476371047,
          21.34612697323478,
          22.867371145562842,
          22.291825890014234,
          20.59405255383953,
          24.304700646525045,
          23.09527907362736,
          22.56369465713076,
          23.489913524700526,
          22.11529498303783,
          23.86318879074603,
          21.788264950254042,
          22.42512288552988,
          22.89539244141366,
          21.49025428071687,
          22.995942850720397,
          21.984459538452708,
          23.325024724266648,
          19.920655951570815,
          22.359551044086743,
          23.27603922819809,
          22.02614990343265,
          23.62896614236704,
          23.118295654068923,
          22.938206077946948,
          20.660347267465045,
          22.59725298434816,
          22.419894160236954,
          24.32996117162785,
          21.828661607209487,
          20.712213337272786,
          21.959659164303304,
          22.889928127244794,
          22.80051999044355,
          22.510007980192704,
          21.794767007155077,
          22.464460067510505,
          22.234293675216417,
          23.731307280628574,
          20.922312261497122,
          20.78364783764907,
          24.624383864134725,
          23.450190456930756,
          22.911000290107516,
          23.097412574641773,
          22.077430488593272,
          22.291930895539373,
          23.19193506579628,
          21.014961264336122,
          22.15474254648296,
          23.255029349423047,
          20.9045527875839,
          24.128045149252817,
          20.75746546120801,
          21.61809042841386,
          23.453725728205786,
          24.208592021756942,
          23.888024807212307,
          21.661173128343517,
          22.31709557493643,
          22.345138094163637,
          21.095288653251274,
          22.80685436708557,
          23.69718945752176,
          21.653758394952195,
          22.122438915605382,
          22.419525377069153,
          22.458232602277565,
          21.87939758179652,
          21.856100876027494,
          23.23712383636221,
          22.80042572605737,
          22.4213936526071,
          23.66858476436208,
          22.69133459858005,
          21.530788970056676,
          20.581529131726644,
          20.7589072048728,
          21.412236278587528,
          22.79758177646058,
          23.779612943383224,
          22.84531293964594,
          22.906983170031154,
          22.45412622268718,
          22.647161750086212,
          19.985239240546292,
          23.269873920079878,
          20.98075367087917,
          23.730817612719104,
          23.412151329165358,
          22.334669726430935,
          24.778416449530233,
          20.287457852929556,
          23.510761666734073,
          22.8048539089296,
          21.392551315071437,
          22.662602444649202,
          24.13143555122674,
          22.641083910617198,
          22.259721057294872,
          21.68913864488318,
          21.860555762345804,
          21.522078921676627,
          23.79859076590535,
          22.33794394879721,
          21.67560853846798,
          23.344328411749967,
          21.484319657075307,
          23.1935610405172,
          22.73472258913785,
          23.05860058838632,
          24.136073308763763,
          22.39314331043517,
          22.29329185989921,
          21.45518645968706,
          22.840431650064197,
          22.865407505398085,
          22.96357159125254,
          23.773990974453067,
          21.785665370209927,
          21.6855235667492,
          22.64425756330624,
          22.665383058714916,
          22.02907175158027,
          22.870724889724233,
          24.09707044089026,
          22.476465435794495,
          21.038274585522768,
          23.39702292685902,
          21.897266961605425,
          24.078832573593246,
          22.71488792214179,
          23.545554139107686,
          22.872297308266944,
          23.09062824777414,
          21.59965685112292,
          21.84091264945018,
          21.7657088875273,
          24.387985328539877,
          21.388365037473665,
          20.92341354574888,
          22.493899426990676,
          20.973672144910037,
          23.5815771319581,
          21.163092889595944,
          23.088728779632326,
          21.53879240833375,
          22.568332860253783,
          22.528584985566212,
          19.798275055075475,
          24.260123391396192,
          24.46725324132454,
          21.677102403679005,
          23.865078319107614,
          23.582923493645986,
          24.0597369371368,
          23.706231064017608,
          22.639368882000216,
          22.15836345269256,
          23.223416907210957,
          21.24118482017264,
          23.36816505297412,
          22.84308444853552,
          22.84051093948848,
          22.667118698131063,
          22.044131473259238,
          23.163285931313684,
          22.239042200269935,
          23.282693920507157,
          23.43370083369825,
          20.42718214175519,
          22.116485655304754,
          22.489091069583385,
          22.20926208938889,
          22.709480061260944,
          21.996051541244736,
          21.44263458373436,
          22.549505717992375,
          21.31137387399373,
          21.463388081158143,
          22.214206001232224,
          23.07220364516714,
          23.363193056224283,
          22.00676733116029,
          24.993906040348786,
          23.391392596302627,
          21.803485316558515,
          22.526542245532507,
          21.115618241549296,
          22.56532198220403,
          23.90554422901737,
          22.615762692704333,
          23.77206722746329,
          22.585273828742537,
          21.932638547758987,
          21.367983880295935,
          21.97678989272336,
          22.853550358586688,
          23.418026651117533,
          22.369878662935783,
          22.779090888257358,
          23.814469533942624,
          22.370457900034506,
          21.37883973450607,
          20.87486561167186,
          21.97074774920061,
          23.922950013178617,
          22.693893709181562,
          20.933386225162153,
          22.051478085645286,
          23.01224699760305,
          23.351282940042395,
          20.86679280393977,
          23.60143047604575,
          23.633980682169828,
          19.884977035002684,
          22.36269499720878,
          22.14928091329676,
          19.3917945068082,
          22.14424128606607,
          21.868726746474625,
          22.691119021659222,
          22.52273485015065,
          20.650782328322155
         ],
         "yaxis": "y"
        }
       ],
       "layout": {
        "legend": {
         "title": {
          "text": "particle_state"
         },
         "tracegroupgap": 0
        },
        "margin": {
         "t": 60
        },
        "template": {
         "data": {
          "bar": [
           {
            "error_x": {
             "color": "#2a3f5f"
            },
            "error_y": {
             "color": "#2a3f5f"
            },
            "marker": {
             "line": {
              "color": "#E5ECF6",
              "width": 0.5
             },
             "pattern": {
              "fillmode": "overlay",
              "size": 10,
              "solidity": 0.2
             }
            },
            "type": "bar"
           }
          ],
          "barpolar": [
           {
            "marker": {
             "line": {
              "color": "#E5ECF6",
              "width": 0.5
             },
             "pattern": {
              "fillmode": "overlay",
              "size": 10,
              "solidity": 0.2
             }
            },
            "type": "barpolar"
           }
          ],
          "carpet": [
           {
            "aaxis": {
             "endlinecolor": "#2a3f5f",
             "gridcolor": "white",
             "linecolor": "white",
             "minorgridcolor": "white",
             "startlinecolor": "#2a3f5f"
            },
            "baxis": {
             "endlinecolor": "#2a3f5f",
             "gridcolor": "white",
             "linecolor": "white",
             "minorgridcolor": "white",
             "startlinecolor": "#2a3f5f"
            },
            "type": "carpet"
           }
          ],
          "choropleth": [
           {
            "colorbar": {
             "outlinewidth": 0,
             "ticks": ""
            },
            "type": "choropleth"
           }
          ],
          "contour": [
           {
            "colorbar": {
             "outlinewidth": 0,
             "ticks": ""
            },
            "colorscale": [
             [
              0,
              "#0d0887"
             ],
             [
              0.1111111111111111,
              "#46039f"
             ],
             [
              0.2222222222222222,
              "#7201a8"
             ],
             [
              0.3333333333333333,
              "#9c179e"
             ],
             [
              0.4444444444444444,
              "#bd3786"
             ],
             [
              0.5555555555555556,
              "#d8576b"
             ],
             [
              0.6666666666666666,
              "#ed7953"
             ],
             [
              0.7777777777777778,
              "#fb9f3a"
             ],
             [
              0.8888888888888888,
              "#fdca26"
             ],
             [
              1,
              "#f0f921"
             ]
            ],
            "type": "contour"
           }
          ],
          "contourcarpet": [
           {
            "colorbar": {
             "outlinewidth": 0,
             "ticks": ""
            },
            "type": "contourcarpet"
           }
          ],
          "heatmap": [
           {
            "colorbar": {
             "outlinewidth": 0,
             "ticks": ""
            },
            "colorscale": [
             [
              0,
              "#0d0887"
             ],
             [
              0.1111111111111111,
              "#46039f"
             ],
             [
              0.2222222222222222,
              "#7201a8"
             ],
             [
              0.3333333333333333,
              "#9c179e"
             ],
             [
              0.4444444444444444,
              "#bd3786"
             ],
             [
              0.5555555555555556,
              "#d8576b"
             ],
             [
              0.6666666666666666,
              "#ed7953"
             ],
             [
              0.7777777777777778,
              "#fb9f3a"
             ],
             [
              0.8888888888888888,
              "#fdca26"
             ],
             [
              1,
              "#f0f921"
             ]
            ],
            "type": "heatmap"
           }
          ],
          "heatmapgl": [
           {
            "colorbar": {
             "outlinewidth": 0,
             "ticks": ""
            },
            "colorscale": [
             [
              0,
              "#0d0887"
             ],
             [
              0.1111111111111111,
              "#46039f"
             ],
             [
              0.2222222222222222,
              "#7201a8"
             ],
             [
              0.3333333333333333,
              "#9c179e"
             ],
             [
              0.4444444444444444,
              "#bd3786"
             ],
             [
              0.5555555555555556,
              "#d8576b"
             ],
             [
              0.6666666666666666,
              "#ed7953"
             ],
             [
              0.7777777777777778,
              "#fb9f3a"
             ],
             [
              0.8888888888888888,
              "#fdca26"
             ],
             [
              1,
              "#f0f921"
             ]
            ],
            "type": "heatmapgl"
           }
          ],
          "histogram": [
           {
            "marker": {
             "pattern": {
              "fillmode": "overlay",
              "size": 10,
              "solidity": 0.2
             }
            },
            "type": "histogram"
           }
          ],
          "histogram2d": [
           {
            "colorbar": {
             "outlinewidth": 0,
             "ticks": ""
            },
            "colorscale": [
             [
              0,
              "#0d0887"
             ],
             [
              0.1111111111111111,
              "#46039f"
             ],
             [
              0.2222222222222222,
              "#7201a8"
             ],
             [
              0.3333333333333333,
              "#9c179e"
             ],
             [
              0.4444444444444444,
              "#bd3786"
             ],
             [
              0.5555555555555556,
              "#d8576b"
             ],
             [
              0.6666666666666666,
              "#ed7953"
             ],
             [
              0.7777777777777778,
              "#fb9f3a"
             ],
             [
              0.8888888888888888,
              "#fdca26"
             ],
             [
              1,
              "#f0f921"
             ]
            ],
            "type": "histogram2d"
           }
          ],
          "histogram2dcontour": [
           {
            "colorbar": {
             "outlinewidth": 0,
             "ticks": ""
            },
            "colorscale": [
             [
              0,
              "#0d0887"
             ],
             [
              0.1111111111111111,
              "#46039f"
             ],
             [
              0.2222222222222222,
              "#7201a8"
             ],
             [
              0.3333333333333333,
              "#9c179e"
             ],
             [
              0.4444444444444444,
              "#bd3786"
             ],
             [
              0.5555555555555556,
              "#d8576b"
             ],
             [
              0.6666666666666666,
              "#ed7953"
             ],
             [
              0.7777777777777778,
              "#fb9f3a"
             ],
             [
              0.8888888888888888,
              "#fdca26"
             ],
             [
              1,
              "#f0f921"
             ]
            ],
            "type": "histogram2dcontour"
           }
          ],
          "mesh3d": [
           {
            "colorbar": {
             "outlinewidth": 0,
             "ticks": ""
            },
            "type": "mesh3d"
           }
          ],
          "parcoords": [
           {
            "line": {
             "colorbar": {
              "outlinewidth": 0,
              "ticks": ""
             }
            },
            "type": "parcoords"
           }
          ],
          "pie": [
           {
            "automargin": true,
            "type": "pie"
           }
          ],
          "scatter": [
           {
            "fillpattern": {
             "fillmode": "overlay",
             "size": 10,
             "solidity": 0.2
            },
            "type": "scatter"
           }
          ],
          "scatter3d": [
           {
            "line": {
             "colorbar": {
              "outlinewidth": 0,
              "ticks": ""
             }
            },
            "marker": {
             "colorbar": {
              "outlinewidth": 0,
              "ticks": ""
             }
            },
            "type": "scatter3d"
           }
          ],
          "scattercarpet": [
           {
            "marker": {
             "colorbar": {
              "outlinewidth": 0,
              "ticks": ""
             }
            },
            "type": "scattercarpet"
           }
          ],
          "scattergeo": [
           {
            "marker": {
             "colorbar": {
              "outlinewidth": 0,
              "ticks": ""
             }
            },
            "type": "scattergeo"
           }
          ],
          "scattergl": [
           {
            "marker": {
             "colorbar": {
              "outlinewidth": 0,
              "ticks": ""
             }
            },
            "type": "scattergl"
           }
          ],
          "scattermapbox": [
           {
            "marker": {
             "colorbar": {
              "outlinewidth": 0,
              "ticks": ""
             }
            },
            "type": "scattermapbox"
           }
          ],
          "scatterpolar": [
           {
            "marker": {
             "colorbar": {
              "outlinewidth": 0,
              "ticks": ""
             }
            },
            "type": "scatterpolar"
           }
          ],
          "scatterpolargl": [
           {
            "marker": {
             "colorbar": {
              "outlinewidth": 0,
              "ticks": ""
             }
            },
            "type": "scatterpolargl"
           }
          ],
          "scatterternary": [
           {
            "marker": {
             "colorbar": {
              "outlinewidth": 0,
              "ticks": ""
             }
            },
            "type": "scatterternary"
           }
          ],
          "surface": [
           {
            "colorbar": {
             "outlinewidth": 0,
             "ticks": ""
            },
            "colorscale": [
             [
              0,
              "#0d0887"
             ],
             [
              0.1111111111111111,
              "#46039f"
             ],
             [
              0.2222222222222222,
              "#7201a8"
             ],
             [
              0.3333333333333333,
              "#9c179e"
             ],
             [
              0.4444444444444444,
              "#bd3786"
             ],
             [
              0.5555555555555556,
              "#d8576b"
             ],
             [
              0.6666666666666666,
              "#ed7953"
             ],
             [
              0.7777777777777778,
              "#fb9f3a"
             ],
             [
              0.8888888888888888,
              "#fdca26"
             ],
             [
              1,
              "#f0f921"
             ]
            ],
            "type": "surface"
           }
          ],
          "table": [
           {
            "cells": {
             "fill": {
              "color": "#EBF0F8"
             },
             "line": {
              "color": "white"
             }
            },
            "header": {
             "fill": {
              "color": "#C8D4E3"
             },
             "line": {
              "color": "white"
             }
            },
            "type": "table"
           }
          ]
         },
         "layout": {
          "annotationdefaults": {
           "arrowcolor": "#2a3f5f",
           "arrowhead": 0,
           "arrowwidth": 1
          },
          "autotypenumbers": "strict",
          "coloraxis": {
           "colorbar": {
            "outlinewidth": 0,
            "ticks": ""
           }
          },
          "colorscale": {
           "diverging": [
            [
             0,
             "#8e0152"
            ],
            [
             0.1,
             "#c51b7d"
            ],
            [
             0.2,
             "#de77ae"
            ],
            [
             0.3,
             "#f1b6da"
            ],
            [
             0.4,
             "#fde0ef"
            ],
            [
             0.5,
             "#f7f7f7"
            ],
            [
             0.6,
             "#e6f5d0"
            ],
            [
             0.7,
             "#b8e186"
            ],
            [
             0.8,
             "#7fbc41"
            ],
            [
             0.9,
             "#4d9221"
            ],
            [
             1,
             "#276419"
            ]
           ],
           "sequential": [
            [
             0,
             "#0d0887"
            ],
            [
             0.1111111111111111,
             "#46039f"
            ],
            [
             0.2222222222222222,
             "#7201a8"
            ],
            [
             0.3333333333333333,
             "#9c179e"
            ],
            [
             0.4444444444444444,
             "#bd3786"
            ],
            [
             0.5555555555555556,
             "#d8576b"
            ],
            [
             0.6666666666666666,
             "#ed7953"
            ],
            [
             0.7777777777777778,
             "#fb9f3a"
            ],
            [
             0.8888888888888888,
             "#fdca26"
            ],
            [
             1,
             "#f0f921"
            ]
           ],
           "sequentialminus": [
            [
             0,
             "#0d0887"
            ],
            [
             0.1111111111111111,
             "#46039f"
            ],
            [
             0.2222222222222222,
             "#7201a8"
            ],
            [
             0.3333333333333333,
             "#9c179e"
            ],
            [
             0.4444444444444444,
             "#bd3786"
            ],
            [
             0.5555555555555556,
             "#d8576b"
            ],
            [
             0.6666666666666666,
             "#ed7953"
            ],
            [
             0.7777777777777778,
             "#fb9f3a"
            ],
            [
             0.8888888888888888,
             "#fdca26"
            ],
            [
             1,
             "#f0f921"
            ]
           ]
          },
          "colorway": [
           "#636efa",
           "#EF553B",
           "#00cc96",
           "#ab63fa",
           "#FFA15A",
           "#19d3f3",
           "#FF6692",
           "#B6E880",
           "#FF97FF",
           "#FECB52"
          ],
          "font": {
           "color": "#2a3f5f"
          },
          "geo": {
           "bgcolor": "white",
           "lakecolor": "white",
           "landcolor": "#E5ECF6",
           "showlakes": true,
           "showland": true,
           "subunitcolor": "white"
          },
          "hoverlabel": {
           "align": "left"
          },
          "hovermode": "closest",
          "mapbox": {
           "style": "light"
          },
          "paper_bgcolor": "white",
          "plot_bgcolor": "#E5ECF6",
          "polar": {
           "angularaxis": {
            "gridcolor": "white",
            "linecolor": "white",
            "ticks": ""
           },
           "bgcolor": "#E5ECF6",
           "radialaxis": {
            "gridcolor": "white",
            "linecolor": "white",
            "ticks": ""
           }
          },
          "scene": {
           "xaxis": {
            "backgroundcolor": "#E5ECF6",
            "gridcolor": "white",
            "gridwidth": 2,
            "linecolor": "white",
            "showbackground": true,
            "ticks": "",
            "zerolinecolor": "white"
           },
           "yaxis": {
            "backgroundcolor": "#E5ECF6",
            "gridcolor": "white",
            "gridwidth": 2,
            "linecolor": "white",
            "showbackground": true,
            "ticks": "",
            "zerolinecolor": "white"
           },
           "zaxis": {
            "backgroundcolor": "#E5ECF6",
            "gridcolor": "white",
            "gridwidth": 2,
            "linecolor": "white",
            "showbackground": true,
            "ticks": "",
            "zerolinecolor": "white"
           }
          },
          "shapedefaults": {
           "line": {
            "color": "#2a3f5f"
           }
          },
          "ternary": {
           "aaxis": {
            "gridcolor": "white",
            "linecolor": "white",
            "ticks": ""
           },
           "baxis": {
            "gridcolor": "white",
            "linecolor": "white",
            "ticks": ""
           },
           "bgcolor": "#E5ECF6",
           "caxis": {
            "gridcolor": "white",
            "linecolor": "white",
            "ticks": ""
           }
          },
          "title": {
           "x": 0.05
          },
          "xaxis": {
           "automargin": true,
           "gridcolor": "white",
           "linecolor": "white",
           "ticks": "",
           "title": {
            "standoff": 15
           },
           "zerolinecolor": "white",
           "zerolinewidth": 2
          },
          "yaxis": {
           "automargin": true,
           "gridcolor": "white",
           "linecolor": "white",
           "ticks": "",
           "title": {
            "standoff": 15
           },
           "zerolinecolor": "white",
           "zerolinewidth": 2
          }
         }
        },
        "xaxis": {
         "anchor": "y",
         "domain": [
          0,
          1
         ],
         "title": {
          "text": "x"
         }
        },
        "yaxis": {
         "anchor": "x",
         "domain": [
          0,
          1
         ],
         "scaleanchor": "x",
         "scaleratio": 1,
         "title": {
          "text": "y"
         }
        }
       }
      },
      "text/html": [
       "<div>                            <div id=\"57515f3a-8f4e-4048-b48d-6d03c1853b7e\" class=\"plotly-graph-div\" style=\"height:525px; width:100%;\"></div>            <script type=\"text/javascript\">                require([\"plotly\"], function(Plotly) {                    window.PLOTLYENV=window.PLOTLYENV || {};                                    if (document.getElementById(\"57515f3a-8f4e-4048-b48d-6d03c1853b7e\")) {                    Plotly.newPlot(                        \"57515f3a-8f4e-4048-b48d-6d03c1853b7e\",                        [{\"customdata\":[[0],[1],[2],[3],[409],[410],[411],[412],[413],[414],[415],[416],[417],[418],[419],[420],[421],[422],[423],[424],[425],[426],[427],[428],[429],[430],[431],[432],[433],[434],[435],[436],[437],[438],[439],[440],[441],[442],[443],[444],[445],[446],[447],[448],[449],[450],[451],[452],[453],[454],[455],[456],[457],[458],[459],[460],[461],[462],[463],[464],[465],[466],[467],[468],[469],[470],[471],[472],[473],[474],[475],[476],[477],[478],[479],[480],[481],[482],[483],[484],[485],[486],[487],[488],[489],[490],[491],[492],[493],[494],[495],[496],[497],[498],[499],[500],[501],[502],[503],[504],[505],[506],[507],[508],[509],[510],[511],[512],[513],[514],[515],[516],[517],[518],[519],[520],[521],[522],[523]],\"hovertemplate\":\"particle_state=0_0<br>x=%{x}<br>y=%{y}<br>frame=%{customdata[0]}<extra></extra>\",\"legendgroup\":\"0_0\",\"line\":{\"color\":\"#1F77B4\",\"dash\":\"solid\"},\"marker\":{\"symbol\":\"circle\"},\"mode\":\"lines\",\"name\":\"0_0\",\"orientation\":\"v\",\"showlegend\":true,\"x\":[0.0,-8.623866765849762,-12.452142721320564,-10.47565969279448,-10.78013074847231,-16.518159771491977,-22.564929204429458,-16.86648990136311,-16.635346521026836,-17.074639444034492,-23.56575804370585,-23.59582848522342,-23.372764828666877,-12.300634218644372,-14.683649418449074,-10.523544848284345,-14.918834763637332,-13.489112566823833,-16.08921705416904,-13.980439521844083,-15.969090856205977,-22.762853446922925,-10.889175207155354,-19.313943263931268,-20.05560119928457,-21.858266860381196,-21.5308850836078,-15.523103049987268,-20.479478472662166,-22.46422728289236,-13.64242226293119,-10.675173969190212,-14.285600672820296,-19.17817337918097,-19.775083945179297,-19.062892537923968,-27.365096007396076,-20.61937803634663,-22.769907608332375,-20.7067961639865,-21.95861554657764,-16.50577529617635,-20.372367528403164,-17.7406699696668,-21.83222190100208,-21.660498734253785,-24.86196234814739,-28.951575042555163,-26.135336494605838,-28.30228569261396,-23.98787674785757,-19.075896157191103,-22.971316480041708,-20.308344755810726,-21.12972155641979,-21.798990885424622,-23.55340388264077,-17.203679444987387,-10.366990143933549,-10.229971671563876,-11.842411675836988,-6.1520141121637355,-0.9286468759038069,-4.115871897868825,8.539187676366302,11.90130146979065,11.307268761867654,18.415228013467072,20.137022946282464,15.322495506770647,19.77013772908669,20.966123706959,12.185151133159234,13.387853914480832,12.984281710809668,12.14936830288258,10.123825226549375,10.09621953005021,8.78703295460635,10.063977758112168,9.996813051926036,10.80290122120886,4.989643407330349,3.01783439741366,-1.845663980985793,-3.6194421369659158,-12.874793882680065,-8.072596887694882,-10.508756697290234,-16.132196910542163,-10.637551494093536,-9.338557935899725,-4.990316932612875,3.3630366172805912,4.7430763841053265,-0.8972998692105945,6.964806639134349,-3.0165728449265528,-2.13243029576793,0.4737032461328772,-3.735406205817551,-4.537221611986592,-3.3431163984185797,2.2949208062548982,-7.065350731997226,-6.8739142643844175,1.9138819276462282,0.3041218574358069,8.658254580301284,7.763667720110062,0.8329147951142826,1.5600314035285079,8.927817520511478,7.97498924270465,9.319986652449463,7.303428707728348,9.040583919213631,2.8144343961740557,5.8742564856735475],\"xaxis\":\"x\",\"y\":[-0.0,0.8923916537493718,-5.546455522676609,-14.09183371215163,-6.324603060490018,-4.589951144078456,-1.9354931376823914,-2.6667261204436796,-0.43920692438004627,-9.858034263391431,-1.6390788918843668,-2.9499079829731576,1.2509462907961408,2.7796256807009785,1.4224130310285354,2.896820932838443,2.580191986995862,-4.215945318097694,1.430209583237902,4.4876922305059255,7.715993082307383,9.53659168600667,9.570464068839087,8.760183881150505,12.025838328759477,10.814166673624552,15.781995816191912,20.696535658130394,23.002365572902058,25.425634166064913,25.72131773557412,21.900941194728198,15.188920110490216,18.270308489547013,26.034967413436966,17.8226443616118,16.550861052528866,9.813395621760417,18.636177116909206,13.993775279002858,19.779121983883265,13.277334379889174,17.58704888314816,10.887355972684984,10.557103101254697,11.076198793725702,13.203786406901223,9.769517553228013,10.736612934105146,17.08701764398682,17.666884406815367,16.387645058054336,21.43307176452577,21.960215975703296,23.164804148885157,29.145896810523958,30.21304606454,18.999751158272296,19.40466828998839,20.168145989965762,24.194014715030132,19.871976342884253,11.584168464259655,12.134974683443382,9.913055903942807,14.125421603465458,13.41237943587402,3.159554215800574,6.622605523583758,17.707099312302546,20.95620497003259,14.949860425167047,16.675760767273946,14.290161160442517,16.58997562468949,15.425521816693774,6.329516872009691,13.060080822444561,6.364443191973643,11.390713850780585,18.175029474222967,19.71204930968464,23.36067511911847,25.736900416556402,26.754904498569374,20.285404797245473,22.043349498097175,15.898503307113671,18.37592282132914,19.188598656926622,14.553133408840491,20.5547950339252,18.71896211430653,24.980050289898657,16.972081046773233,23.20740353235784,22.010021993317157,24.261705006402124,25.83249782039115,30.057860822607683,32.599717576614296,36.919797212509316,38.027251458965424,34.60936828980377,31.12864458222951,26.193056395862627,19.061062016415804,24.13936515540675,26.372637437371182,20.00230769671101,24.761907277875537,29.50722601190533,24.23473095740169,19.618561571535665,24.5863839602561,19.20616028448401,19.96280020395703,21.001859082719676,21.44201837909156],\"yaxis\":\"y\",\"type\":\"scatter\"},{\"customdata\":[[4],[5],[6],[7],[8],[9],[10],[11],[12],[13],[14],[15],[16],[17],[18],[19],[20],[21],[22],[23],[24],[25],[26],[27],[28],[29],[30],[31],[32],[33],[34],[35],[36],[37],[38],[39],[40],[41],[42],[43],[44],[45],[46],[47],[48],[49],[50],[51],[52],[53],[54],[55],[56],[57],[58],[59],[60],[61],[62],[63],[64],[65],[66],[67],[68],[69],[70],[71],[72],[73],[74],[75],[76],[77],[78],[79],[80],[81],[82],[83],[84],[85],[86],[87],[88],[89],[90],[91],[92],[93],[94],[95],[96],[97],[98],[99],[100],[101],[102],[103],[104],[105],[106],[107],[108],[109],[110],[111],[112],[113],[114],[115],[116],[117],[118],[119],[120],[121],[122],[123],[124],[125],[126],[127],[128],[129],[130],[131],[132],[133],[134],[135],[136],[137],[138],[139],[140],[141],[142],[143],[144],[145],[146],[147],[148],[149],[150],[151],[152],[153],[154],[155],[156],[157],[158],[159],[160],[161],[162],[163],[164],[165],[166],[167],[168],[169],[170],[171],[172],[173],[174],[175],[176],[177],[178],[179],[180],[181],[182],[183],[184],[185],[186],[187],[188],[189],[190],[191],[192],[193],[194],[195],[196],[197],[198],[199],[200],[201],[202],[203],[204],[205],[206],[207],[208],[209],[210],[211],[212],[213],[214],[215],[216],[217],[218],[219],[220],[221],[222],[223],[224],[225],[226],[227],[228],[229],[230],[231],[232],[233],[234],[235],[236],[237],[238],[239],[240],[241],[242],[243],[244],[245],[246],[247],[248],[249],[250],[251],[252],[253],[254],[255],[256],[257],[258],[259],[260],[261],[262],[263],[264],[265],[266],[267],[268],[269],[270],[271],[272],[273],[274],[275],[276],[277],[278],[279],[280],[281],[282],[283],[284],[285],[286],[287],[288],[289],[290],[291],[292],[293],[294],[295],[296],[297],[298],[299],[300],[301],[302],[303],[304],[305],[306],[307],[308],[309],[310],[311],[312],[313],[314],[315],[316],[317],[318],[319],[320],[321],[322],[323],[324],[325],[326],[327],[328],[329],[330],[331],[332],[333],[334],[335],[336],[337],[338],[339],[340],[341],[342],[343],[344],[345],[346],[347],[348],[349],[350],[351],[352],[353],[354],[355],[356],[357],[358],[359],[360],[361],[362],[363],[364],[365],[366],[367],[368],[369],[370],[371],[372],[373],[374],[375],[376],[377],[378],[379],[380],[381],[382],[383],[384],[385],[386],[387],[388],[389],[390],[391],[392],[393],[394],[395],[396],[397],[398],[399],[400],[401],[402],[403],[404],[405],[406],[407],[408],[524],[525],[526],[527],[528],[529],[530],[531],[532],[533],[534],[535],[536],[537],[538],[539],[540],[541],[542],[543],[544],[545],[546],[547],[548],[549],[550],[551],[552],[553],[554],[555],[556],[557],[558],[559],[560],[561],[562],[563],[564],[565],[566],[567],[568],[569],[570],[571],[572],[573],[574],[575],[576],[577],[578],[579],[580],[581],[582],[583],[584],[585],[586],[587],[588],[589],[590],[591],[592],[593],[594],[595],[596],[597],[598],[599],[600],[601],[602],[603],[604],[605],[606],[607],[608],[609],[610],[611],[612],[613],[614],[615],[616],[617],[618],[619],[620],[621],[622],[623],[624],[625],[626],[627],[628],[629],[630],[631],[632],[633],[634],[635],[636],[637],[638],[639],[640],[641],[642],[643],[644],[645],[646],[647],[648],[649],[650],[651],[652],[653],[654],[655],[656],[657],[658],[659],[660],[661],[662],[663],[664],[665],[666],[667],[668],[669],[670],[671],[672],[673],[674],[675],[676],[677],[678],[679],[680],[681],[682],[683],[684],[685],[686],[687],[688],[689],[690],[691],[692],[693],[694],[695],[696],[697],[698],[699],[700],[701],[702],[703],[704],[705],[706],[707],[708],[709],[710],[711],[712],[713],[714],[715],[716],[717],[718],[719],[720],[721],[722],[723],[724],[725],[726],[727],[728],[729],[730],[731],[732],[733],[734],[735],[736],[737],[738],[739],[740],[741],[742],[743],[744],[745],[746],[747],[748],[749],[750],[751],[752],[753],[754],[755],[756],[757],[758],[759],[760],[761],[762],[763],[764],[765],[766],[767],[768],[769],[770],[771],[772],[773],[774],[775],[776],[777],[778],[779],[780],[781],[782],[783],[784],[785],[786],[787],[788],[789],[790],[791],[792],[793],[794],[795],[796],[797],[798],[799],[800],[801],[802],[803],[804],[805],[806],[807],[808],[809],[810],[811],[812],[813],[814],[815],[816],[817],[818],[819],[820],[821],[822],[823],[824],[825],[826],[827],[828],[829],[830],[831],[832],[833],[834],[835],[836],[837],[838],[839],[840],[841],[842],[843],[844],[845],[846],[847],[848],[849],[850],[851],[852],[853],[854],[855],[856],[857],[858],[859],[860],[861],[862],[863],[864],[865],[866],[867],[868],[869],[870],[871],[872],[873],[874],[875],[876],[877],[878],[879],[880],[881],[882],[883],[884],[885],[886],[887],[888],[889],[890],[891],[892],[893],[894],[895],[896],[897],[898],[899],[900],[901],[902],[903],[904],[905],[906],[907],[908],[909],[910],[911],[912],[913],[914],[915],[916],[917],[918],[919],[920],[921],[922],[923],[924],[925],[926],[927],[928],[929],[930],[931],[932],[933],[934],[935],[936],[937],[938],[939],[940],[941],[942],[943],[944],[945],[946],[947],[948],[949],[950],[951],[952],[953],[954],[955],[956],[957],[958],[959],[960],[961],[962],[963],[964],[965],[966],[967],[968],[969],[970],[971],[972],[973],[974],[975],[976],[977],[978],[979],[980],[981],[982],[983],[984],[985],[986],[987],[988],[989],[990],[991],[992],[993],[994],[995],[996],[997],[998],[999]],\"hovertemplate\":\"particle_state=0_1<br>x=%{x}<br>y=%{y}<br>frame=%{customdata[0]}<extra></extra>\",\"legendgroup\":\"0_1\",\"line\":{\"color\":\"#FF7F0E\",\"dash\":\"solid\"},\"marker\":{\"symbol\":\"circle\"},\"mode\":\"lines\",\"name\":\"0_1\",\"orientation\":\"v\",\"showlegend\":true,\"x\":[-9.278738868808963,-10.409376389174035,-8.579233019356282,-8.911430810182967,-9.39740972290778,-8.922527326602827,-10.062571619269004,-7.7400693028902605,-9.220393003834483,-9.858502705332215,-9.009762219221928,-10.234346810234527,-7.895558314461784,-10.432947718270995,-8.680740020569262,-10.023011827375067,-8.024691371910418,-8.960530072292348,-8.428262365676453,-9.013753941657805,-8.060939368559264,-8.648105951537277,-8.659067828541165,-9.038224813278639,-8.759882914642471,-11.190223371037682,-8.17668783880397,-9.664195264237074,-10.642587535437704,-8.239754827365076,-9.252070387292195,-7.0714418842145115,-9.500811866654406,-8.665549212251825,-9.569213382905039,-9.020578343643008,-7.727944479312357,-9.194371097339808,-8.904155495419275,-8.407855135730586,-8.55329850639817,-8.788830111657829,-8.849195042153136,-8.239053944607377,-11.139567265972646,-7.967348589517915,-10.58926821363606,-7.814400974778609,-9.9605664316862,-9.59707180682657,-9.529651691283066,-8.47819967619563,-10.730354048426012,-8.890592268606241,-8.932309720918358,-9.528928930601431,-8.859105071516405,-8.321857103571977,-10.029381696155074,-10.112904194313971,-10.27792008180254,-9.046838343378111,-9.937460266872304,-7.592932865741572,-10.7701428414847,-8.854559805171473,-8.354023890070266,-7.206307390589901,-9.376782005922808,-8.815510543396272,-9.8884943795227,-10.587634173941364,-10.01368745090309,-8.196154823550946,-8.922445978498924,-9.323537830951697,-9.070433022964039,-10.794446879985824,-9.12502761187563,-10.483205286394558,-7.838408389823514,-8.88353939047596,-10.618448283748545,-9.132293791775034,-10.863816123590446,-8.437789200504588,-7.516019776394604,-9.947367891932629,-10.318731388114282,-8.071250919686776,-10.932445834409334,-8.794704567746848,-9.789287538957279,-9.002999046566181,-7.017411026613921,-8.90673722293107,-8.182659090388078,-8.572413236565032,-7.412493019965832,-8.916041409231143,-8.857302183292767,-9.553048523176955,-8.903483586172841,-10.751339030043322,-10.036662367696733,-8.591245475686867,-8.920862552225529,-8.806758773033991,-9.97643567735669,-9.1425728935747,-8.073935701292191,-8.086900196164871,-9.062751142116225,-9.030566967089099,-10.456248095793208,-8.249064240282273,-9.036565484288252,-9.917752359427253,-9.89485696849993,-9.738106879425862,-8.994444603029853,-7.489202968950105,-8.666724948508827,-7.809380371280399,-11.45135116596493,-9.201754853472005,-9.22347846056521,-9.018371576438208,-8.902641115599994,-8.099330264178871,-9.544545545606596,-7.433527243692316,-8.7912302725122,-10.451369030627255,-9.749228568734571,-9.230059798900138,-9.666567867451672,-10.472802670160501,-10.557808011427014,-9.4468041635551,-10.199476235389145,-6.344444570071496,-7.979058842091183,-10.352023825632948,-10.642435337375485,-8.444066024107185,-9.262330321951023,-7.6296578853853525,-9.492959918562073,-9.211888498476629,-10.372952217841734,-9.695863258256598,-10.400703177528806,-9.453156086841615,-9.134927747016583,-8.585116434365295,-8.74961513297976,-9.361607545332088,-9.202507920321695,-10.416211563277795,-8.988971090623187,-9.954772408186031,-10.510409777711947,-8.6616108876569,-8.530714840574356,-8.329696934107686,-9.68381808398977,-8.89567267597688,-8.341706313315605,-8.529172491181537,-10.46661701568555,-9.02001197718079,-8.006867118753327,-7.813135157502057,-9.386830396992602,-9.32986493686907,-10.299060966456166,-9.961211265677074,-8.495435036484427,-8.706644817212853,-8.485926710155821,-9.50442182045153,-9.757693120432744,-9.587828955500942,-9.896420747637036,-8.019663973161702,-9.9736701991689,-9.610881099227246,-10.40131756897932,-9.071844763178188,-10.15196552671318,-9.231314595251089,-9.732644176113965,-9.614739830258046,-10.534051472030788,-9.314596596143529,-8.40316124147376,-11.195654249876469,-8.732269561239798,-9.60633676935822,-9.016407138507443,-8.313302313106162,-10.927001698411653,-10.659033295654213,-10.271662131859681,-9.358327631041817,-9.905903090350876,-10.195145896453903,-9.223525845730304,-7.708305515366488,-9.05599565593371,-9.75215964156317,-8.46241482619489,-10.364624997571978,-10.402344387033324,-8.833685444935442,-10.648567136304525,-9.80831489545345,-9.10958230825439,-9.330685574747971,-10.750096212037402,-9.422156433351697,-8.244565109655666,-9.906080837120586,-8.659067635846693,-7.9650454370150205,-8.618869410526619,-8.986301344426865,-9.617500682546849,-10.139518169406752,-10.1191620158807,-9.975802834399705,-8.702293483602041,-9.61234105276384,-10.20615508727836,-10.033762603081652,-8.549919852524784,-10.618139834590949,-10.912343077158047,-9.967026799881856,-8.851794799058345,-11.323774033846387,-8.221833377397326,-9.595050103613925,-10.001151103310846,-8.67433539031962,-8.625318509964849,-7.975241563171741,-9.038835006871203,-8.422192460002089,-9.411892693343587,-9.873751221651506,-8.204361258851392,-9.597670881654603,-9.660383062508993,-9.287356126286666,-11.082244973576056,-10.643840474211665,-9.265613746199904,-10.140574215092224,-10.402518066500848,-8.82833771914717,-9.7242021307348,-9.068196225951686,-7.85602274017923,-9.420690797691822,-7.183501254390649,-9.333565629834585,-8.314738061953618,-8.641348469877997,-9.47486792315732,-9.681294050523803,-9.317281993894023,-10.271464777869765,-10.322346739640063,-8.932574618979338,-10.977080712581168,-10.719818750456495,-10.30949041281637,-8.38146215843853,-9.540150866700372,-10.225308640349668,-11.48021534428384,-9.241594885134942,-9.427189359098138,-10.789465123047536,-10.893433917783383,-10.287038247606024,-10.299014651747958,-9.078068067464221,-8.683740582281256,-9.43674532458419,-8.38244509562486,-9.476022013835667,-11.222996401338877,-9.840257799850987,-8.613601196716354,-8.832295766217786,-9.096676157656997,-8.127637692138387,-8.917197118087431,-8.374091854821948,-7.2930091752287245,-9.764376390722731,-8.109636704889759,-9.578000857161264,-9.561246790038114,-8.293315919256548,-8.921010724950397,-7.994762320874784,-10.651834166310014,-9.601341385960453,-7.904853084860097,-10.124898055182225,-10.457259243928224,-9.293089436408188,-10.540937898501795,-9.426266964436346,-8.743718060595146,-10.008761388763983,-10.104988119392477,-10.413811828060723,-9.198607806633152,-7.583666759384225,-8.442618746068831,-9.167119570419564,-8.075423131451123,-9.371597348870331,-8.965140659283835,-8.845224416854224,-7.47127010623618,-9.082381010833197,-10.066217057994512,-11.026880553315726,-8.887409595797834,-8.882161078351428,-9.943682376626393,-9.548255156157254,-7.979983287461323,-10.869342453058076,-9.245002155065398,-7.581111703434417,-8.952883466343549,-8.686957019692318,-10.944799942266194,-8.274404794633604,-8.843687200979739,-8.427912870480448,-9.726571340949645,-9.669775361926837,-9.397186751655004,-10.147826020322926,-8.673073143072644,-9.866506258513713,-9.409870461033824,-8.207363573976778,-9.700259320732114,-10.180622047958401,-7.422129845392116,-9.073261221743744,-9.441137255057994,-9.640593111300554,-11.51070548909265,-9.171657981581818,-8.37325042993336,-9.70277966224035,-10.401797930349888,-7.396523332690817,-9.177223943155356,-9.312661827578907,-8.589460768841663,-9.774062895162011,-10.36830671526298,-10.561872719666589,-8.881016394309603,-9.578699677045615,-10.224032242862753,-9.73935180508707,-6.884186421507447,-8.033918183325945,-6.823303050415824,-8.991699052553452,-10.046448947134385,-9.384334583830238,-7.849381395131652,-9.192559631662181,-9.540609731745954,-9.520155671509823,-10.260889368574608,-9.878383504952215,-9.512943887032531,-8.14915436046998,-11.168072438295567,-10.439624322142837,-8.707713105857424,-9.826286441256425,-9.563363932847619,-10.012406757987042,-10.568576214519535,-8.89555855802113,-10.603497761974747,-10.493738490330564,-9.675438483505612,-8.901496491462419,-9.770907209655062,5.9762834991171205,5.653002010712346,6.307382782606179,5.4170534229620175,6.7081581368411065,4.462723740349283,5.105380089131349,6.923380520468243,5.090680588066416,5.869959200397923,5.5154351999602085,6.372320021753807,5.408333634303592,6.389978467765133,3.5461582315392337,5.718502311745114,7.80690714109443,4.574098491961543,5.134724772738324,6.996554890984488,5.618559799707625,5.600443840416413,5.598119512560342,6.971000362246843,5.314863534476125,7.700225095801306,7.637354627381311,7.427599854062018,6.742794288792041,7.217820811655659,5.805244464188421,6.026938071100085,8.137788300215139,6.857428936300445,4.716588827410913,8.723136132160963,5.291706576122529,6.209542610580868,4.704091332514173,7.610882199706881,4.956382041181618,4.675272214444346,5.361513621878028,6.724337869938587,4.987478272529908,5.803930506393603,7.206541869432645,6.360830952844862,5.60943435769042,4.409144196064183,4.836122773482817,5.586890821399702,6.856496036098239,6.989172984579527,4.79906109173262,4.618873520400179,3.902249725880971,5.021423299854836,5.335591372889022,4.564662867636878,5.276424912865578,6.610324037037081,5.909189891729151,8.08893397768033,5.234970494210968,6.435402326285445,4.92198175710679,6.81859152530782,5.8904457781623965,5.091502934052713,6.976232354098508,5.069357598469723,6.004755134548876,3.7366223785432617,6.583271621243858,7.77040892446676,3.6780199921616714,5.589627998480137,6.358434495676375,5.657390911290308,6.277394597592963,4.407344431329344,7.608579592377948,5.98019888275226,8.353991938875234,5.274281541145391,5.925192663931985,4.886929986260632,8.249096461092579,5.400497842533272,5.476815155766937,7.250602792086672,4.219291401064432,6.564944963041821,6.397097256937152,5.7753056675497,5.722096860233197,7.139715656381719,6.184153602031904,5.807110884948076,5.8600102187878225,5.939552887728544,5.920256494796284,5.27231644495991,4.671787996250337,5.377771313959602,7.374931679064845,5.394707857215285,6.692768468443125,5.775109918027936,5.597760282691532,5.906852870710311,6.460918201006654,5.433027109737237,5.353471127602383,6.9398463288687315,6.563598366088276,4.89218836192037,6.554907202869683,6.037843358586249,5.756752168043484,7.611422904802002,5.624841635405832,5.4791175975717366,6.602070853592679,6.323272883126084,6.217647606356189,6.366333232986883,7.251860943724419,5.348248418246337,4.3120739269446915,5.367180310734695,8.659508018820397,7.042193555157549,5.911708521389363,5.999075944193915,4.251630486220367,5.371076700363657,6.120568295620832,5.714397855574473,5.969351544666973,5.343487125884074,4.213994989938037,5.914738279420378,3.6367088035833346,5.596233320918365,3.6530553101106307,5.1054777329955305,8.486654068220723,6.903282954799532,4.209342046692135,6.354318183564329,5.602048729855455,6.990520148029154,5.171202734497281,6.141600754821157,6.040715608716044,6.232642027900262,6.823775731367681,5.501584754755796,4.921389546000913,6.500147551505487,6.641818910261079,5.636391120779011,4.494972849593678,5.610376755908327,5.890764544295803,6.015752122895659,4.984628494063517,6.052479771440497,5.949020045661949,3.6392751779898718,4.155358075949776,5.531528175720341,5.984931778777676,6.163111858621351,6.645039728867898,7.5813631709169025,6.959829906407442,5.143246565834642,7.903560480927675,7.054580580461808,5.727805730954484,6.930364811414369,8.096677824706617,5.918221045120641,6.0361121944037945,5.681299488047403,2.740105077415019,4.192122000462481,5.4946940688088155,5.6992246793997685,5.8284582332477965,4.010641003123835,6.949329086407009,5.663560638217336,7.108179763717764,5.899457617604639,5.724089380143928,4.975283503845486,5.356770743839684,6.344756487592468,5.131862510197535,4.857986839580216,4.919350086191132,6.775462136911847,5.5964189919312854,5.593895779535232,5.741857516016342,6.986687035596877,5.880525216309811,7.747692977479865,8.092273518001722,4.486498844660009,5.209853530700915,5.83424871099221,4.906373950524985,6.141439058296363,7.528238014423257,6.0459962927969,8.199758764609278,6.11674632962093,5.524192223045962,6.415041457179945,4.506969638660141,6.450719698647384,6.822049173555886,6.599890234271874,6.838789166107833,5.37865233146679,7.486663368203124,4.387243117527676,6.70952405042657,4.93358360438457,5.194376181618516,8.84139361445165,5.121577506105043,5.987366785914745,7.32212202248051,4.895924864404136,6.857040807614441,5.713294950738706,6.749338944961615,6.95923550544916,7.259237325986264,4.976733886671649,6.7969978280048675,3.965525600103951,5.267172998457486,6.118188408019846,6.121569696137894,5.475072639598565,7.015043846740942,4.840421849973138,6.386043946671713,6.732371938287106,6.191622098981669,6.758250674469966,5.7274653255817825,8.912731362107973,5.638867123198881,6.22398366012713,6.414534496332015,6.321182165015467,4.883275613082353,7.013925476986041,5.702756823751523,6.639491546498887,4.544470211942626,6.375481178776804,5.482287017267322,3.7562276549016786,7.434461247233469,6.812881215977986,7.212999902778925,7.0298548696607535,6.152155020915919,7.698839121725664,6.08560763693858,5.7159256825851585,6.94742571261039,6.926617586740533,5.516555607098082,5.166252239937727,6.536243179715358,5.830401717928574,5.804787463116776,6.376399007212422,7.300071385483364,5.182411041437895,4.843637336419395,6.382549027524323,4.733222562060224,6.438595459752075,6.857092763250314,5.023652573586023,5.080959563060093,4.278850962815301,7.429535122823031,4.11224184564779,5.388392749174441,5.6188709465361875,6.437241280525892,5.9377138947630055,4.965639281838307,6.627617541838023,6.393212174229719,6.02825623007655,6.6217842492378285,5.810975767267353,5.344106058863091,6.55104485074324,6.426671653813567,8.23108467068513,6.311941357895585,5.091455130201075,6.7825543290801384,6.776615803600622,3.3928685294398604,5.581562825121105,5.650974701621858,6.4537477404629655,5.862052664268944,6.9507550653623,8.025251472956562,7.1936370890490915,5.985602673234857,6.94441410744336,5.670761234614319,7.042842002741171,7.330909170750539,3.605247884313854,5.906342200794464,6.748740692822706,7.108877083912028,6.188262058979788,5.0691228180772585,6.09596174959249,5.556059799419696,6.849009526145803,6.744321303835726,4.404496007311843,6.40445753386143,7.0163095355403104,5.073379722070552,7.568186920672628,7.086112424629889,6.2875693670696,8.820237949695583,4.860833260779632,6.042728128250109,6.206133599168993,5.75409095081356,6.330984743421911,4.86799841651953,5.7676584103745565,5.846391722121231,7.538281065164371,6.2965276645221255,5.737071174602881,5.640704961579346,7.509418198744255,5.803284247834331,5.37583602991433,4.772547146777497,5.602192634431028,5.58791400651928,4.346564602161149,5.61101522373413,6.532466158996294,7.2580428222996645,5.192861093230701,6.548983778999271,6.403867658136951,5.610426341383914,5.854034843794279,5.4924838948179655,4.984343586311963,5.069319609870965,5.474374853788603,5.780672171855828,5.493538882061758,6.002048282441174,5.822403456749769,6.3750349159238375,5.326686835195849,6.157002034230367,5.788518754978692,6.553730809397702,6.952057792073974,7.003572407006387,5.637196856669667,7.343847538173016,6.015032448918682,6.505070303913127,5.444686758684175,5.180100101221122,5.513166776188137,4.108631016189383,6.345057213566444,6.1765777690960935,4.227450581999707,5.390790975182372,4.364882188739712,7.946053306301458,4.420348222352359,7.112902754990129,8.230160665634301,6.097473030271875,6.745503649194848,6.193830068878022,4.81510108174354,4.831633394793376,6.535443391159301,6.02935391428615,7.650268223307197,6.282981829484287,7.00120435244393,7.051558566025974,4.907457773162014,5.368366410848628,5.227298912002051,6.023527366319836,5.986869802594867,4.923727918495398,6.9313596618929285,5.804163682448505,9.003135699043042,6.621372765912287,7.718793327419283,6.729718436612178,7.75407549668877,5.594409107792176,5.42610838982385,6.671897360453047,6.201189077606799,5.772458533738588,5.129692434697993,3.369657373603147,6.053935206470859,5.881844864555348,6.946265962873534,7.095263407101282,5.8523115928117315,6.318509621863344,4.504382306694815,6.9897352948556755,6.685520983391971,6.520742257342339,6.323701493889919,4.987848058811677,6.7148180412692895,6.005125520591479,7.588134492631342,6.007728856360144,5.990102286181587,5.780288704992239,5.493099799301289,6.388163844493016,6.593212936133144,7.221990120568657,5.279446506666987,6.919037248968949,6.6203130596296385,6.5286385631573856,4.350723043976835,6.361878313862282,5.814960048213827,4.483030640054842,6.030484119088828,6.856130963553008,8.211765540640608,4.414338080248357,5.328403531872777,4.831359860463477,5.793409396546064],\"xaxis\":\"x\",\"y\":[-7.356553581590187,-7.070866568853548,-8.072752342317752,-7.300933769889257,-7.325168891439437,-7.628046347841853,-6.847249810908342,-7.033503658346585,-8.091715923345797,-8.266066814070822,-7.191275079021205,-8.40056248208305,-6.582186788724931,-7.257779692687014,-7.00324978870002,-8.163404755771772,-6.541598069424046,-7.571936543498086,-8.3115228417086,-6.512971531646268,-7.7969506011237115,-6.744673203154038,-5.627504636406196,-7.19970020729991,-6.792286253584355,-9.23611964999522,-8.135420789014749,-7.331112634490793,-6.410077141063807,-7.116431063619788,-9.030705882807894,-8.261866650622506,-6.304608818336591,-6.225896229504382,-7.364819041221577,-7.05253562258191,-5.896146399827334,-7.725750438070499,-6.66731432773752,-6.92514746399297,-8.175001232545672,-7.809331958596491,-4.866189493555076,-7.405140054459085,-8.050641939119744,-6.767320163902383,-8.294295437254847,-7.023746732932738,-7.17711701962399,-6.499697482194116,-7.515122943563885,-7.543416064638947,-4.72738203298358,-7.782270825034849,-7.38340992456161,-7.54013975009282,-6.2625423856207405,-9.261713191753687,-5.553464331225426,-5.5189657791015,-8.19927883337654,-7.386519994324995,-7.728834876636058,-7.203007158904792,-8.190839474961829,-7.250551863028228,-6.755237080822396,-6.982878904642031,-6.757597350699177,-8.696287610998407,-7.722478689065327,-6.121007459370823,-6.498904174345842,-6.907478947702856,-6.425024859124116,-7.542636606521607,-5.71845933464154,-7.155805773340508,-7.205734433462823,-7.062922727470932,-6.57913216353263,-7.023827610810104,-7.186832664528875,-7.865726701760658,-6.471107087223868,-7.340682433097319,-7.069769621724863,-6.034050724354268,-7.290905358233669,-8.360341677948592,-8.292337442004408,-6.056186724909715,-8.124272753572082,-7.154069670049367,-6.310606423665105,-5.976869835142542,-7.5850656173986675,-5.955784996598248,-7.956372674412126,-6.763607417947517,-7.007938552553956,-9.512497062775076,-5.532549693044231,-6.812678264886169,-8.386080395749373,-6.664977125745845,-6.77921683813838,-7.278117087281043,-7.621660162351485,-7.053672448244955,-9.195256024822356,-8.336979550155723,-6.421977094624136,-8.176065810648057,-6.844202921097999,-7.312958521739359,-7.961153777905284,-9.988745166256656,-7.259891846687318,-7.814560998914952,-7.852320255785802,-7.547719047269242,-7.195222154978075,-7.785868529233084,-5.828009287988083,-6.339729844513672,-8.497005545545747,-7.242555578306203,-8.51002088827899,-7.526131397923473,-7.225879891103968,-7.013964824384832,-7.0983719896740345,-7.145848059004242,-5.985296748691073,-7.4891065682354645,-7.091860826861791,-8.000996432691363,-7.708807552930147,-7.995969545614117,-6.532496995201404,-8.041921439603518,-7.088939376253387,-6.6302066857790365,-8.275558115598526,-7.56180803700234,-7.155595312243909,-6.490689321855606,-6.310703158326698,-6.916893782227995,-8.267392663703024,-7.1735334605678185,-7.085290720958502,-7.554379471245792,-6.882119139250104,-7.947336115533551,-6.5944901043486865,-7.888401292617211,-7.319106500328666,-5.087969332934023,-8.261374940778875,-8.093650640463997,-7.117188540751144,-6.207988420652738,-7.01579588420719,-8.511238631414857,-6.861909989175266,-7.321291063724416,-7.774916580641449,-8.73794506590851,-7.092998884912671,-8.852929076193382,-7.245977803084502,-7.541366409017175,-6.4113432348351544,-8.76978822850921,-8.35341152958847,-6.7050622159459605,-7.132611258466068,-6.172689511559601,-8.550688700306354,-7.23620642288057,-6.9852904901092945,-9.166669842310366,-5.889886021132603,-6.418724935519536,-6.721893499975993,-6.676594159434313,-7.807784528932047,-7.73437665019418,-7.586961169843545,-7.168727739599797,-8.328135841324103,-7.531523410662962,-7.213270550775989,-8.31618644104006,-7.655673753046007,-8.611603509366411,-7.209798108553609,-7.309256871158584,-7.4588131864276725,-10.714139838705677,-6.23283601613922,-6.059765543480258,-9.122999386137495,-7.508532072198849,-6.609671926895986,-7.901865095571003,-7.1397516405953025,-7.13782854728364,-7.974135397365303,-7.568530266729382,-7.618432893726627,-6.07707017908219,-6.29579539044836,-7.506729721695979,-7.288171415133228,-7.409306548260513,-8.270940533045412,-9.626061191652214,-6.601083202851723,-7.560742187199787,-6.9476651178172295,-6.334018721788646,-7.410057279683175,-7.861627661575422,-8.697537107239821,-7.217185745442034,-7.178771405201625,-6.85454306404835,-8.620010779050105,-6.45130277573751,-9.419648397564618,-7.268329958149223,-7.894162497976618,-6.311440029720488,-7.8482282279717985,-5.208789242538135,-5.757712233698362,-6.950912092825635,-7.352916806148341,-7.198058839193704,-8.745986705421554,-7.349975636990787,-8.610585144420217,-6.01279512301312,-7.9435574961015805,-7.5613709605313435,-7.493081999401063,-6.467447194233748,-6.0513482762516855,-6.143361576696533,-7.3484755910501836,-6.26654549751194,-6.951804057588197,-6.447463626291227,-5.095201433850974,-5.913026956970798,-5.928107619522584,-7.926817786516058,-6.910062412459759,-8.311921570369734,-7.786861185987974,-8.175868725034292,-6.434607342736519,-6.338231233810972,-7.125673315204247,-7.890177354758278,-6.159967434522751,-6.294011171248373,-7.742841201636604,-7.899285714183021,-7.489828744996742,-7.394902469644265,-7.911043439557347,-8.308560818422123,-8.373282293717924,-6.433113716664614,-7.942019602260968,-6.210988917671203,-7.561605509207611,-7.794817120411582,-6.498738501868465,-7.347236473471644,-7.007114332975902,-7.682984302726892,-7.953728372119812,-8.663414226616762,-7.640779173540541,-8.329032159611284,-7.4567555774854934,-9.59111264520378,-7.822316516049918,-4.8271792061581795,-8.001705155565395,-9.032644466303186,-8.197085591548076,-7.705953091347768,-8.162026445652579,-7.318384121793732,-7.343747929342645,-5.993407243251518,-5.601479762867872,-5.029257583707274,-7.005311355581542,-6.788008833022219,-5.938314481430119,-7.535954085668335,-8.447191370101613,-8.93267525474669,-7.095406026570455,-7.86517397157927,-7.353089222475884,-8.951708105142314,-6.408891300847603,-7.3255652829799764,-7.251672593015202,-6.409645736062855,-7.843070985890124,-5.0542889973807945,-6.843286670408599,-8.135157411687345,-6.963748346921476,-7.841798868875726,-6.96590637868789,-8.251709930159288,-8.274081107474357,-7.866992235243227,-8.197401087641353,-6.49414198750861,-8.365195478257624,-8.47737937678308,-7.208064144689969,-9.128152550013649,-7.085333651315431,-7.321816432356199,-6.181942458032388,-9.771777189150095,-6.0168283551840425,-8.560406271771944,-7.777002953908964,-6.747839753247546,-7.04882602741603,-5.019405483702929,-7.057951730014152,-7.365458740133196,-6.671067714053728,-8.502413739609738,-6.279412192101385,-7.976949097001252,-6.288200644046196,-7.21987245595045,-7.490702370370586,-7.522466530284009,-8.038694844678684,-5.7302750613208735,-6.341524140286509,-6.41595738293398,-8.370296948716968,-6.730902671325856,-7.477703851789913,-7.954939084221001,-6.059246378177592,-8.231119279984672,-7.52801903985963,-7.607747510127832,-6.77633677645469,-6.1650422210198155,-6.7316108461421065,-7.323537179745132,-8.996575884375423,-7.418727400037931,-9.1625730614812,-7.721617096301177,-7.460730432344889,-7.5425299927824145,-8.538543004690357,-8.04259072868827,-7.546954400010765,-5.513657447279822,-6.620153714542883,-7.937121151931466,-6.172629955614186,-8.58693995380634,-8.491902057816102,-8.062446899738541,-8.036736481647601,-7.109148271821276,-7.962635105786492,-8.28273310781881,-6.564680538883832,-6.867444863731485,-6.23135839445275,-8.467631407238574,-7.048941170755975,-7.261249284449723,-5.69428979936742,-8.295011971506389,-6.308070372583396,-7.223085798251842,-8.354264865349922,-7.816478260915743,-6.744784599765265,-8.377895278518231,-5.997801438778725,22.48831541919271,22.78279174890657,23.27848940796735,21.1733693927073,22.697019827984295,21.537753591499083,22.34307730061099,22.003020698526058,23.269858257585376,21.601589055491516,22.44194615713568,21.642270538811722,20.073804102066976,23.168919457047366,22.89104494824033,21.696562926811602,22.12307274312314,22.682925771127557,22.926378677219816,23.21094930656154,24.96360247108172,21.61250699494307,21.925982878758617,22.439754949418752,22.001639080318085,19.620409286757234,21.60961576155014,22.328737846040276,21.934959163943173,22.490691035022028,21.350974915723036,22.575907429722097,22.933043589515822,20.62401905463028,21.041827352083,25.688903532895296,23.203270428590912,21.59226080631532,22.364573067615574,21.96587787557844,23.860147848607603,21.287252124790502,20.553761151823398,23.67699104159032,22.52908948472097,21.95051203582706,22.729879480587233,21.36414065823902,22.428735130578072,20.90044777272038,21.95448039956479,22.64211001622139,22.190803719896525,22.838961141276254,22.637881897289738,21.543873418728776,21.486253612994172,24.284257055158168,22.607112234018114,22.387404786400094,21.62148188828359,24.508666795442654,23.319038114577346,22.618084759011406,23.157480650304873,20.111704787914714,22.545762627592683,21.463537033427222,22.56289252530184,23.399391449836006,23.58307147792175,22.77709187934662,22.318745480539864,22.652873595987657,21.644785013824343,22.57968053349947,20.972918756033994,21.898144154179686,21.49054340249922,20.576973659686022,23.329861317389543,23.120324975196397,22.187687715765477,23.072686937079542,23.149928795929007,23.273541293797706,24.722372416658203,22.072572575532096,22.86423387609239,20.74728166037491,20.927998111447778,23.446596144540116,21.426478896565953,23.494474048585772,22.74707467561131,20.66510626336105,21.916986772858913,21.94422461455657,23.824661186328,23.19693040853751,21.713859046871487,20.68760490899002,20.99488886902749,21.75436578480611,22.23954231035247,21.87839316574101,22.78124366170631,23.23957154549018,23.620621411318258,21.93352181738529,22.95443705195937,22.591137870262877,23.617356092410454,21.31691128156007,22.273924502407247,22.924921503761542,21.44360630046007,22.68953605251752,22.966233125033092,23.244273078185334,23.33773116698678,23.02772009261707,22.05964625286829,24.240123820064994,23.48791014119048,22.083965698043144,22.421192189324568,21.183032279050575,21.3169368812984,23.647502786139285,23.782833499162486,21.16682276026288,21.18111424075619,22.870736808654065,22.620722298869207,22.878173669310115,23.647441135784405,21.10062898979733,22.590143623451457,23.00544812362927,23.730068905745973,21.561458272279534,24.100384114964676,21.59307923767055,23.479413531043264,23.079967276961945,25.16055255930465,21.14256538481752,22.08804551604501,21.35284048060662,22.6024309198862,23.26990868171115,21.575730683242654,23.713710239937164,21.969546525604894,22.85972134602764,21.724719402495285,22.59368875269633,23.61137483986806,21.80261841979474,23.3573963402512,22.166894832178407,21.16162999252508,19.223516591104175,23.14154390166539,22.92824228012187,24.521237944090352,23.58082325730551,23.70591277694228,21.72515946637838,22.849677936328824,21.95679302785081,21.630178897268063,22.566786580503152,22.311382484370014,22.95188691352285,22.46406801427818,23.148266316211128,22.96609693688209,23.224335557125496,20.21081984054396,23.34678153350773,23.233279316666003,23.620585193181725,23.621916493823235,21.09543523697572,22.091664396427618,23.114496734728526,22.914299792927604,22.20895974233959,22.155134926948524,22.616735409788323,21.25076591227095,22.838625439764407,23.28244591102898,23.041672479498427,22.681695518038765,22.27570566175646,21.42226284357204,22.549999816263064,22.479113840460133,20.877803695286264,23.106492464659496,23.506820026636763,22.011001460625238,23.66731395191925,22.454313586317063,23.005932619320053,23.928371079688052,24.655402887557333,21.790451043217537,21.965812077468062,23.812035074003067,22.28953161590565,22.26977833881022,22.646820552641305,22.32403494432971,23.21891255089082,26.249678879078726,21.372364635148493,22.63797827968685,21.928299394310905,24.00611187529485,22.90680985890754,24.04318847560663,22.449572833007558,22.20544690298697,23.287710227761217,22.79607349695753,21.568965109987413,21.487606882698785,21.92224785681041,23.011484196470207,21.30055992807775,21.511338754345093,22.672758908961338,21.493566903817836,22.755351540592613,23.400337325478326,22.26848880366471,22.320255281263467,21.877700403838197,21.769366695369822,22.70126853760608,24.36593463350666,22.459511012857355,21.537743702398593,19.943968660075644,22.020518500998893,22.159683960580878,22.5436517829313,21.18719582115525,21.378170476371047,21.34612697323478,22.867371145562842,22.291825890014234,20.59405255383953,24.304700646525045,23.09527907362736,22.56369465713076,23.489913524700526,22.11529498303783,23.86318879074603,21.788264950254042,22.42512288552988,22.89539244141366,21.49025428071687,22.995942850720397,21.984459538452708,23.325024724266648,19.920655951570815,22.359551044086743,23.27603922819809,22.02614990343265,23.62896614236704,23.118295654068923,22.938206077946948,20.660347267465045,22.59725298434816,22.419894160236954,24.32996117162785,21.828661607209487,20.712213337272786,21.959659164303304,22.889928127244794,22.80051999044355,22.510007980192704,21.794767007155077,22.464460067510505,22.234293675216417,23.731307280628574,20.922312261497122,20.78364783764907,24.624383864134725,23.450190456930756,22.911000290107516,23.097412574641773,22.077430488593272,22.291930895539373,23.19193506579628,21.014961264336122,22.15474254648296,23.255029349423047,20.9045527875839,24.128045149252817,20.75746546120801,21.61809042841386,23.453725728205786,24.208592021756942,23.888024807212307,21.661173128343517,22.31709557493643,22.345138094163637,21.095288653251274,22.80685436708557,23.69718945752176,21.653758394952195,22.122438915605382,22.419525377069153,22.458232602277565,21.87939758179652,21.856100876027494,23.23712383636221,22.80042572605737,22.4213936526071,23.66858476436208,22.69133459858005,21.530788970056676,20.581529131726644,20.7589072048728,21.412236278587528,22.79758177646058,23.779612943383224,22.84531293964594,22.906983170031154,22.45412622268718,22.647161750086212,19.985239240546292,23.269873920079878,20.98075367087917,23.730817612719104,23.412151329165358,22.334669726430935,24.778416449530233,20.287457852929556,23.510761666734073,22.8048539089296,21.392551315071437,22.662602444649202,24.13143555122674,22.641083910617198,22.259721057294872,21.68913864488318,21.860555762345804,21.522078921676627,23.79859076590535,22.33794394879721,21.67560853846798,23.344328411749967,21.484319657075307,23.1935610405172,22.73472258913785,23.05860058838632,24.136073308763763,22.39314331043517,22.29329185989921,21.45518645968706,22.840431650064197,22.865407505398085,22.96357159125254,23.773990974453067,21.785665370209927,21.6855235667492,22.64425756330624,22.665383058714916,22.02907175158027,22.870724889724233,24.09707044089026,22.476465435794495,21.038274585522768,23.39702292685902,21.897266961605425,24.078832573593246,22.71488792214179,23.545554139107686,22.872297308266944,23.09062824777414,21.59965685112292,21.84091264945018,21.7657088875273,24.387985328539877,21.388365037473665,20.92341354574888,22.493899426990676,20.973672144910037,23.5815771319581,21.163092889595944,23.088728779632326,21.53879240833375,22.568332860253783,22.528584985566212,19.798275055075475,24.260123391396192,24.46725324132454,21.677102403679005,23.865078319107614,23.582923493645986,24.0597369371368,23.706231064017608,22.639368882000216,22.15836345269256,23.223416907210957,21.24118482017264,23.36816505297412,22.84308444853552,22.84051093948848,22.667118698131063,22.044131473259238,23.163285931313684,22.239042200269935,23.282693920507157,23.43370083369825,20.42718214175519,22.116485655304754,22.489091069583385,22.20926208938889,22.709480061260944,21.996051541244736,21.44263458373436,22.549505717992375,21.31137387399373,21.463388081158143,22.214206001232224,23.07220364516714,23.363193056224283,22.00676733116029,24.993906040348786,23.391392596302627,21.803485316558515,22.526542245532507,21.115618241549296,22.56532198220403,23.90554422901737,22.615762692704333,23.77206722746329,22.585273828742537,21.932638547758987,21.367983880295935,21.97678989272336,22.853550358586688,23.418026651117533,22.369878662935783,22.779090888257358,23.814469533942624,22.370457900034506,21.37883973450607,20.87486561167186,21.97074774920061,23.922950013178617,22.693893709181562,20.933386225162153,22.051478085645286,23.01224699760305,23.351282940042395,20.86679280393977,23.60143047604575,23.633980682169828,19.884977035002684,22.36269499720878,22.14928091329676,19.3917945068082,22.14424128606607,21.868726746474625,22.691119021659222,22.52273485015065,20.650782328322155],\"yaxis\":\"y\",\"type\":\"scatter\"}],                        {\"template\":{\"data\":{\"histogram2dcontour\":[{\"type\":\"histogram2dcontour\",\"colorbar\":{\"outlinewidth\":0,\"ticks\":\"\"},\"colorscale\":[[0.0,\"#0d0887\"],[0.1111111111111111,\"#46039f\"],[0.2222222222222222,\"#7201a8\"],[0.3333333333333333,\"#9c179e\"],[0.4444444444444444,\"#bd3786\"],[0.5555555555555556,\"#d8576b\"],[0.6666666666666666,\"#ed7953\"],[0.7777777777777778,\"#fb9f3a\"],[0.8888888888888888,\"#fdca26\"],[1.0,\"#f0f921\"]]}],\"choropleth\":[{\"type\":\"choropleth\",\"colorbar\":{\"outlinewidth\":0,\"ticks\":\"\"}}],\"histogram2d\":[{\"type\":\"histogram2d\",\"colorbar\":{\"outlinewidth\":0,\"ticks\":\"\"},\"colorscale\":[[0.0,\"#0d0887\"],[0.1111111111111111,\"#46039f\"],[0.2222222222222222,\"#7201a8\"],[0.3333333333333333,\"#9c179e\"],[0.4444444444444444,\"#bd3786\"],[0.5555555555555556,\"#d8576b\"],[0.6666666666666666,\"#ed7953\"],[0.7777777777777778,\"#fb9f3a\"],[0.8888888888888888,\"#fdca26\"],[1.0,\"#f0f921\"]]}],\"heatmap\":[{\"type\":\"heatmap\",\"colorbar\":{\"outlinewidth\":0,\"ticks\":\"\"},\"colorscale\":[[0.0,\"#0d0887\"],[0.1111111111111111,\"#46039f\"],[0.2222222222222222,\"#7201a8\"],[0.3333333333333333,\"#9c179e\"],[0.4444444444444444,\"#bd3786\"],[0.5555555555555556,\"#d8576b\"],[0.6666666666666666,\"#ed7953\"],[0.7777777777777778,\"#fb9f3a\"],[0.8888888888888888,\"#fdca26\"],[1.0,\"#f0f921\"]]}],\"heatmapgl\":[{\"type\":\"heatmapgl\",\"colorbar\":{\"outlinewidth\":0,\"ticks\":\"\"},\"colorscale\":[[0.0,\"#0d0887\"],[0.1111111111111111,\"#46039f\"],[0.2222222222222222,\"#7201a8\"],[0.3333333333333333,\"#9c179e\"],[0.4444444444444444,\"#bd3786\"],[0.5555555555555556,\"#d8576b\"],[0.6666666666666666,\"#ed7953\"],[0.7777777777777778,\"#fb9f3a\"],[0.8888888888888888,\"#fdca26\"],[1.0,\"#f0f921\"]]}],\"contourcarpet\":[{\"type\":\"contourcarpet\",\"colorbar\":{\"outlinewidth\":0,\"ticks\":\"\"}}],\"contour\":[{\"type\":\"contour\",\"colorbar\":{\"outlinewidth\":0,\"ticks\":\"\"},\"colorscale\":[[0.0,\"#0d0887\"],[0.1111111111111111,\"#46039f\"],[0.2222222222222222,\"#7201a8\"],[0.3333333333333333,\"#9c179e\"],[0.4444444444444444,\"#bd3786\"],[0.5555555555555556,\"#d8576b\"],[0.6666666666666666,\"#ed7953\"],[0.7777777777777778,\"#fb9f3a\"],[0.8888888888888888,\"#fdca26\"],[1.0,\"#f0f921\"]]}],\"surface\":[{\"type\":\"surface\",\"colorbar\":{\"outlinewidth\":0,\"ticks\":\"\"},\"colorscale\":[[0.0,\"#0d0887\"],[0.1111111111111111,\"#46039f\"],[0.2222222222222222,\"#7201a8\"],[0.3333333333333333,\"#9c179e\"],[0.4444444444444444,\"#bd3786\"],[0.5555555555555556,\"#d8576b\"],[0.6666666666666666,\"#ed7953\"],[0.7777777777777778,\"#fb9f3a\"],[0.8888888888888888,\"#fdca26\"],[1.0,\"#f0f921\"]]}],\"mesh3d\":[{\"type\":\"mesh3d\",\"colorbar\":{\"outlinewidth\":0,\"ticks\":\"\"}}],\"scatter\":[{\"fillpattern\":{\"fillmode\":\"overlay\",\"size\":10,\"solidity\":0.2},\"type\":\"scatter\"}],\"parcoords\":[{\"type\":\"parcoords\",\"line\":{\"colorbar\":{\"outlinewidth\":0,\"ticks\":\"\"}}}],\"scatterpolargl\":[{\"type\":\"scatterpolargl\",\"marker\":{\"colorbar\":{\"outlinewidth\":0,\"ticks\":\"\"}}}],\"bar\":[{\"error_x\":{\"color\":\"#2a3f5f\"},\"error_y\":{\"color\":\"#2a3f5f\"},\"marker\":{\"line\":{\"color\":\"#E5ECF6\",\"width\":0.5},\"pattern\":{\"fillmode\":\"overlay\",\"size\":10,\"solidity\":0.2}},\"type\":\"bar\"}],\"scattergeo\":[{\"type\":\"scattergeo\",\"marker\":{\"colorbar\":{\"outlinewidth\":0,\"ticks\":\"\"}}}],\"scatterpolar\":[{\"type\":\"scatterpolar\",\"marker\":{\"colorbar\":{\"outlinewidth\":0,\"ticks\":\"\"}}}],\"histogram\":[{\"marker\":{\"pattern\":{\"fillmode\":\"overlay\",\"size\":10,\"solidity\":0.2}},\"type\":\"histogram\"}],\"scattergl\":[{\"type\":\"scattergl\",\"marker\":{\"colorbar\":{\"outlinewidth\":0,\"ticks\":\"\"}}}],\"scatter3d\":[{\"type\":\"scatter3d\",\"line\":{\"colorbar\":{\"outlinewidth\":0,\"ticks\":\"\"}},\"marker\":{\"colorbar\":{\"outlinewidth\":0,\"ticks\":\"\"}}}],\"scattermapbox\":[{\"type\":\"scattermapbox\",\"marker\":{\"colorbar\":{\"outlinewidth\":0,\"ticks\":\"\"}}}],\"scatterternary\":[{\"type\":\"scatterternary\",\"marker\":{\"colorbar\":{\"outlinewidth\":0,\"ticks\":\"\"}}}],\"scattercarpet\":[{\"type\":\"scattercarpet\",\"marker\":{\"colorbar\":{\"outlinewidth\":0,\"ticks\":\"\"}}}],\"carpet\":[{\"aaxis\":{\"endlinecolor\":\"#2a3f5f\",\"gridcolor\":\"white\",\"linecolor\":\"white\",\"minorgridcolor\":\"white\",\"startlinecolor\":\"#2a3f5f\"},\"baxis\":{\"endlinecolor\":\"#2a3f5f\",\"gridcolor\":\"white\",\"linecolor\":\"white\",\"minorgridcolor\":\"white\",\"startlinecolor\":\"#2a3f5f\"},\"type\":\"carpet\"}],\"table\":[{\"cells\":{\"fill\":{\"color\":\"#EBF0F8\"},\"line\":{\"color\":\"white\"}},\"header\":{\"fill\":{\"color\":\"#C8D4E3\"},\"line\":{\"color\":\"white\"}},\"type\":\"table\"}],\"barpolar\":[{\"marker\":{\"line\":{\"color\":\"#E5ECF6\",\"width\":0.5},\"pattern\":{\"fillmode\":\"overlay\",\"size\":10,\"solidity\":0.2}},\"type\":\"barpolar\"}],\"pie\":[{\"automargin\":true,\"type\":\"pie\"}]},\"layout\":{\"autotypenumbers\":\"strict\",\"colorway\":[\"#636efa\",\"#EF553B\",\"#00cc96\",\"#ab63fa\",\"#FFA15A\",\"#19d3f3\",\"#FF6692\",\"#B6E880\",\"#FF97FF\",\"#FECB52\"],\"font\":{\"color\":\"#2a3f5f\"},\"hovermode\":\"closest\",\"hoverlabel\":{\"align\":\"left\"},\"paper_bgcolor\":\"white\",\"plot_bgcolor\":\"#E5ECF6\",\"polar\":{\"bgcolor\":\"#E5ECF6\",\"angularaxis\":{\"gridcolor\":\"white\",\"linecolor\":\"white\",\"ticks\":\"\"},\"radialaxis\":{\"gridcolor\":\"white\",\"linecolor\":\"white\",\"ticks\":\"\"}},\"ternary\":{\"bgcolor\":\"#E5ECF6\",\"aaxis\":{\"gridcolor\":\"white\",\"linecolor\":\"white\",\"ticks\":\"\"},\"baxis\":{\"gridcolor\":\"white\",\"linecolor\":\"white\",\"ticks\":\"\"},\"caxis\":{\"gridcolor\":\"white\",\"linecolor\":\"white\",\"ticks\":\"\"}},\"coloraxis\":{\"colorbar\":{\"outlinewidth\":0,\"ticks\":\"\"}},\"colorscale\":{\"sequential\":[[0.0,\"#0d0887\"],[0.1111111111111111,\"#46039f\"],[0.2222222222222222,\"#7201a8\"],[0.3333333333333333,\"#9c179e\"],[0.4444444444444444,\"#bd3786\"],[0.5555555555555556,\"#d8576b\"],[0.6666666666666666,\"#ed7953\"],[0.7777777777777778,\"#fb9f3a\"],[0.8888888888888888,\"#fdca26\"],[1.0,\"#f0f921\"]],\"sequentialminus\":[[0.0,\"#0d0887\"],[0.1111111111111111,\"#46039f\"],[0.2222222222222222,\"#7201a8\"],[0.3333333333333333,\"#9c179e\"],[0.4444444444444444,\"#bd3786\"],[0.5555555555555556,\"#d8576b\"],[0.6666666666666666,\"#ed7953\"],[0.7777777777777778,\"#fb9f3a\"],[0.8888888888888888,\"#fdca26\"],[1.0,\"#f0f921\"]],\"diverging\":[[0,\"#8e0152\"],[0.1,\"#c51b7d\"],[0.2,\"#de77ae\"],[0.3,\"#f1b6da\"],[0.4,\"#fde0ef\"],[0.5,\"#f7f7f7\"],[0.6,\"#e6f5d0\"],[0.7,\"#b8e186\"],[0.8,\"#7fbc41\"],[0.9,\"#4d9221\"],[1,\"#276419\"]]},\"xaxis\":{\"gridcolor\":\"white\",\"linecolor\":\"white\",\"ticks\":\"\",\"title\":{\"standoff\":15},\"zerolinecolor\":\"white\",\"automargin\":true,\"zerolinewidth\":2},\"yaxis\":{\"gridcolor\":\"white\",\"linecolor\":\"white\",\"ticks\":\"\",\"title\":{\"standoff\":15},\"zerolinecolor\":\"white\",\"automargin\":true,\"zerolinewidth\":2},\"scene\":{\"xaxis\":{\"backgroundcolor\":\"#E5ECF6\",\"gridcolor\":\"white\",\"linecolor\":\"white\",\"showbackground\":true,\"ticks\":\"\",\"zerolinecolor\":\"white\",\"gridwidth\":2},\"yaxis\":{\"backgroundcolor\":\"#E5ECF6\",\"gridcolor\":\"white\",\"linecolor\":\"white\",\"showbackground\":true,\"ticks\":\"\",\"zerolinecolor\":\"white\",\"gridwidth\":2},\"zaxis\":{\"backgroundcolor\":\"#E5ECF6\",\"gridcolor\":\"white\",\"linecolor\":\"white\",\"showbackground\":true,\"ticks\":\"\",\"zerolinecolor\":\"white\",\"gridwidth\":2}},\"shapedefaults\":{\"line\":{\"color\":\"#2a3f5f\"}},\"annotationdefaults\":{\"arrowcolor\":\"#2a3f5f\",\"arrowhead\":0,\"arrowwidth\":1},\"geo\":{\"bgcolor\":\"white\",\"landcolor\":\"#E5ECF6\",\"subunitcolor\":\"white\",\"showland\":true,\"showlakes\":true,\"lakecolor\":\"white\"},\"title\":{\"x\":0.05},\"mapbox\":{\"style\":\"light\"}}},\"xaxis\":{\"anchor\":\"y\",\"domain\":[0.0,1.0],\"title\":{\"text\":\"x\"}},\"yaxis\":{\"anchor\":\"x\",\"domain\":[0.0,1.0],\"title\":{\"text\":\"y\"},\"scaleanchor\":\"x\",\"scaleratio\":1},\"legend\":{\"title\":{\"text\":\"particle_state\"},\"tracegroupgap\":0},\"margin\":{\"t\":60}},                        {\"responsive\": true}                    ).then(function(){\n",
       "                            \n",
       "var gd = document.getElementById('57515f3a-8f4e-4048-b48d-6d03c1853b7e');\n",
       "var x = new MutationObserver(function (mutations, observer) {{\n",
       "        var display = window.getComputedStyle(gd).display;\n",
       "        if (!display || display === 'none') {{\n",
       "            console.log([gd, 'removed!']);\n",
       "            Plotly.purge(gd);\n",
       "            observer.disconnect();\n",
       "        }}\n",
       "}});\n",
       "\n",
       "// Listen for the removal of the full notebook cells\n",
       "var notebookContainer = gd.closest('#notebook-container');\n",
       "if (notebookContainer) {{\n",
       "    x.observe(notebookContainer, {childList: true});\n",
       "}}\n",
       "\n",
       "// Listen for the clearing of the current output cell\n",
       "var outputEl = gd.closest('.output');\n",
       "if (outputEl) {{\n",
       "    x.observe(outputEl, {childList: true});\n",
       "}}\n",
       "\n",
       "                        })                };                });            </script>        </div>"
      ]
     },
     "metadata": {},
     "output_type": "display_data"
    }
   ],
   "source": [
    "startAtOrigin=False\n",
    "if startAtOrigin:\n",
    "    plotly_df=trajAnalysis.shift_traj_to_origin(df)\n",
    "else:\n",
    "    plotly_df = df.copy()\n",
    "plotly_df.y *=-1\n",
    "\n",
    "plotly_df[\"particle_state\"] = plotly_df.particle.astype(str)+\"_\"+plotly_df.state.astype(str)\n",
    "fig = px.line(plotly_df, x=\"x\", y=\"y\", color='particle_state',hover_data=['frame'],color_discrete_sequence=px.colors.qualitative.D3,)\n",
    "fig.update_yaxes(scaleanchor = \"x\",scaleratio = 1,)\n",
    "fig.show()"
   ]
  },
  {
   "cell_type": "markdown",
   "id": "79108896",
   "metadata": {},
   "source": [
    "## MSD Plot:"
   ]
  },
  {
   "cell_type": "code",
   "execution_count": null,
   "id": "bec23768",
   "metadata": {
    "scrolled": false
   },
   "outputs": [],
   "source": [
    "default_groupby = \"experiment\"\n",
    "if \"MSD_fig\" in locals() : plt.close(MSD_fig)\n",
    "MSD_fig, MSD_ax = plt.subplots(figsize=(6, 4))\n",
    "@interact(Log_Scale=True,group_by=[\"experiment\",\"particle\"],max_lagtime=(100,2000,10),N_sample_points = (2,101,1),equal_weight_per_particle=True)\n",
    "#def update(group_by=\"experiment\",Log_Scale=True,equal_weight_per_particle=True,step_lagtime=5,max_lagtime=100,):\n",
    "def update(group_by=default_groupby,Log_Scale=False,equal_weight_per_particle=True,N_sample_points=21,max_lagtime=1000,):\n",
    "    MSD_ax.cla()\n",
    "    displayData.plot_MSD(df,isdfPadded=True, lagtime=np.unique(np.round(np.logspace(0,np.log10(max_lagtime),N_sample_points))), group_by=group_by, logscale=Log_Scale, ax=MSD_ax,eqParticleWeight=equal_weight_per_particle)\n",
    "    MSD_ax.grid(True)"
   ]
  },
  {
   "cell_type": "markdown",
   "id": "041b085c",
   "metadata": {},
   "source": [
    "## Displacement Distribution $G(\\Delta x,\\Delta t)$:"
   ]
  },
  {
   "cell_type": "code",
   "execution_count": null,
   "id": "d6a21ead",
   "metadata": {
    "scrolled": false
   },
   "outputs": [],
   "source": [
    "# set up plot\n",
    "if \"G_fig\" in locals() : plt.close(G_fig)\n",
    "G_fig, G_ax = plt.subplots(figsize=(6, 4))\n",
    "\n",
    "dt_default = 30\n",
    "xlim_default = 5.\n",
    "\n",
    "@interact(dt=(1, min(200,df.frame.max()-1), 1),semiLogScale=True,direction=[\"xy\", \"x\", \"y\"],group_by=[\"experiment\",\"particle\"],x_lim=(1., 30., 0.5),equal_weight_per_particle=True, clearAxes = True)\n",
    "def update(dt=dt_default,x_lim=xlim_default,group_by=\"experiment\",direction=\"xy\",semiLogScale=True,equal_weight_per_particle=True,clearAxes = True):\n",
    "    if clearAxes: G_ax.cla()        \n",
    "    displayData.plot_G_dx_dt(df\n",
    "                             ,isdfPadded=True, direction=direction, group_by=group_by, dt=dt, return_stats=False,semilogscale=semiLogScale,ax=G_ax,equal_particle_weight=equal_weight_per_particle)\n",
    "    G_ax.set_xlim([-x_lim,x_lim])\n",
    "    G_ax.set_ylim([1e-6,1e1]) if semiLogScale else G_ax.set_ylim([0,2.])   \n",
    "    G_ax.grid(True)\n",
    "    \n",
    "#     sns.move_legend(G_ax,\"lower left\")\n",
    "#     plt.setp(G_ax.get_legend().get_texts(), fontsize='7')  # for legend text\n",
    "#     plt.setp(G_ax.get_legend().get_title(), fontsize='8')  # for legend title\n"
   ]
  }
 ],
 "metadata": {
  "kernelspec": {
   "display_name": "Python 3 (ipykernel)",
   "language": "python",
   "name": "python3"
  },
  "language_info": {
   "codemirror_mode": {
    "name": "ipython",
    "version": 3
   },
   "file_extension": ".py",
   "mimetype": "text/x-python",
   "name": "python",
   "nbconvert_exporter": "python",
   "pygments_lexer": "ipython3",
   "version": "3.8.12"
  },
  "vscode": {
   "interpreter": {
    "hash": "d99ddf66d0e328f1ed61e6d11f0b4b4d5a832949fbee6fc3c8404d524ad207a2"
   }
  }
 },
 "nbformat": 4,
 "nbformat_minor": 5
}
